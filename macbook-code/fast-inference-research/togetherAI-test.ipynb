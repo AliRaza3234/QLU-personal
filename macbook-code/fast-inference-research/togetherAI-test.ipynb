{
 "cells": [
  {
   "cell_type": "code",
   "execution_count": 11,
   "metadata": {},
   "outputs": [],
   "source": [
    "from dotenv import load_dotenv\n",
    "import os \n",
    "\n",
    "_ = load_dotenv()\n"
   ]
  },
  {
   "cell_type": "code",
   "execution_count": 2,
   "metadata": {},
   "outputs": [],
   "source": [
    "NER_MANAGEMENT_LEVEL_TITLE_SYSTEM_PROMPT_ORIGINAL = \"\"\"\n",
    "You are an intelligent assistant dedicated to extracting management levels and job titles from user queries. Before doing so, you must understand what a functional area is.\n",
    "\"\"\"\n",
    "\n",
    "NER_MANAGEMENT_LEVEL_TITLE_USER_PROMPT_ORIGINAL = \"\"\"\n",
    "\n",
    "Instructions:\n",
    "1. Management Levels: Only return management levels that match the predefined set: [\"Partners,\",\" \"Founder or Co-founder,\" \"Board of Directors,\" \"CSuite/Chiefs,\" \"Executive VP or Sr. VP,\" \"General Manager,\" \"Manager,\" \"Senior Partner,\" \"Junior Partner,\" \"VP,\" \"Director,\" \"Senior (All Senior-Level Individual Contributors),\" \"Mid (All Mid-Level Individual Contributors),\" \"Junior (All Junior-Level Individual Contributors)\"]. MANAGEMENT CAN ONLY BE FROM THIS PREDEFINED SET, Nothing ELSE.\n",
    "2. Job Titles: Normalize the job title after extracting it from the text. For example, convert \"ceo\" to \"Chief Executive Officer\" and always include both the full title and its abbreviation (confirmed ones), e.g., \"VP of Engineering\" and \"Vice President of Engineering.\" or \"Chief Innovation Officer\" and \"CINO\". ENSURE LOGICAL and EXACT job titles such as 'Architect' NOT 'Architect who is skilled in VR'. Job titles MUST BE CONCISE AND TO THE POINT and shouldn't include company names or region names. Do not change the title for normalization.\n",
    "3. Response Format: Your response must be a dictionary with two keys: \"management_levels\" and \"titles\". Each key should have a list of management levels and titles respectively.\n",
    "4. Identify the key phrases in a prompt. Key phrase is a title and its function, IF THE function is mentioned. If the function would be mentioned, it will be classified as a \"Job Title\". For example, \"CEOs working in Automotive Industry and VP of Engineering of Microsoft\" has the \"CEOs\" and \"VP of Engineering\" as Key Phrases. In this case ONLY VP CANNOT be considered a key phrase. ONLY CONSIDER THE KEY PHRASES MENTIONED, DO NOT ASSUME. Past and current designations dont matter.\n",
    "5. Check whether the KEY PHRASE should be classified as a Job Title or a Management Level. IT SHOULD NEVER BE CLASSIFIED INTO BOTH. This is ESSENTIAL.\n",
    "5. If a key phrase is classified as title, don't include it in the management levels. For example, if \"VP of Engineering\" is classified as title then don't include \"VP\" in management levels. Industry or company names will not be included in job titles.\n",
    "6. If a key phrase is classified as a management level, don't include it in the title. For example, if \"Vice Presidents\" is classified as management level then don't include \"Vice Presidents\" in titles. A job title will ONLY be a title and its business function. No other DETAIL should be added. A Management Level cannot COME FROM WITHIN A JOB TITLE.\n",
    "7. Remember: One instance of a key phrase should be considered for either management level or job title, not both. Each will fall either into management levels or job title but WILL NEVER FALL INTO BOTH. A KEY PHRASE CANNOT BE IN MANAGEMENT LEVELS AND TITLE, BOTH. A Management Level cannot COME FROM WITHIN A JOB TITLE. \n",
    "8. If the word 'executive' is mentioned, specific considerations should be taken into account.\n",
    "\n",
    "Take a deep breath and understand.\n",
    "Query: \"Give me VPs working in Microsoft\": # VPs is the KEY PHRASE. It will be evaluated as a whole key phrase ONLY. It cannot be classified into a management level and a title both.\n",
    "Management Level Focus: In this query, \"VPs\" should refer to individuals at the management level of Vice President within Microsoft. This means you are asking for a list of people who occupy the VP rank across various departments or divisions within the company. VPs can cover the complete domain of of 'VP' in management level. The emphasis is on their standing in the organizational hierarchy, regardless of their specific job titles. A management title will only be selected if it covers the complete domain in the predefined set.\n",
    "Job Title Focus: If you were asking about \"VPs\" in terms of job titles, you'd be interested in individuals whose specific title is \"VP\" of a certain business function, such as \"VP of Marketing\" (Marketing is a business function) or \"VP of Engineering\" (Engineering is a business function). If a function is clearly mentioned then it would be JOB TITLE. \"VP of Microsoft\" does NOT have a function (Microsoft is an organization) neither does \"Automotive VPs\" (Automotive can ONLY be an industry). Identify the BUSINESS functions accurately. Then they CANNOT come under management levels.\n",
    "Output: {\"management_levels\": [\"VP\"], \"titles\": []}\n",
    "\n",
    "Query: \"The CFOs working in google or facebook\": #CFOs is a KEY PHRASE. It will be evaluated as a whole key phrase ONLY. It cannot be classified into a management level and a title both.\n",
    "Management Level Focus: In this query, \"CFOs\" does not cover the complete 'C-Suite' domain. ONLY IF COMPLETE DOMAIN IS COVERED then the key phrase will be in management level. One job title, even if it is on the top or head of the heirarchy, does not cover the complete domain. If a user wants all 'executives', without any business function specified then three management levels will be covered, namely \"CSuite,\" \"Executive VP or Sr. VP\" and \"VP\" so all MUST come. However, the word 'executive' is mentioned in relation to a business function, only titles specific to that function should be included. For example, if 'Marketing Executives' is mentioned, titles such as 'CMO', 'Chief Marketing Officer', 'Senior VP of Marketing', 'Senior Vice President of Marketing', 'VP of Marketing', and 'Vice President of Marketing' should be included. The word 'executive' or 'executives' would, thus, NEVER be included neither as job title nor management level.\n",
    "Job Title Focus: As a CFO would only be a chief in finance, the CFO being discussed here comes under job title, not management level.\n",
    "Output: {\"management_levels\": [], \"titles\": [\"CFO\", \"Chief Finance Officer\"]} # Job titles MUST BE CONCISE and TO THE POINT, mentioning ONLY the TITLE and the BUSINESS FUNCTION if the business function is given. No added details, such as company name or group.\n",
    "\n",
    "If terms like 'leader', 'expert', 'specialist', or similar are mentioned, extract a maximum of 2-3 relevant job titles associated with those terms based on the context, focusing on the most appropriate leadership or expertise roles.\n",
    "\n",
    "For each management level and title, also tell why you put it there. If a business function can be clearly identified, the key phrase will be a JOB title. ALWAYS make the necessary changes when the word 'executive' or 'leader' or 'expert', etc., is mentioned in the user query and get LOGICAL titles. Management level of 'Manager' will not be chosen when a specific type of 'manager' (senior managers, project manager, etc.) are asked for. ONLY identify and consider complete key phrases EXPLICITLY MENTIONED IN THE PROMPT, and each key phrase will either be in management level or title, NEVER consider THE SAME KEY PHRASE for BOTH. Evaluate key phrases separately.\n",
    "Always return a JSON object in your output.\n",
    "\n",
    "User Query: {{QUERY}}\n",
    "Let's think step by step about each key phrase.\"\"\"\n"
   ]
  },
  {
   "cell_type": "code",
   "execution_count": 3,
   "metadata": {},
   "outputs": [],
   "source": [
    "\n",
    "NER_MANAGEMENT_LEVEL_TITLE_SYSTEM_PROMPT = \"\"\"You are an AI assistant tasked with extracting management levels and job titles from a given query. Your goal is to analyze the query, identify relevant key phrases, and categorize them appropriately as either management levels or job titles.\n",
    "\"\"\"\n",
    "\n",
    "NER_MANAGEMENT_LEVEL_TITLE_USER_PROMPT = \"\"\"\n",
    "Here is the query you need to analyze:\n",
    "<query>\n",
    "{{QUERY}}\n",
    "</query>\n",
    "\n",
    "Follow these steps to extract management levels and titles:\n",
    "\n",
    "1. Management Levels: Only return management levels that match the predefined set: [\"Partners,\",\" \"Founder or Co-founder,\" \"Board of Directors,\" \"CSuite/Chiefs,\" \"Executive VP or Sr. VP,\" \"General Manager,\" \"Manager,\" \"Senior Partner,\" \"Junior Partner,\" \"VP,\" \"Director,\" \"Senior (All Senior-Level Individual Contributors),\" \"Mid (All Mid-Level Individual Contributors),\" \"Junior (All Junior-Level Individual Contributors)\"]. MANAGEMENT CAN ONLY BE FROM THIS PREDEFINED SET, Nothing ELSE.\n",
    "2. Job Titles: Normalize the job title after extracting it from the text. For example, convert \"ceo\" to \"Chief Executive Officer\" and always include both the full title and its abbreviation (confirmed ones), e.g., \"VP of Engineering\" and \"Vice President of Engineering.\" or \"Chief Innovation Officer\" and \"CINO\". ENSURE LOGICAL and EXACT job titles such as 'Architect' NOT 'Architect who is skilled in VR'. Job titles MUST BE CONCISE AND TO THE POINT and shouldn't include company names or region names. Do not change the title for normalization.\n",
    "3. Response Format: Your response must be a dictionary with two keys: \"management_levels\" and \"titles\". Each key should have a list of management levels and titles respectively.\n",
    "4. Identify the key phrases in a prompt. Key phrase is a title and its function, IF THE function is mentioned. If the function would be mentioned, it will be classified as a \"Job Title\". For example, \"CEOs working in Automotive Industry and VP of Engineering of Microsoft\" has the \"CEOs\" and \"VP of Engineering\" as Key Phrases. In this case ONLY VP CANNOT be considered a key phrase. ONLY CONSIDER THE KEY PHRASES MENTIONED, DO NOT ASSUME. Past and current designations dont matter.\n",
    "5. Check whether the KEY PHRASE should be classified as a Job Title or a Management Level. IT SHOULD NEVER BE CLASSIFIED INTO BOTH. This is ESSENTIAL.\n",
    "5. If a key phrase is classified as title, don't include it in the management levels. For example, if \"VP of Engineering\" is classified as title then don't include \"VP\" in management levels. Industry or company names will not be included in job titles.\n",
    "6. If a key phrase is classified as a management level, don't include it in the title. For example, if \"Vice Presidents\" is classified as management level then don't include \"Vice Presidents\" in titles. A job title will ONLY be a title and its business function. No other DETAIL should be added. A Management Level cannot COME FROM WITHIN A JOB TITLE.\n",
    "7. Remember: One instance of a key phrase should be considered for either management level or job title, not both. Each will fall either into management levels or job title but WILL NEVER FALL INTO BOTH. A KEY PHRASE CANNOT BE IN MANAGEMENT LEVELS AND TITLE, BOTH. A Management Level cannot COME FROM WITHIN A JOB TITLE. \n",
    "8. If the word 'executive' is mentioned, specific considerations should be taken into account.\n",
    "\n",
    "Take a deep breath and understand.\n",
    "Query: \"Give me VPs working in Microsoft\": # VPs is the KEY PHRASE. It will be evaluated as a whole key phrase ONLY. It cannot be classified into a management level and a title both.\n",
    "Management Level Focus: In this query, \"VPs\" should refer to individuals at the management level of Vice President within Microsoft. This means you are asking for a list of people who occupy the VP rank across various departments or divisions within the company. VPs can cover the complete domain of of 'VP' in management level. The emphasis is on their standing in the organizational hierarchy, regardless of their specific job titles. A management title will only be selected if it covers the complete domain in the predefined set.\n",
    "Job Title Focus: If you were asking about \"VPs\" in terms of job titles, you'd be interested in individuals whose specific title is \"VP\" of a certain business function, such as \"VP of Marketing\" (Marketing is a business function) or \"VP of Engineering\" (Engineering is a business function). If a function is clearly mentioned then it would be JOB TITLE. \"VP of Microsoft\" does NOT have a function (Microsoft is an organization) neither does \"Automotive VPs\" (Automotive can ONLY be an industry). Identify the BUSINESS functions accurately. Then they CANNOT come under management levels.\n",
    "Output: {\"management_levels\": [\"VP\"], \"titles\": []}\n",
    "\n",
    "Query: \"The CFOs working in google or facebook\": #CFOs is a KEY PHRASE. It will be evaluated as a whole key phrase ONLY. It cannot be classified into a management level and a title both.\n",
    "Management Level Focus: In this query, \"CFOs\" does not cover the complete 'C-Suite' domain. ONLY IF COMPLETE DOMAIN IS COVERED then the key phrase will be in management level. One job title, even if it is on the top or head of the heirarchy, does not cover the complete domain. If a user wants all 'executives', without any business function specified then three management levels will be covered, namely \"CSuite,\" \"Executive VP or Sr. VP\" and \"VP\" so all MUST come. However, the word 'executive' is mentioned in relation to a business function, only titles specific to that function should be included. For example, if 'Marketing Executives' is mentioned, titles such as 'CMO', 'Chief Marketing Officer', 'Senior VP of Marketing', 'Senior Vice President of Marketing', 'VP of Marketing', and 'Vice President of Marketing' should be included. The word 'executive' or 'executives' would, thus, NEVER be included neither as job title nor management level.\n",
    "Job Title Focus: As a CFO would only be a chief in finance, the CFO being discussed here comes under job title, not management level.\n",
    "Output: {\"management_levels\": [], \"titles\": [\"CFO\", \"Chief Finance Officer\"]} # Job titles MUST BE CONCISE and TO THE POINT, mentioning ONLY the TITLE and the BUSINESS FUNCTION if the business function is given. No added details, such as company name or group.\n",
    "\n",
    "If terms like 'leader', 'expert', 'specialist', or similar are mentioned, extract a maximum of 2-3 relevant job titles associated with those terms based on the context, focusing on the most appropriate leadership or expertise roles.\n",
    "\n",
    "For each management level and title, also tell why you put it there. If a business function can be clearly identified, the key phrase will be a JOB title. ALWAYS make the necessary changes when the word 'executive' or 'leader' or 'expert', etc., is mentioned in the user query and get LOGICAL titles. Management level of 'Manager' will not be chosen when a specific type of 'manager' (senior managers, project manager, etc.) are asked for. ONLY identify and consider complete key phrases EXPLICITLY MENTIONED IN THE PROMPT, and each key phrase will either be in management level or title, NEVER consider THE SAME KEY PHRASE for BOTH. Evaluate key phrases separately.\n",
    "\n",
    "After analyzing the query, generate two outputs:\n",
    "\n",
    "1. A reasoning paragraph that explains your thought process step-by-step. Include:\n",
    "   - Identification of key phrases\n",
    "   - Evaluation of each key phrase (management level or job title)\n",
    "   - Reasoning behind your classifications\n",
    "   - Any special considerations (e.g., handling of 'executive' or 'leader' terms)\n",
    "   - Explanation of domain coverage for management levels\n",
    "   - Keep this moderate, not too long and not too concise\n",
    "   - While writing the reasoning, refrain from using I and addressing yourself.\n",
    "\n",
    "2. A JSON object with two keys: \"management_levels\" and \"titles\". Each key should have a list of extracted management levels and titles respectively.   \n",
    "\n",
    "Present your output in the following format:\n",
    "\n",
    "\n",
    "<rationale>\n",
    "Your step-by-step reasoning and rationale paragraph goes here.\n",
    "</rationale>\n",
    "\n",
    "<json_output>\n",
    "{\n",
    "  \"management_levels\": [...],\n",
    "  \"titles\": [...]\n",
    "}\n",
    "</json_output>\n",
    "\n",
    "\n",
    "Remember to adhere strictly to the guidelines provided, especially regarding the classification of key phrases and the handling of special terms like 'executive'.\n",
    "\"\"\"\n"
   ]
  },
  {
   "cell_type": "code",
   "execution_count": 6,
   "metadata": {},
   "outputs": [],
   "source": [
    "import json\n",
    "\n",
    "with open('../finetuning-code/queries_dataset.json') as f:\n",
    "    queries = json.load(f)['use_case_1']"
   ]
  },
  {
   "cell_type": "code",
   "execution_count": 7,
   "metadata": {},
   "outputs": [
    {
     "data": {
      "text/plain": [
       "['Looking for a ceo for our startup in Silicon Valley.',\n",
       " 'Hiring a vp of sales with experience in tech companies.',\n",
       " 'Need a cto at XYZ Corp who is graduated in CS from harvard.',\n",
       " 'Searching for a COO based in Los Angeles with prior experience in business strategy.',\n",
       " 'Seeking a vp of tech with Agile certification for our team.',\n",
       " 'Looking for an architect specializing in commercial buildings.',\n",
       " 'We need a ciso for our security firm with a strong background in encryption and networking domains.',\n",
       " 'Hiring a cfo for financial department in our firm.',\n",
       " 'Looking for a cmo at ABC Agency who has prior proven experience in marketing for large tech companies',\n",
       " 'Searching a CSO to lead our strategy team with expertise in project planning and educational background from stanford business school.']"
      ]
     },
     "execution_count": 7,
     "metadata": {},
     "output_type": "execute_result"
    }
   ],
   "source": [
    "queries"
   ]
  },
  {
   "cell_type": "code",
   "execution_count": null,
   "metadata": {},
   "outputs": [],
   "source": [
    "from together import Together\n",
    "\n",
    "client = Together()\n",
    "\n",
    "response = client.chat.completions.create(\n",
    "    model=\"meta-llama/Meta-Llama-3.1-8B-Instruct-Turbo\",\n",
    "    messages=[],\n",
    "    max_tokens=null,\n",
    "    temperature=0.7,\n",
    "    top_p=0.7,\n",
    "    top_k=50,\n",
    "    repetition_penalty=1,\n",
    "    stop=[\"<|eot_id|>\",\"<|eom_id|>\"],\n",
    "    stream=True\n",
    ")\n",
    "for token in response:\n",
    "    if hasattr(token, 'choices'):\n",
    "        print(token.choices[0].delta.content, end='', flush=True)"
   ]
  },
  {
   "cell_type": "code",
   "execution_count": 31,
   "metadata": {},
   "outputs": [],
   "source": [
    "from jinja2 import Template\n",
    "from together import Together\n",
    "\n",
    "async def together_ai_response(query, temperature=0.1, model=\"gpt-4o\"):\n",
    "\n",
    "    \"\"\"\n",
    "    Function to run prompts on chatgpt\n",
    "\n",
    "    Args:\n",
    "        key (string): openai api key\n",
    "        messages (list): list of object that has the chat that you want to process with chatgpt. i.e. system prompt, assistant prompt and user prompt\n",
    "        temperature (float, optional): Temperature of gpt for generations. Defaults to 0.7.\n",
    "        model (str, optional): The model you want to use. Defaults to \"gpt-4o\".\n",
    "\n",
    "    Returns:\n",
    "        string: chatgpt result\n",
    "    \"\"\"\n",
    "    # user_message = Template(NER_MANAGEMENT_LEVEL_TITLE_USER_PROMPT).render({\"QUERY\" : query})\n",
    "    user_message = Template(NER_MANAGEMENT_LEVEL_TITLE_USER_PROMPT_ORIGINAL).render({\"QUERY\" : query})\n",
    "    messages = [\n",
    "            # {\"role\": \"system\", \"content\": NER_MANAGEMENT_LEVEL_TITLE_SYSTEM_PROMPT},\n",
    "            {\"role\": \"system\", \"content\": NER_MANAGEMENT_LEVEL_TITLE_SYSTEM_PROMPT_ORIGINAL},\n",
    "            {\"role\": \"user\", \"content\": f\"User Query: {user_message}\"},\n",
    "            \n",
    "    ]\n",
    "\n",
    "    client = Together()\n",
    "\n",
    "    # response = client.chat.completions.create(\n",
    "    # model=\"meta-llama/Llama-3.3-70B-Instruct-Turbo\",\n",
    "    # messages=messages,\n",
    "    # max_tokens=1024,\n",
    "    # temperature=0.7,\n",
    "    # top_p=0.7,\n",
    "    # top_k=50,\n",
    "    # repetition_penalty=1,\n",
    "    # stop=[\"<|eot_id|>\",\"<|eom_id|>\"],\n",
    "    # stream=True\n",
    "    # )\n",
    "\n",
    "    response = client.chat.completions.create(\n",
    "    model=\"deepseek-ai/DeepSeek-V3\",\n",
    "    messages=messages,\n",
    "    max_tokens=1024,\n",
    "    temperature=0.7,\n",
    "    top_p=0.7,\n",
    "    top_k=50,\n",
    "    repetition_penalty=1,\n",
    "    stop=[\"<｜end▁of▁sentence｜>\"],\n",
    "    stream=True\n",
    ")\n",
    "    for token in response:\n",
    "        if hasattr(token, 'choices'):\n",
    "            print(token.choices[0].delta.content, end='', flush=True)\n",
    "    return response"
   ]
  },
  {
   "cell_type": "code",
   "execution_count": 32,
   "metadata": {},
   "outputs": [
    {
     "name": "stdout",
     "output_type": "stream",
     "text": [
      "Hiring a cfo for financial department in our firm.\n"
     ]
    }
   ],
   "source": [
    "query = queries[7]\n",
    "print(query)"
   ]
  },
  {
   "cell_type": "code",
   "execution_count": 33,
   "metadata": {},
   "outputs": [
    {
     "ename": "ValidationError",
     "evalue": "1 validation error for ChatCompletionChunk\nchoices.0.finish_reason\n  Input should be 'length', 'stop', 'eos', 'tool_calls' or 'error' [type=enum, input_value='', input_type=str]\n    For further information visit https://errors.pydantic.dev/2.10/v/enum",
     "output_type": "error",
     "traceback": [
      "\u001b[0;31m---------------------------------------------------------------------------\u001b[0m",
      "\u001b[0;31mValidationError\u001b[0m                           Traceback (most recent call last)",
      "Cell \u001b[0;32mIn[33], line 1\u001b[0m\n\u001b[0;32m----> 1\u001b[0m result \u001b[38;5;241m=\u001b[39m \u001b[38;5;28;01mawait\u001b[39;00m together_ai_response(query)\n",
      "Cell \u001b[0;32mIn[31], line 52\u001b[0m, in \u001b[0;36mtogether_ai_response\u001b[0;34m(query, temperature, model)\u001b[0m\n\u001b[1;32m     29\u001b[0m     \u001b[38;5;66;03m# response = client.chat.completions.create(\u001b[39;00m\n\u001b[1;32m     30\u001b[0m     \u001b[38;5;66;03m# model=\"meta-llama/Llama-3.3-70B-Instruct-Turbo\",\u001b[39;00m\n\u001b[1;32m     31\u001b[0m     \u001b[38;5;66;03m# messages=messages,\u001b[39;00m\n\u001b[0;32m   (...)\u001b[0m\n\u001b[1;32m     38\u001b[0m     \u001b[38;5;66;03m# stream=True\u001b[39;00m\n\u001b[1;32m     39\u001b[0m     \u001b[38;5;66;03m# )\u001b[39;00m\n\u001b[1;32m     41\u001b[0m     response \u001b[38;5;241m=\u001b[39m client\u001b[38;5;241m.\u001b[39mchat\u001b[38;5;241m.\u001b[39mcompletions\u001b[38;5;241m.\u001b[39mcreate(\n\u001b[1;32m     42\u001b[0m     model\u001b[38;5;241m=\u001b[39m\u001b[38;5;124m\"\u001b[39m\u001b[38;5;124mdeepseek-ai/DeepSeek-V3\u001b[39m\u001b[38;5;124m\"\u001b[39m,\n\u001b[1;32m     43\u001b[0m     messages\u001b[38;5;241m=\u001b[39mmessages,\n\u001b[0;32m   (...)\u001b[0m\n\u001b[1;32m     50\u001b[0m     stream\u001b[38;5;241m=\u001b[39m\u001b[38;5;28;01mTrue\u001b[39;00m\n\u001b[1;32m     51\u001b[0m )\n\u001b[0;32m---> 52\u001b[0m \u001b[43m    \u001b[49m\u001b[38;5;28;43;01mfor\u001b[39;49;00m\u001b[43m \u001b[49m\u001b[43mtoken\u001b[49m\u001b[43m \u001b[49m\u001b[38;5;129;43;01min\u001b[39;49;00m\u001b[43m \u001b[49m\u001b[43mresponse\u001b[49m\u001b[43m:\u001b[49m\n\u001b[1;32m     53\u001b[0m \u001b[43m        \u001b[49m\u001b[38;5;28;43;01mif\u001b[39;49;00m\u001b[43m \u001b[49m\u001b[38;5;28;43mhasattr\u001b[39;49m\u001b[43m(\u001b[49m\u001b[43mtoken\u001b[49m\u001b[43m,\u001b[49m\u001b[43m \u001b[49m\u001b[38;5;124;43m'\u001b[39;49m\u001b[38;5;124;43mchoices\u001b[39;49m\u001b[38;5;124;43m'\u001b[39;49m\u001b[43m)\u001b[49m\u001b[43m:\u001b[49m\n\u001b[1;32m     54\u001b[0m \u001b[43m            \u001b[49m\u001b[38;5;28;43mprint\u001b[39;49m\u001b[43m(\u001b[49m\u001b[43mtoken\u001b[49m\u001b[38;5;241;43m.\u001b[39;49m\u001b[43mchoices\u001b[49m\u001b[43m[\u001b[49m\u001b[38;5;241;43m0\u001b[39;49m\u001b[43m]\u001b[49m\u001b[38;5;241;43m.\u001b[39;49m\u001b[43mdelta\u001b[49m\u001b[38;5;241;43m.\u001b[39;49m\u001b[43mcontent\u001b[49m\u001b[43m,\u001b[49m\u001b[43m \u001b[49m\u001b[43mend\u001b[49m\u001b[38;5;241;43m=\u001b[39;49m\u001b[38;5;124;43m'\u001b[39;49m\u001b[38;5;124;43m'\u001b[39;49m\u001b[43m,\u001b[49m\u001b[43m \u001b[49m\u001b[43mflush\u001b[49m\u001b[38;5;241;43m=\u001b[39;49m\u001b[38;5;28;43;01mTrue\u001b[39;49;00m\u001b[43m)\u001b[49m\n",
      "File \u001b[0;32m~/miniconda3/envs/datumspeak/lib/python3.12/site-packages/together/resources/chat/completions.py:153\u001b[0m, in \u001b[0;36m<genexpr>\u001b[0;34m(.0)\u001b[0m\n\u001b[1;32m    150\u001b[0m \u001b[38;5;28;01mif\u001b[39;00m stream:\n\u001b[1;32m    151\u001b[0m     \u001b[38;5;66;03m# must be an iterator\u001b[39;00m\n\u001b[1;32m    152\u001b[0m     \u001b[38;5;28;01massert\u001b[39;00m \u001b[38;5;129;01mnot\u001b[39;00m \u001b[38;5;28misinstance\u001b[39m(response, TogetherResponse)\n\u001b[0;32m--> 153\u001b[0m     \u001b[38;5;28;01mreturn\u001b[39;00m (\u001b[43mChatCompletionChunk\u001b[49m\u001b[43m(\u001b[49m\u001b[38;5;241;43m*\u001b[39;49m\u001b[38;5;241;43m*\u001b[39;49m\u001b[43mline\u001b[49m\u001b[38;5;241;43m.\u001b[39;49m\u001b[43mdata\u001b[49m\u001b[43m)\u001b[49m \u001b[38;5;28;01mfor\u001b[39;00m line \u001b[38;5;129;01min\u001b[39;00m response)\n\u001b[1;32m    154\u001b[0m \u001b[38;5;28;01massert\u001b[39;00m \u001b[38;5;28misinstance\u001b[39m(response, TogetherResponse)\n\u001b[1;32m    155\u001b[0m \u001b[38;5;28;01mreturn\u001b[39;00m ChatCompletionResponse(\u001b[38;5;241m*\u001b[39m\u001b[38;5;241m*\u001b[39mresponse\u001b[38;5;241m.\u001b[39mdata)\n",
      "File \u001b[0;32m~/miniconda3/envs/datumspeak/lib/python3.12/site-packages/pydantic/main.py:214\u001b[0m, in \u001b[0;36mBaseModel.__init__\u001b[0;34m(self, **data)\u001b[0m\n\u001b[1;32m    212\u001b[0m \u001b[38;5;66;03m# `__tracebackhide__` tells pytest and some other tools to omit this function from tracebacks\u001b[39;00m\n\u001b[1;32m    213\u001b[0m __tracebackhide__ \u001b[38;5;241m=\u001b[39m \u001b[38;5;28;01mTrue\u001b[39;00m\n\u001b[0;32m--> 214\u001b[0m validated_self \u001b[38;5;241m=\u001b[39m \u001b[38;5;28;43mself\u001b[39;49m\u001b[38;5;241;43m.\u001b[39;49m\u001b[43m__pydantic_validator__\u001b[49m\u001b[38;5;241;43m.\u001b[39;49m\u001b[43mvalidate_python\u001b[49m\u001b[43m(\u001b[49m\u001b[43mdata\u001b[49m\u001b[43m,\u001b[49m\u001b[43m \u001b[49m\u001b[43mself_instance\u001b[49m\u001b[38;5;241;43m=\u001b[39;49m\u001b[38;5;28;43mself\u001b[39;49m\u001b[43m)\u001b[49m\n\u001b[1;32m    215\u001b[0m \u001b[38;5;28;01mif\u001b[39;00m \u001b[38;5;28mself\u001b[39m \u001b[38;5;129;01mis\u001b[39;00m \u001b[38;5;129;01mnot\u001b[39;00m validated_self:\n\u001b[1;32m    216\u001b[0m     warnings\u001b[38;5;241m.\u001b[39mwarn(\n\u001b[1;32m    217\u001b[0m         \u001b[38;5;124m'\u001b[39m\u001b[38;5;124mA custom validator is returning a value other than `self`.\u001b[39m\u001b[38;5;130;01m\\n\u001b[39;00m\u001b[38;5;124m'\u001b[39m\n\u001b[1;32m    218\u001b[0m         \u001b[38;5;124m\"\u001b[39m\u001b[38;5;124mReturning anything other than `self` from a top level model validator isn\u001b[39m\u001b[38;5;124m'\u001b[39m\u001b[38;5;124mt supported when validating via `__init__`.\u001b[39m\u001b[38;5;130;01m\\n\u001b[39;00m\u001b[38;5;124m\"\u001b[39m\n\u001b[1;32m    219\u001b[0m         \u001b[38;5;124m'\u001b[39m\u001b[38;5;124mSee the `model_validator` docs (https://docs.pydantic.dev/latest/concepts/validators/#model-validators) for more details.\u001b[39m\u001b[38;5;124m'\u001b[39m,\n\u001b[1;32m    220\u001b[0m         stacklevel\u001b[38;5;241m=\u001b[39m\u001b[38;5;241m2\u001b[39m,\n\u001b[1;32m    221\u001b[0m     )\n",
      "\u001b[0;31mValidationError\u001b[0m: 1 validation error for ChatCompletionChunk\nchoices.0.finish_reason\n  Input should be 'length', 'stop', 'eos', 'tool_calls' or 'error' [type=enum, input_value='', input_type=str]\n    For further information visit https://errors.pydantic.dev/2.10/v/enum"
     ]
    }
   ],
   "source": [
    "result = await together_ai_response(query)"
   ]
  },
  {
   "cell_type": "code",
   "execution_count": 37,
   "metadata": {},
   "outputs": [],
   "source": [
    "from together import Together\n",
    "\n",
    "client = Together()\n",
    "\n",
    "response = client.chat.completions.create(\n",
    "    model=\"deepseek-ai/DeepSeek-V3\",\n",
    "    messages=[\n",
    "        {\n",
    "                \"role\": \"user\",\n",
    "                \"content\": \"hello\"\n",
    "        },\n",
    "        {\n",
    "                \"role\": \"assistant\",\n",
    "                \"content\": \"Hello! How can I assist you today? 😊\"\n",
    "        }\n",
    "],\n",
    "    max_tokens=1024,\n",
    "    temperature=0.7,\n",
    "    top_p=0.7,\n",
    "    top_k=50,\n",
    "    repetition_penalty=1,\n",
    "    stop=[\"<｜end▁of▁sentence｜>\"],\n",
    "    stream=True\n",
    ")\n"
   ]
  },
  {
   "cell_type": "code",
   "execution_count": 42,
   "metadata": {},
   "outputs": [
    {
     "name": "stdout",
     "output_type": "stream",
     "text": [
      "<generator object ChatCompletions.create.<locals>.<genexpr> at 0x1203b51c0>\n"
     ]
    }
   ],
   "source": [
    "print(response)"
   ]
  },
  {
   "cell_type": "code",
   "execution_count": null,
   "metadata": {},
   "outputs": [],
   "source": []
  }
 ],
 "metadata": {
  "kernelspec": {
   "display_name": "datumspeak",
   "language": "python",
   "name": "python3"
  },
  "language_info": {
   "codemirror_mode": {
    "name": "ipython",
    "version": 3
   },
   "file_extension": ".py",
   "mimetype": "text/x-python",
   "name": "python",
   "nbconvert_exporter": "python",
   "pygments_lexer": "ipython3",
   "version": "undefined.undefined.undefined"
  }
 },
 "nbformat": 4,
 "nbformat_minor": 2
}
