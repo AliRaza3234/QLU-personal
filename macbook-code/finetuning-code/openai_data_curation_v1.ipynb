{
 "cells": [
  {
   "cell_type": "code",
   "execution_count": 15,
   "metadata": {},
   "outputs": [],
   "source": [
    "import asyncio\n",
    "import os\n",
    "from openai import AsyncOpenAI\n",
    "import pandas as pd\n",
    "from jinja2 import Template"
   ]
  },
  {
   "cell_type": "code",
   "execution_count": 16,
   "metadata": {},
   "outputs": [],
   "source": [
    "from dotenv import load_dotenv\n",
    "load_dotenv()\n",
    "key = os.getenv(\"OPENAI_API_KEY\")"
   ]
  },
  {
   "cell_type": "code",
   "execution_count": 80,
   "metadata": {},
   "outputs": [],
   "source": [
    "queries_list = [\"Executive recruitment for an Operations Director in the Maghreb to lead production and manage regional operations.\",\n",
    "                \"Executive search for a Regional Director of Development in the Pacific Islands to support economic growth initiatives.\",\n",
    "                \"Searching for a Regional General Manager in the Lesser Antilles to oversee business operations and growth strategies.\",\n",
    "                \"Generate a precise list of individuals currently serving as President, CEO, or COO in companies similar to Jawbone within the wearable technology sector. These companies focus on products such as fitness trackers, smartwatches, health monitoring devices, or other wearable electronics but do not necessarily have to manufacture them. The individuals should be based in the United States or Europe and hold an MBA degree. Exclude individuals from companies not focused on wearable technology. Precision is important\",]"
   ]
  },
  {
   "cell_type": "code",
   "execution_count": 166,
   "metadata": {},
   "outputs": [],
   "source": [
    "USE_CASE_GENERATION_SYSTEM = \"\"\"You are an AI assistant tasked with analyzing instruction statements and converting them into clear, comprehensive use cases. You should break down complex requirements into understandable components and provide practical examples. Focus on clarity, precision, and actionable insights.\"\"\"\n",
    "USE_CASE_GENERATION_USER = \"\"\"\n",
    "Please analyze this instruction statement and create a detailed use case that explains:\n",
    "\n",
    "1. The system's primary objective\n",
    "2. The rules and constraints for processing the information\n",
    "3. The expected outcomes\n",
    "\n",
    "Write the use case in an \"As a system...\" format and include specific examples demonstrating correct implementation.\n",
    "\n",
    "Instruction Statement:\n",
    "{{INSTRUCTION}}\n",
    "\"\"\""
   ]
  },
  {
   "cell_type": "code",
   "execution_count": 184,
   "metadata": {},
   "outputs": [],
   "source": [
    "QUERY_GENERATION_PROMPT_SYSTEM = \"\"\"You are an AI assistant tasked with generating recruitment queries based on a given use case. Your goal is to create a set of queries that reflect the original, unprocessed state of job titles and related information as mentioned in the use case, before any normalization or standardization occurs.\"\"\" \n",
    "QUERY_GENERATION_PROMPT_USER = \"\"\"\n",
    "Here is the use case you should base your queries on:\n",
    "\n",
    "{{USE_CASE}}\n",
    "\n",
    "Analyze the use case carefully, paying attention to:\n",
    "1. The types of job titles mentioned\n",
    "2. Any variations or non-standard forms of job titles\n",
    "3. Additional information included with job titles (e.g., company names, locations)\n",
    "4. Different seniority levels or specializations mentioned\n",
    "\n",
    "Generate 10 diverse recruitment queries that represent the \"before\" state of the data, as it would appear prior to being processed by the job title normalization system described in the use case. Your queries should:\n",
    "\n",
    "1. Include the non-standardized or varied forms of job titles\n",
    "2. Incorporate any additional information (like company names or locations) that the system is meant to remove\n",
    "3. Reflect different aspects mentioned in the use case (e.g., different seniority levels, specializations)\n",
    "4. Mimic realistic search queries a recruiter might use before data normalization\n",
    "\n",
    "Remember, the goal is to create queries that showcase the type of data the normalization system is designed to process, not the output of the system.\n",
    "\n",
    "Provide your response as a JSON list of strings, without any additional explanation or HTML tags. Start your response with:\n",
    "\n",
    "Each query should be on a new line and enclosed in double quotes, with a comma at the end (except for the last query). Ensure that the queries are diverse and cover different aspects mentioned in the use case.\"\"\" "
   ]
  },
  {
   "cell_type": "code",
   "execution_count": 121,
   "metadata": {},
   "outputs": [],
   "source": [
    "NER_MANAGEMENT_LEVEL_TITLE_SYSTEM_PROMPT_ORIGINAL = \"\"\"\n",
    "You are an intelligent assistant dedicated to extracting management levels and job titles from user queries. Before doing so, you must understand what a functional area is.\n",
    "\"\"\"\n",
    "\n",
    "NER_MANAGEMENT_LEVEL_TITLE_USER_PROMPT_ORIGINAL = \"\"\"\n",
    "\n",
    "Instructions:\n",
    "1. Management Levels: Only return management levels that match the predefined set: [\"Partners,\",\" \"Founder or Co-founder,\" \"Board of Directors,\" \"CSuite/Chiefs,\" \"Executive VP or Sr. VP,\" \"General Manager,\" \"Manager,\" \"Senior Partner,\" \"Junior Partner,\" \"VP,\" \"Director,\" \"Senior (All Senior-Level Individual Contributors),\" \"Mid (All Mid-Level Individual Contributors),\" \"Junior (All Junior-Level Individual Contributors)\"]. MANAGEMENT CAN ONLY BE FROM THIS PREDEFINED SET, Nothing ELSE.\n",
    "2. Job Titles: Normalize the job title after extracting it from the text. For example, convert \"ceo\" to \"Chief Executive Officer\" and always include both the full title and its abbreviation (confirmed ones), e.g., \"VP of Engineering\" and \"Vice President of Engineering.\" or \"Chief Innovation Officer\" and \"CINO\". ENSURE LOGICAL and EXACT job titles such as 'Architect' NOT 'Architect who is skilled in VR'. Job titles MUST BE CONCISE AND TO THE POINT and shouldn't include company names or region names. Do not change the title for normalization.\n",
    "3. Response Format: Your response must be a dictionary with two keys: \"management_levels\" and \"titles\". Each key should have a list of management levels and titles respectively.\n",
    "4. Identify the key phrases in a prompt. Key phrase is a title and its function, IF THE function is mentioned. If the function would be mentioned, it will be classified as a \"Job Title\". For example, \"CEOs working in Automotive Industry and VP of Engineering of Microsoft\" has the \"CEOs\" and \"VP of Engineering\" as Key Phrases. In this case ONLY VP CANNOT be considered a key phrase. ONLY CONSIDER THE KEY PHRASES MENTIONED, DO NOT ASSUME. Past and current designations dont matter.\n",
    "5. Check whether the KEY PHRASE should be classified as a Job Title or a Management Level. IT SHOULD NEVER BE CLASSIFIED INTO BOTH. This is ESSENTIAL.\n",
    "5. If a key phrase is classified as title, don't include it in the management levels. For example, if \"VP of Engineering\" is classified as title then don't include \"VP\" in management levels. Industry or company names will not be included in job titles.\n",
    "6. If a key phrase is classified as a management level, don't include it in the title. For example, if \"Vice Presidents\" is classified as management level then don't include \"Vice Presidents\" in titles. A job title will ONLY be a title and its business function. No other DETAIL should be added. A Management Level cannot COME FROM WITHIN A JOB TITLE.\n",
    "7. Remember: One instance of a key phrase should be considered for either management level or job title, not both. Each will fall either into management levels or job title but WILL NEVER FALL INTO BOTH. A KEY PHRASE CANNOT BE IN MANAGEMENT LEVELS AND TITLE, BOTH. A Management Level cannot COME FROM WITHIN A JOB TITLE. \n",
    "8. If the word 'executive' is mentioned, specific considerations should be taken into account.\n",
    "\n",
    "Take a deep breath and understand.\n",
    "Query: \"Give me VPs working in Microsoft\": # VPs is the KEY PHRASE. It will be evaluated as a whole key phrase ONLY. It cannot be classified into a management level and a title both.\n",
    "Management Level Focus: In this query, \"VPs\" should refer to individuals at the management level of Vice President within Microsoft. This means you are asking for a list of people who occupy the VP rank across various departments or divisions within the company. VPs can cover the complete domain of of 'VP' in management level. The emphasis is on their standing in the organizational hierarchy, regardless of their specific job titles. A management title will only be selected if it covers the complete domain in the predefined set.\n",
    "Job Title Focus: If you were asking about \"VPs\" in terms of job titles, you'd be interested in individuals whose specific title is \"VP\" of a certain business function, such as \"VP of Marketing\" (Marketing is a business function) or \"VP of Engineering\" (Engineering is a business function). If a function is clearly mentioned then it would be JOB TITLE. \"VP of Microsoft\" does NOT have a function (Microsoft is an organization) neither does \"Automotive VPs\" (Automotive can ONLY be an industry). Identify the BUSINESS functions accurately. Then they CANNOT come under management levels.\n",
    "Output: {\"management_levels\": [\"VP\"], \"titles\": []}\n",
    "\n",
    "Query: \"The CFOs working in google or facebook\": #CFOs is a KEY PHRASE. It will be evaluated as a whole key phrase ONLY. It cannot be classified into a management level and a title both.\n",
    "Management Level Focus: In this query, \"CFOs\" does not cover the complete 'C-Suite' domain. ONLY IF COMPLETE DOMAIN IS COVERED then the key phrase will be in management level. One job title, even if it is on the top or head of the heirarchy, does not cover the complete domain. If a user wants all 'executives', without any business function specified then three management levels will be covered, namely \"CSuite,\" \"Executive VP or Sr. VP\" and \"VP\" so all MUST come. However, the word 'executive' is mentioned in relation to a business function, only titles specific to that function should be included. For example, if 'Marketing Executives' is mentioned, titles such as 'CMO', 'Chief Marketing Officer', 'Senior VP of Marketing', 'Senior Vice President of Marketing', 'VP of Marketing', and 'Vice President of Marketing' should be included. The word 'executive' or 'executives' would, thus, NEVER be included neither as job title nor management level.\n",
    "Job Title Focus: As a CFO would only be a chief in finance, the CFO being discussed here comes under job title, not management level.\n",
    "Output: {\"management_levels\": [], \"titles\": [\"CFO\", \"Chief Finance Officer\"]} # Job titles MUST BE CONCISE and TO THE POINT, mentioning ONLY the TITLE and the BUSINESS FUNCTION if the business function is given. No added details, such as company name or group.\n",
    "\n",
    "If terms like 'leader', 'expert', 'specialist', or similar are mentioned, extract a maximum of 2-3 relevant job titles associated with those terms based on the context, focusing on the most appropriate leadership or expertise roles.\n",
    "\n",
    "For each management level and title, also tell why you put it there. If a business function can be clearly identified, the key phrase will be a JOB title. ALWAYS make the necessary changes when the word 'executive' or 'leader' or 'expert', etc., is mentioned in the user query and get LOGICAL titles. Management level of 'Manager' will not be chosen when a specific type of 'manager' (senior managers, project manager, etc.) are asked for. ONLY identify and consider complete key phrases EXPLICITLY MENTIONED IN THE PROMPT, and each key phrase will either be in management level or title, NEVER consider THE SAME KEY PHRASE for BOTH. Evaluate key phrases separately.\n",
    "Always return a JSON object in your output.\n",
    "\n",
    "User Query: {{QUERY}}\n",
    "Let's think step by step about each key phrase.\"\"\"\n"
   ]
  },
  {
   "cell_type": "code",
   "execution_count": 145,
   "metadata": {},
   "outputs": [],
   "source": [
    "\n",
    "# NER_MANAGEMENT_LEVEL_TITLE_SYSTEM_PROMPT = \"\"\"You are an AI assistant tasked with extracting management levels and job titles from a given query. Your goal is to analyze the query, identify relevant key phrases, and categorize them appropriately as either management levels or job titles.\n",
    "# \"\"\"\n",
    "\n",
    "# NER_MANAGEMENT_LEVEL_TITLE_USER_PROMPT = \"\"\"\n",
    "# Here is the query you need to analyze:\n",
    "# <query>\n",
    "# {{QUERY}}\n",
    "# </query>\n",
    "\n",
    "# Follow these steps to extract management levels and titles:\n",
    "\n",
    "# 1. Management Levels: Only return management levels that match the predefined set: [\"Partners,\",\" \"Founder or Co-founder,\" \"Board of Directors,\" \"CSuite/Chiefs,\" \"Executive VP or Sr. VP,\" \"General Manager,\" \"Manager,\" \"Senior Partner,\" \"Junior Partner,\" \"VP,\" \"Director,\" \"Senior (All Senior-Level Individual Contributors),\" \"Mid (All Mid-Level Individual Contributors),\" \"Junior (All Junior-Level Individual Contributors)\"]. MANAGEMENT CAN ONLY BE FROM THIS PREDEFINED SET, Nothing ELSE.\n",
    "# 2. Job Titles: Normalize the job title after extracting it from the text. For example, convert \"ceo\" to \"Chief Executive Officer\" and always include both the full title and its abbreviation (confirmed ones), e.g., \"VP of Engineering\" and \"Vice President of Engineering.\" or \"Chief Innovation Officer\" and \"CINO\". ENSURE LOGICAL and EXACT job titles such as 'Architect' NOT 'Architect who is skilled in VR'. Job titles MUST BE CONCISE AND TO THE POINT and shouldn't include company names or region names. Do not change the title for normalization.\n",
    "# 3. Response Format: Your response must be a dictionary with two keys: \"management_levels\" and \"titles\". Each key should have a list of management levels and titles respectively.\n",
    "# 4. Identify the key phrases in a prompt. Key phrase is a title and its function, IF THE function is mentioned. If the function would be mentioned, it will be classified as a \"Job Title\". For example, \"CEOs working in Automotive Industry and VP of Engineering of Microsoft\" has the \"CEOs\" and \"VP of Engineering\" as Key Phrases. In this case ONLY VP CANNOT be considered a key phrase. ONLY CONSIDER THE KEY PHRASES MENTIONED, DO NOT ASSUME. Past and current designations dont matter.\n",
    "# 5. Check whether the KEY PHRASE should be classified as a Job Title or a Management Level. IT SHOULD NEVER BE CLASSIFIED INTO BOTH. This is ESSENTIAL.\n",
    "# 5. If a key phrase is classified as title, don't include it in the management levels. For example, if \"VP of Engineering\" is classified as title then don't include \"VP\" in management levels. Industry or company names will not be included in job titles.\n",
    "# 6. If a key phrase is classified as a management level, don't include it in the title. For example, if \"Vice Presidents\" is classified as management level then don't include \"Vice Presidents\" in titles. A job title will ONLY be a title and its business function. No other DETAIL should be added. A Management Level cannot COME FROM WITHIN A JOB TITLE.\n",
    "# 7. Remember: One instance of a key phrase should be considered for either management level or job title, not both. Each will fall either into management levels or job title but WILL NEVER FALL INTO BOTH. A KEY PHRASE CANNOT BE IN MANAGEMENT LEVELS AND TITLE, BOTH. A Management Level cannot COME FROM WITHIN A JOB TITLE. \n",
    "# 8. If the word 'executive' is mentioned, specific considerations should be taken into account.\n",
    "\n",
    "# Take a deep breath and understand.\n",
    "# Query: \"Give me VPs working in Microsoft\": # VPs is the KEY PHRASE. It will be evaluated as a whole key phrase ONLY. It cannot be classified into a management level and a title both.\n",
    "# Management Level Focus: In this query, \"VPs\" should refer to individuals at the management level of Vice President within Microsoft. This means you are asking for a list of people who occupy the VP rank across various departments or divisions within the company. VPs can cover the complete domain of of 'VP' in management level. The emphasis is on their standing in the organizational hierarchy, regardless of their specific job titles. A management title will only be selected if it covers the complete domain in the predefined set.\n",
    "# Job Title Focus: If you were asking about \"VPs\" in terms of job titles, you'd be interested in individuals whose specific title is \"VP\" of a certain business function, such as \"VP of Marketing\" (Marketing is a business function) or \"VP of Engineering\" (Engineering is a business function). If a function is clearly mentioned then it would be JOB TITLE. \"VP of Microsoft\" does NOT have a function (Microsoft is an organization) neither does \"Automotive VPs\" (Automotive can ONLY be an industry). Identify the BUSINESS functions accurately. Then they CANNOT come under management levels.\n",
    "# Output: {\"management_levels\": [\"VP\"], \"titles\": []}\n",
    "\n",
    "# Query: \"The CFOs working in google or facebook\": #CFOs is a KEY PHRASE. It will be evaluated as a whole key phrase ONLY. It cannot be classified into a management level and a title both.\n",
    "# Management Level Focus: In this query, \"CFOs\" does not cover the complete 'C-Suite' domain. ONLY IF COMPLETE DOMAIN IS COVERED then the key phrase will be in management level. One job title, even if it is on the top or head of the heirarchy, does not cover the complete domain. If a user wants all 'executives', without any business function specified then three management levels will be covered, namely \"CSuite,\" \"Executive VP or Sr. VP\" and \"VP\" so all MUST come. However, the word 'executive' is mentioned in relation to a business function, only titles specific to that function should be included. For example, if 'Marketing Executives' is mentioned, titles such as 'CMO', 'Chief Marketing Officer', 'Senior VP of Marketing', 'Senior Vice President of Marketing', 'VP of Marketing', and 'Vice President of Marketing' should be included. The word 'executive' or 'executives' would, thus, NEVER be included neither as job title nor management level.\n",
    "# Job Title Focus: As a CFO would only be a chief in finance, the CFO being discussed here comes under job title, not management level.\n",
    "# Output: {\"management_levels\": [], \"titles\": [\"CFO\", \"Chief Finance Officer\"]} # Job titles MUST BE CONCISE and TO THE POINT, mentioning ONLY the TITLE and the BUSINESS FUNCTION if the business function is given. No added details, such as company name or group.\n",
    "\n",
    "# If terms like 'leader', 'expert', 'specialist', or similar are mentioned, extract a maximum of 2-3 relevant job titles associated with those terms based on the context, focusing on the most appropriate leadership or expertise roles.\n",
    "\n",
    "# For each management level and title, also tell why you put it there. If a business function can be clearly identified, the key phrase will be a JOB title. ALWAYS make the necessary changes when the word 'executive' or 'leader' or 'expert', etc., is mentioned in the user query and get LOGICAL titles. Management level of 'Manager' will not be chosen when a specific type of 'manager' (senior managers, project manager, etc.) are asked for. ONLY identify and consider complete key phrases EXPLICITLY MENTIONED IN THE PROMPT, and each key phrase will either be in management level or title, NEVER consider THE SAME KEY PHRASE for BOTH. Evaluate key phrases separately.\n",
    "\n",
    "# After analyzing the query, generate two outputs:\n",
    "\n",
    "# 1. A reasoning paragraph that explains your thought process step-by-step. Include:\n",
    "#    - Identification of key phrases\n",
    "#    - Evaluation of each key phrase (management level or job title)\n",
    "#    - Reasoning behind your classifications\n",
    "#    - Any special considerations (e.g., handling of 'executive' or 'leader' terms)\n",
    "#    - Explanation of domain coverage for management levels\n",
    "#    - Keep this moderate, not too long and not too concise\n",
    "#    - While writing the reasoning, refrain from using I and addressing yourself.\n",
    "\n",
    "# 2. A JSON object with two keys: \"management_levels\" and \"titles\". Each key should have a list of extracted management levels and titles respectively.   \n",
    "\n",
    "# Present your output in the following format:\n",
    "\n",
    "\n",
    "# <rationale>\n",
    "# Your step-by-step reasoning and rationale paragraph goes here.\n",
    "# </rationale>\n",
    "\n",
    "# <json_output>\n",
    "# {\n",
    "#   \"management_levels\": [...],\n",
    "#   \"titles\": [...]\n",
    "# }\n",
    "# </json_output>\n",
    "\n",
    "\n",
    "# Remember to adhere strictly to the guidelines provided, especially regarding the classification of key phrases and the handling of special terms like 'executive'.\n",
    "# \"\"\"\n"
   ]
  },
  {
   "cell_type": "code",
   "execution_count": 271,
   "metadata": {},
   "outputs": [],
   "source": [
    "async def chatgpt_response_a(query, temperature=0.7, model=\"gpt-4o-mini\", **kwargs):\n",
    "\n",
    "    \"\"\"\n",
    "    Function to run prompts on chatgpt\n",
    "\n",
    "    Args:\n",
    "        key (string): openai api key\n",
    "        messages (list): list of object that has the chat that you want to process with chatgpt. i.e. system prompt, assistant prompt and user prompt\n",
    "        temperature (float, optional): Temperature of gpt for generations. Defaults to 0.7.\n",
    "        model (str, optional): The model you want to use. Defaults to \"gpt-4o-mini\".\n",
    "\n",
    "    Returns:\n",
    "        string: chatgpt result\n",
    "    \"\"\"\n",
    "    # user_message = Template(NER_MANAGEMENT_LEVEL_TITLE_USER_PROMPT).render({\"QUERY\" : query})\n",
    "    user_message = Template(NER_MANAGEMENT_LEVEL_TITLE_USER_PROMPT_ORIGINAL).render({\"QUERY\" : query})\n",
    "    messages = [\n",
    "            # {\"role\": \"system\", \"content\": NER_MANAGEMENT_LEVEL_TITLE_SYSTEM_PROMPT},\n",
    "            {\"role\": \"system\", \"content\": NER_MANAGEMENT_LEVEL_TITLE_SYSTEM_PROMPT_ORIGINAL},\n",
    "            {\"role\": \"user\", \"content\": f\"User Query: {user_message}\"},\n",
    "            \n",
    "    ]\n",
    "    openai_object = {\n",
    "        \"model\": model,\n",
    "        \"messages\": messages,\n",
    "        \"temperature\": temperature,\n",
    "    }\n",
    "    aclient = AsyncOpenAI(api_key=key)\n",
    "\n",
    "    openai_object.update(kwargs)\n",
    "\n",
    "    response = await aclient.chat.completions.create(**openai_object)\n",
    "    response = response.__dict__\n",
    "    response[\"choices\"] = [choice.__dict__ for choice in response[\"choices\"]]\n",
    "    for choice in response[\"choices\"]:\n",
    "        choice[\"message\"] = choice[\"message\"].__dict__\n",
    "    return response\n",
    "\n",
    "\n",
    "\n",
    "async def generate_queries_a(query, temperature=0.7, model=\"gpt-4o-mini\", **kwargs):\n",
    "\n",
    "    \"\"\"\n",
    "    Function to run prompts on chatgpt\n",
    "\n",
    "    Args:\n",
    "        key (string): openai api key\n",
    "        messages (list): list of object that has the chat that you want to process with chatgpt. i.e. system prompt, assistant prompt and user prompt\n",
    "        temperature (float, optional): Temperature of gpt for generations. Defaults to 0.7.\n",
    "        model (str, optional): The model you want to use. Defaults to \"gpt-4o-mini\".\n",
    "\n",
    "    Returns:\n",
    "        string: chatgpt result\n",
    "    \"\"\"\n",
    "    # user_message = Template(NER_MANAGEMENT_LEVEL_TITLE_USER_PROMPT).render({\"QUERY\" : query})\n",
    "    user_message = Template(QUERY_GENERATION_PROMPT_USER).render({\"USE_CASE\" : query})\n",
    "    messages = [\n",
    "            # {\"role\": \"system\", \"content\": NER_MANAGEMENT_LEVEL_TITLE_SYSTEM_PROMPT},\n",
    "            {\"role\": \"system\", \"content\": QUERY_GENERATION_PROMPT_SYSTEM},\n",
    "            {\"role\": \"user\", \"content\": f\"User Query: {user_message}\"},\n",
    "            \n",
    "    ]\n",
    "    openai_object = {\n",
    "        \"model\": model,\n",
    "        \"messages\": messages,\n",
    "        \"temperature\": temperature,\n",
    "    }\n",
    "    aclient = AsyncOpenAI(api_key=key)\n",
    "\n",
    "    openai_object.update(kwargs)\n",
    "\n",
    "    response = await aclient.chat.completions.create(**openai_object)\n",
    "    response = response.__dict__\n",
    "    response[\"choices\"] = [choice.__dict__ for choice in response[\"choices\"]]\n",
    "    for choice in response[\"choices\"]:\n",
    "        choice[\"message\"] = choice[\"message\"].__dict__\n",
    "    return response\n",
    "\n",
    "\n",
    "\n",
    "\n",
    "async def generate_usecase_a(query, temperature=0.7, model=\"gpt-4o-mini\", **kwargs):\n",
    "\n",
    "    \"\"\"\n",
    "    Function to run prompts on chatgpt\n",
    "\n",
    "    Args:\n",
    "        key (string): openai api key\n",
    "        messages (list): list of object that has the chat that you want to process with chatgpt. i.e. system prompt, assistant prompt and user prompt\n",
    "        temperature (float, optional): Temperature of gpt for generations. Defaults to 0.7.\n",
    "        model (str, optional): The model you want to use. Defaults to \"gpt-4o-mini\".\n",
    "\n",
    "    Returns:\n",
    "        string: chatgpt result\n",
    "    \"\"\"\n",
    "    # user_message = Template(NER_MANAGEMENT_LEVEL_TITLE_USER_PROMPT).render({\"QUERY\" : query})\n",
    "    user_message = Template(USE_CASE_GENERATION_USER).render({\"INSTRUCTION\" : query})\n",
    "    messages = [\n",
    "            # {\"role\": \"system\", \"content\": NER_MANAGEMENT_LEVEL_TITLE_SYSTEM_PROMPT},\n",
    "            {\"role\": \"system\", \"content\": USE_CASE_GENERATION_SYSTEM},\n",
    "            {\"role\": \"user\", \"content\": f\"User Query: {user_message}\"},\n",
    "            \n",
    "    ]\n",
    "    openai_object = {\n",
    "        \"model\": model,\n",
    "        \"messages\": messages,\n",
    "        \"temperature\": temperature,\n",
    "    }\n",
    "    aclient = AsyncOpenAI(api_key=key)\n",
    "\n",
    "    openai_object.update(kwargs)\n",
    "\n",
    "    response = await aclient.chat.completions.create(**openai_object)\n",
    "    response = response.__dict__\n",
    "    response[\"choices\"] = [choice.__dict__ for choice in response[\"choices\"]]\n",
    "    for choice in response[\"choices\"]:\n",
    "        choice[\"message\"] = choice[\"message\"].__dict__\n",
    "    return response"
   ]
  },
  {
   "cell_type": "code",
   "execution_count": 257,
   "metadata": {},
   "outputs": [],
   "source": [
    "instruction1 = \"\"\"Job Titles: Normalize the job title after extracting it from the text. For example, convert \"ceo\" to \"Chief Executive Officer\" and always include both the full title and its abbreviation (confirmed ones), e.g., \"VP of Engineering\" and \"Vice President of Engineering.\" or \"Chief Innovation Officer\" and \"CINO\". ENSURE LOGICAL and EXACT job titles such as 'Architect' NOT 'Architect who is skilled in VR'. Job titles MUST BE CONCISE AND TO THE POINT and shouldn't include company names or region names. Do not change the title for normalization.\"\"\"\n",
    "instruction2 = \"\"\"Identify the key phrases in a prompt. Key phrase is a title and its function, IF THE function is mentioned. If the function would be mentioned, it will be classified as a \"Job Title\". For example, \"CEOs working in Automotive Industry and VP of Engineering of Microsoft\" has the \"CEOs\" and \"VP of Engineering\" as Key Phrases. In this case ONLY VP CANNOT be considered a key phrase. ONLY CONSIDER THE KEY PHRASES MENTIONED, DO NOT ASSUME. Past and current designations dont matter.\"\"\"\n",
    "instruction3 = \"\"\"Check whether the KEY PHRASE should be classified as a Job Title or a Management Level. IT SHOULD NEVER BE CLASSIFIED INTO BOTH. This is ESSENTIAL.\n",
    "If a key phrase is classified as title, don't include it in the management levels. For example, if \"VP of Engineering\" is classified as title then don't include \"VP\" in management levels. Industry or company names will not be included in job titles.\n",
    "If a key phrase is classified as a management level, don't include it in the title. For example, if \"Vice Presidents\" is classified as management level then don't include \"Vice Presidents\" in titles. A job title will ONLY be a title and its business function. No other DETAIL should be added. A Management Level cannot COME FROM WITHIN A JOB TITLE.\n",
    "\"\"\"\n",
    "instruction4 = \"\"\"Management level of 'Manager' will not be chosen when a specific type of 'manager' (senior managers, project manager, etc.) are asked for.\"\"\"\n",
    "instruction5 = \"\"\"If terms like 'leader', 'expert', 'specialist', or similar are mentioned, extract a maximum of 2-3 relevant job titles. ALWAYS make the necessary changes when the word 'executive' or 'leader' or 'expert', etc., is mentioned in the user query and get LOGICAL titles.\"\"\"\n",
    "instruction6 = \"\"\"Queries where both management level and title is present such as `Find me a Director for Engineering who has previously worked as a VP of a tech firm\"\"\"\n",
    "# instruction7 = \"\"\"Queries where \"\"\"\n",
    "\n"
   ]
  },
  {
   "cell_type": "code",
   "execution_count": 258,
   "metadata": {},
   "outputs": [],
   "source": [
    "use_case = await generate_usecase_a(instruction6)\n",
    "use_case = use_case['choices'][0]['message']['content']"
   ]
  },
  {
   "cell_type": "code",
   "execution_count": 259,
   "metadata": {},
   "outputs": [
    {
     "name": "stdout",
     "output_type": "stream",
     "text": [
      "**Use Case Title:** Querying Management Level and Title for Recruitment\n",
      "\n",
      "**1. The system's primary objective:**\n",
      "As a system, the primary objective is to facilitate recruitment by efficiently processing queries that specify both management level and job title. This will enable users to find candidates who meet specific criteria, ensuring that the recruitment process is targeted and effective.\n",
      "\n",
      "**2. The rules and constraints for processing the information:**\n",
      "- The query must include both a management level (e.g., Director, VP) and a job title (e.g., Engineering).\n",
      "- The system should only return candidates who have previously held the specified job title and management level.\n",
      "- The search should be limited to candidates who have worked in relevant sectors (e.g., technology firms).\n",
      "- The system must handle variations in title formats (e.g., 'Vice President' vs. 'VP') and synonyms (e.g., 'Engineering' vs. 'Tech').\n",
      "- The query should ignore candidates that do not meet both criteria, ensuring precision in results.\n",
      "\n",
      "**3. The expected outcomes:**\n",
      "- The system will return a list of candidates who are currently or have been at the specified management level and job title.\n",
      "- Each returned candidate profile will include relevant experience, contact information, and additional qualifications.\n",
      "- Users will be able to refine their search further if needed, such as filtering by additional criteria (e.g., location, years of experience).\n",
      "\n",
      "### Example Implementation\n",
      "\n",
      "**Example Query:**\n",
      "\"Find me a Director for Engineering who has previously worked as a VP of a tech firm.\"\n",
      "\n",
      "**System Processing Steps:**\n",
      "1. **Input Validation:** The system checks that both 'Director' (management level) and 'Engineering' (job title) are present in the query.\n",
      "2. **Title Normalization:** The system recognizes 'Director' and 'VP' as distinct management levels and identifies variations (e.g., 'Vice President').\n",
      "3. **Candidate Search:** The system searches the database for candidates who directly match the criteria:\n",
      "   - **Current Title:** Director of Engineering.\n",
      "   - **Previous Title:** VP at a technology firm.\n",
      "4. **Sector Filtering:** The system filters candidates to ensure that only those who have worked in technology firms are included.\n",
      "5. **Result Compilation:** The system compiles a list of candidates that meet the criteria, presenting their profiles with relevant details.\n",
      "\n",
      "**Expected Output Example:**\n",
      "- **Candidate 1:**\n",
      "  - Name: John Doe\n",
      "  - Current Position: Director of Engineering at Tech Innovations Inc.\n",
      "  - Previous Position: Vice President of Operations at Future Tech Co.\n",
      "  - Contact: john.doe@email.com\n",
      "\n",
      "- **Candidate 2:**\n",
      "  - Name: Jane Smith\n",
      "  - Current Position: Director of Engineering at NextGen Solutions.\n",
      "  - Previous Position: VP of Product Development at Leading Tech Ltd.\n",
      "  - Contact: jane.smith@email.com\n",
      "\n",
      "By following this structured approach, the system effectively meets the user’s request and delivers actionable candidate profiles that align with specific recruitment needs.\n"
     ]
    }
   ],
   "source": [
    "print(use_case)"
   ]
  },
  {
   "cell_type": "code",
   "execution_count": 260,
   "metadata": {},
   "outputs": [],
   "source": [
    "queries = await generate_queries_a(use_case)"
   ]
  },
  {
   "cell_type": "code",
   "execution_count": 261,
   "metadata": {},
   "outputs": [
    {
     "data": {
      "text/plain": [
       "\"If terms like 'leader', 'expert', 'specialist', or similar are mentioned, extract a maximum of 2-3 relevant job titles. ALWAYS make the necessary changes when the word 'executive' or 'leader' or 'expert', etc., is mentioned in the user query and get LOGICAL titles.\""
      ]
     },
     "execution_count": 261,
     "metadata": {},
     "output_type": "execute_result"
    }
   ],
   "source": [
    "instruction5"
   ]
  },
  {
   "cell_type": "code",
   "execution_count": 262,
   "metadata": {},
   "outputs": [
    {
     "name": "stdout",
     "output_type": "stream",
     "text": [
      "[\n",
      "  \"Looking for a VP of Engineering at a major tech company who has held a Director role in the past.\",\n",
      "  \"Can you find me a Director of Technology who used to be a Vice President at a software firm?\",\n",
      "  \"Searching for a senior manager in Engineering, previously a VP, from any tech-related organization.\",\n",
      "  \"I need a Chief Technology Officer who has experience as an Engineering Director in a startup environment.\",\n",
      "  \"Find candidates who have been a VP of Tech and currently hold a Director position in an IT company.\",\n",
      "  \"Looking for a head of Engineering who was a Vice President in a digital solutions firm.\",\n",
      "  \"Can you locate a Director of Engineering who has experience as a VP in a telecommunications company?\",\n",
      "  \"Searching for a VP of Product who has previously been a Director at a technology startup.\",\n",
      "  \"Looking for a Director of Engineering who has held a Vice President title in a high-tech industry.\",\n",
      "  \"Find me a Director of Development with past experience as a VP in a software development company.\"\n",
      "]\n"
     ]
    }
   ],
   "source": [
    "print(queries['choices'][0]['message']['content'])"
   ]
  },
  {
   "cell_type": "code",
   "execution_count": null,
   "metadata": {},
   "outputs": [],
   "source": [
    "print"
   ]
  },
  {
   "cell_type": "code",
   "execution_count": 147,
   "metadata": {},
   "outputs": [],
   "source": [
    "import json\n",
    "import re\n",
    "\n",
    "def parse_response(text):\n",
    "    \"\"\"\n",
    "    Parse a text response containing rationale and JSON data.\n",
    "    \n",
    "    Args:\n",
    "        text (str): Input text containing rationale and JSON data\n",
    "        \n",
    "    Returns:\n",
    "        tuple: (rationale, parsed_json)\n",
    "            - rationale (str): The explanatory text before the JSON\n",
    "            - parsed_json (dict): The parsed JSON data\n",
    "    \"\"\"\n",
    "    # Find the JSON part using regex\n",
    "    # Look for content between ```json and ``` markers\n",
    "    json_match = re.search(r'```json\\s*(.*?)\\s*```', text, re.DOTALL)\n",
    "    \n",
    "    if not json_match:\n",
    "        raise ValueError(\"No JSON content found in the specified format\")\n",
    "    \n",
    "    # Extract the JSON string and parse it\n",
    "    json_str = json_match.group(1).strip()\n",
    "    parsed_json = json.loads(json_str)\n",
    "    \n",
    "    # Get the rationale (everything before the JSON)\n",
    "    rationale = text[:json_match.start()].strip()\n",
    "    \n",
    "    return rationale, parsed_json"
   ]
  },
  {
   "cell_type": "code",
   "execution_count": 148,
   "metadata": {},
   "outputs": [],
   "source": [
    "results = []"
   ]
  },
  {
   "cell_type": "code",
   "execution_count": 149,
   "metadata": {},
   "outputs": [
    {
     "name": "stdout",
     "output_type": "stream",
     "text": [
      "-----------------------------------------------\n",
      "Query: Executive recruitment for an Operations Director in the Maghreb to lead production and manage regional operations.\n",
      "Rationale:  To analyze the user query, let's identify the key phrases and determine their classifications:\n",
      "\n",
      "1. **\"Executive recruitment\"**: This phrase suggests a focus on hiring for high-level positions, but it doesn't specify a title or management level directly. Since \"executive\" is mentioned, we will not classify it as a management level or a job title.\n",
      "\n",
      "2. **\"Operations Director\"**: This is a clear job title that specifies a function (Operations). The title \"Operations Director\" falls under the category of job titles because it indicates a specific role and responsibility within an organization.\n",
      "\n",
      "3. **\"Maghreb\"**: This refers to a geographic region and does not contribute to the classification of management levels or job titles.\n",
      "\n",
      "4. **\"lead production\"** and **\"manage regional operations\"**: These phrases describe functions associated with the job title but do not introduce new key phrases.\n",
      "\n",
      "Now, let's classify the identified key phrases:\n",
      "\n",
      "- **Management Levels**: No management levels are identified in this query.\n",
      "- **Job Titles**: The identified job title is \"Operations Director.\"\n",
      "\n",
      "Based on these evaluations, the output will be:\n",
      "Response JSON:  {'management_levels': [], 'titles': ['Operations Director']}\n",
      "-----------------------------------------------\n",
      "Query: Executive search for a Regional Director of Development in the Pacific Islands to support economic growth initiatives.\n",
      "Rationale:  To analyze the provided user query step by step:\n",
      "\n",
      "1. **Identify Key Phrases**: The key phrase here is \"Regional Director of Development.\" This phrase directly indicates a job title as it specifies a role (Director) and a function (Development).\n",
      "\n",
      "2. **Classify the Key Phrase**: The phrase \"Regional Director of Development\" will be classified as a job title because it specifies a role with a clear business function (Development). The word \"Executive\" in the query does not refer to a specific job title or management level in this context but is more of a descriptor of the type of search being conducted.\n",
      "\n",
      "3. **Management Levels**: Since the key phrase has been classified as a job title, it does not belong in the management levels. The term \"Director\" is part of the job title and does not represent a separate management level in this context.\n",
      "\n",
      "4. **Output Preparation**: Based on the analysis, we will only include the classified job title in the output.\n",
      "\n",
      "Thus, the final output will be:\n",
      "Response JSON:  {'management_levels': [], 'titles': ['Regional Director of Development']}\n",
      "-----------------------------------------------\n",
      "Query: Searching for a Regional General Manager in the Lesser Antilles to oversee business operations and growth strategies.\n",
      "Rationale:  To analyze the user query \"Searching for a Regional General Manager in the Lesser Antilles to oversee business operations and growth strategies,\" we identify the key phrases and classify them accordingly.\n",
      "\n",
      "1. **Key Phrase Identification**:\n",
      "   - \"Regional General Manager\" is the key phrase here, as it indicates a specific role with a defined function.\n",
      "\n",
      "2. **Management Levels**:\n",
      "   - The term \"General Manager\" matches the predefined management levels set. It represents a management position overseeing a specific region's operations and strategies.\n",
      "\n",
      "3. **Job Titles**:\n",
      "   - The key phrase \"Regional General Manager\" indicates a specific job title with a defined function but does not specify a unique business function beyond \"General Manager.\" Therefore, it will not be classified as a job title under the given instructions.\n",
      "\n",
      "Based on this analysis:\n",
      "\n",
      "- **Management Levels**: The term \"General Manager\" is included as it is a recognized management level.\n",
      "- **Titles**: There are no specific job titles extracted from the query since \"Regional General Manager\" does not indicate a unique business function.\n",
      "\n",
      "Thus, the final JSON output will be:\n",
      "Response JSON:  {'management_levels': ['General Manager'], 'titles': []}\n",
      "-----------------------------------------------\n",
      "Query: Generate a precise list of individuals currently serving as President, CEO, or COO in companies similar to Jawbone within the wearable technology sector. These companies focus on products such as fitness trackers, smartwatches, health monitoring devices, or other wearable electronics but do not necessarily have to manufacture them. The individuals should be based in the United States or Europe and hold an MBA degree. Exclude individuals from companies not focused on wearable technology. Precision is important\n",
      "Rationale:  In the user query, we need to identify the key phrases and classify them into management levels and job titles based on the provided instructions.\n",
      "\n",
      "1. Key Phrases:\n",
      "   - \"President\"\n",
      "   - \"CEO\"\n",
      "   - \"COO\"\n",
      "\n",
      "2. Management Level Evaluation:\n",
      "   - \"President\": This term refers to a management level within organizations and can be categorized under \"Executive VP or Sr. VP\" or \"General Manager\" based on the context. However, since it is not explicitly part of the predefined management levels, we won't include it here.\n",
      "   - \"CEO\": This is a well-defined management level corresponding to \"C-Suite/Chiefs.\"\n",
      "   - \"COO\": Similar to \"CEO,\" this also corresponds to a management level within the \"C-Suite/Chiefs.\"\n",
      "\n",
      "3. Job Title Evaluation:\n",
      "   - \"President\": This can also be seen as a job title, but since it's not explicitly defined in the predefined management levels, we will not include it in titles.\n",
      "   - \"CEO\" and \"COO\" will be classified as job titles. In its normalized form, we would list \"Chief Executive Officer\" and \"CEO,\" and \"Chief Operating Officer\" and \"COO\" respectively.\n",
      "\n",
      "Based on this analysis, here is the classification:\n",
      "\n",
      "- Management Levels: \"C-Suite/Chiefs\" (for CEO and COO)\n",
      "- Job Titles: \"CEO\" (Chief Executive Officer), \"COO\" (Chief Operating Officer)\n",
      "\n",
      "However, since \"CEO\" and \"COO\" are already part of the management level \"C-Suite/Chiefs,\" we will only include them in the titles.\n",
      "\n",
      "Final output:\n",
      "Response JSON:  {'management_levels': ['C-Suite/Chiefs'], 'titles': ['CEO', 'Chief Executive Officer', 'COO', 'Chief Operating Officer']}\n"
     ]
    }
   ],
   "source": [
    "for query in queries_list:\n",
    "    result = await chatgpt_response_a(query)\n",
    "    print('-'*47)\n",
    "    print(\"Query:\", query)\n",
    "    rationale, response_json = parse_response(result['choices'][0]['message']['content'])\n",
    "    print(\"Rationale: \", rationale)\n",
    "    print(\"Response JSON: \", response_json)\n",
    "    results.append({\n",
    "        \"query\" : query,\n",
    "        \"rationale\" : rationale,\n",
    "        \"response_json\" : response_json\n",
    "    })"
   ]
  },
  {
   "cell_type": "code",
   "execution_count": 92,
   "metadata": {},
   "outputs": [],
   "source": [
    "# Creating Batch Job for 50 queries to see the current performance:"
   ]
  },
  {
   "cell_type": "code",
   "execution_count": 123,
   "metadata": {},
   "outputs": [],
   "source": [
    "import pandas as pd"
   ]
  },
  {
   "cell_type": "code",
   "execution_count": 272,
   "metadata": {},
   "outputs": [],
   "source": [
    "query = \"\"\"'Generate a precise list of individuals currently serving as President, CEO, or COO in companies similar to Jawbone within the wearable technology sector. These companies focus on products such as fitness trackers, smartwatches, health monitoring devices, or other wearable electronics but do not necessarily have to manufacture them. The individuals should be based in the United States or Europe and hold an MBA degree. Exclude individuals from companies not focused on wearable technology. Precision is important'\"\"\""
   ]
  },
  {
   "cell_type": "code",
   "execution_count": 273,
   "metadata": {},
   "outputs": [],
   "source": [
    "result = await chatgpt_response_a(query)"
   ]
  },
  {
   "cell_type": "code",
   "execution_count": 274,
   "metadata": {},
   "outputs": [],
   "source": [
    "result = result['choices'][0]['message']['content']"
   ]
  },
  {
   "cell_type": "code",
   "execution_count": 275,
   "metadata": {},
   "outputs": [
    {
     "name": "stdout",
     "output_type": "stream",
     "text": [
      "In the provided user query, the key phrases to evaluate are \"President,\" \"CEO,\" and \"COO.\"\n",
      "\n",
      "1. **President**: This title refers to a specific job function and does not encompass a complete management level as per the predefined set. Therefore, it should be classified as a job title.\n",
      "  \n",
      "2. **CEO**: This abbreviation stands for Chief Executive Officer, which is a specific job function. Thus, it is classified as a job title.\n",
      "\n",
      "3. **COO**: This abbreviation stands for Chief Operating Officer, which is also a specific job function. Hence, it is classified as a job title.\n",
      "\n",
      "Each of these key phrases represents a specific title related to a function within an organization and does not reflect a broader management level category that includes multiple roles.\n",
      "\n",
      "Now, let's summarize the classifications:\n",
      "\n",
      "- **Management Levels**: There are no management levels to extract from this query as all key phrases are specific job titles.\n",
      "- **Titles**: The titles derived from the key phrases are:\n",
      "  - \"President\"\n",
      "  - \"CEO\" (Chief Executive Officer)\n",
      "  - \"COO\" (Chief Operating Officer)\n",
      "\n",
      "Now, we will create the JSON response based on this analysis:\n",
      "\n",
      "```json\n",
      "{\n",
      "  \"management_levels\": [],\n",
      "  \"titles\": [\n",
      "    \"President\",\n",
      "    \"CEO\",\n",
      "    \"Chief Executive Officer\",\n",
      "    \"COO\",\n",
      "    \"Chief Operating Officer\"\n",
      "  ]\n",
      "}\n",
      "```\n"
     ]
    }
   ],
   "source": [
    "print(result)"
   ]
  },
  {
   "cell_type": "code",
   "execution_count": 231,
   "metadata": {},
   "outputs": [],
   "source": [
    "df = pd.read_excel(\"AI Search Test Suite .xlsx\")"
   ]
  },
  {
   "cell_type": "code",
   "execution_count": 232,
   "metadata": {},
   "outputs": [
    {
     "data": {
      "text/plain": [
       "Index(['Unnamed: 0', 'Results', 'Unnamed: 2', 'Unnamed: 3', 'Unnamed: 4',\n",
       "       'Comments ', 'Unnamed: 6', 'Unnamed: 7', 'Unnamed: 8', 'Question'],\n",
       "      dtype='object')"
      ]
     },
     "execution_count": 232,
     "metadata": {},
     "output_type": "execute_result"
    }
   ],
   "source": [
    "df.columns"
   ]
  },
  {
   "cell_type": "code",
   "execution_count": 233,
   "metadata": {},
   "outputs": [],
   "source": [
    "df = df.rename(columns={'Comments ': 'Comments'})\n",
    "issues_df = df.query('Comments.notna()')\n",
    "non_issues_df = df[~df.index.isin(issues_df.index)]"
   ]
  },
  {
   "cell_type": "code",
   "execution_count": 234,
   "metadata": {},
   "outputs": [
    {
     "data": {
      "text/plain": [
       "(362, 146, 216, 362)"
      ]
     },
     "execution_count": 234,
     "metadata": {},
     "output_type": "execute_result"
    }
   ],
   "source": [
    "len(df), len(issues_df), len(non_issues_df), len(non_issues_df) + len(issues_df)"
   ]
  },
  {
   "cell_type": "code",
   "execution_count": 244,
   "metadata": {},
   "outputs": [],
   "source": [
    "issues_queries = []\n",
    "non_issues_queries = []"
   ]
  },
  {
   "cell_type": "code",
   "execution_count": 245,
   "metadata": {},
   "outputs": [],
   "source": [
    "for idx, row in issues_df.iterrows():\n",
    "    issues_queries.append(str(row[\"Unnamed: 0\"]))\n",
    "for idx, row in non_issues_df.iterrows():\n",
    "    non_issues_queries.append(str(row[\"Unnamed: 0\"]))\n"
   ]
  },
  {
   "cell_type": "code",
   "execution_count": 246,
   "metadata": {},
   "outputs": [
    {
     "data": {
      "text/plain": [
       "(146, 216, 362, 362)"
      ]
     },
     "execution_count": 246,
     "metadata": {},
     "output_type": "execute_result"
    }
   ],
   "source": [
    "len(issues_queries), len(non_issues_queries), len(issues_queries) + len(non_issues_queries), len(df)"
   ]
  },
  {
   "cell_type": "code",
   "execution_count": 248,
   "metadata": {},
   "outputs": [],
   "source": [
    "with open(\"queries-data.json\") as f:\n",
    "    json_data = json.load(f)"
   ]
  },
  {
   "cell_type": "code",
   "execution_count": 251,
   "metadata": {},
   "outputs": [],
   "source": [
    "# json_data[\"issues_queries\"] = issues_queries\n",
    "json_data[\"non_issues_queries\"] = non_issues_queries"
   ]
  },
  {
   "cell_type": "code",
   "execution_count": 254,
   "metadata": {},
   "outputs": [],
   "source": [
    "with open(\"queries_dataset.json\", \"w\") as f:\n",
    "    json.dump(json_data, f, indent=2)"
   ]
  },
  {
   "cell_type": "code",
   "execution_count": 247,
   "metadata": {},
   "outputs": [
    {
     "data": {
      "text/plain": [
       "[\"Find senior software engineers or data scientists with at least 10 years of experience, who have worked at Google, Microsoft, or Facebook in the past, but are currently employed at a technology company like Tesla or Apple. They should have skills in Python, AI, or cloud computing, hold a master's degree in computer science from universities like Stanford or MIT, and be located in New York, San Francisco, or London. The candidates should have experience in both the finance and healthcare industries.\",\n",
       " 'Find me data analysts who are experts in Excel, Tableau, SQL, data visualization, and statistical analysis, based in London, UK, and not from the telecommunications or vehicle transportation industry.',\n",
       " \"Find someone who is currently a Senior Software Engineer at Facebook, previously worked at Google, has 5-10 years of experience in software development, holds a Bachelor's degree in Computer Science from Stanford University, and is based in San Francisco\",\n",
       " 'Looking for presidents who have also worked as a General Manager or SVP who have led a P&L in a relevant/ adjacent industrial tech company for at least five years of $500M+.',\n",
       " 'nan',\n",
       " 'find General managers with P&L management experience of at least $200 million USD at companies in Wisconsin, Minnesota and Illinois at the top companies in MedTech. Only show people with experiences in spaces like or similar to assistive devices, rehab, home care, mobility, patient handling, ostomy care, urology, renal. do this as an expert financial analyst in the MedTech space.',\n",
       " 'Sales Executives at Startups that have raised between Series A and Series D in the last 2 years',\n",
       " 'The Chief People Officer (“CPO”) will be a key member of the Senior Executive Team at Restaurant Technologies, responsible for developing and executing the human capital strategy that supports the company’s ambitious growth trajectory. This role is integral to fostering a high-performance culture, driving employee engagement, and ensuring operational excellence across all HR functions. The CPO will act as a strategic advisor to the CEO and senior leadership team, while maintaining relationships with the board and other key stakeholders. The ideal candidate will be a forward-thinking leader with a proven track record in high-growth environments, capable of aligning the HR function with the company’s strategic objectives and ensuring that RT remains an employer of choice in the industry. As with any employee at Restaurant Technologies, this role will embody and uphold their core organizational values: Customer, Character, Commitment, Community, and Courage, in all aspects of leadership, decision making, and interactions within and beyond the organization. These values define our culture, drive our actions, and shape our reputation as an ethical and responsible organization, on the foundation of diversity, equity and inclusion.',\n",
       " 'find me the next ceo for udemy, previous experience needs to include digital marketplace or e-learning experience',\n",
       " 'I want to find all the senior executives (c-suite executives and heads of North America and Europe) who are no longer at FTI Consulting and have left the firm within the last 5 years',\n",
       " 'owners of ketamine psychiatry clinic in the US',\n",
       " \"find me a Machine Learning Engineer who has a strong background and Wants to work in a startup. Has an understanding and excitement of the dynamics of an early-stage startup. Has a mix of practical product building/engineering experience with AI research, is passionate about mental health and wants to do work that is impactful for people's lives. Someone who wants to win. Not just smart but also have a relentless drive in the work they do. Must have worked on challenging ML at its core problems.Knows how to tweak models and has experience fine-tuning or training small models, making actual adaptations to models. Has a deep familiarity with LLMs and has built things with them before - even in an experimental environment. Has experience and abilities to rapidly prototype new models (via supervised fine-tuning or similar methodologies) and validate them. Advantage: Experience with RLHF and other feedback methodologies as well as managing red-teaming efforts.The mentality and ability to roll up their sleeves and work with other engineers/departments.\",\n",
       " 'systematic credit portfolio manager',\n",
       " 'sourced best candidates that have experience in machine learning and llm, have 3-10 years of work experience and are located in California',\n",
       " 'CPA, Big 4 Accounting firms, manufacturing companies, West Coast of the USA, $5B segment of a $7B global agricultural company, looking for a Segment Controller',\n",
       " 'I need sales directors at SaaS companies focused on B2B enterprise sales in the U.K.',\n",
       " 'Find CPOs (Chief Product Officers) in cybersecurity startups with experience in building B2C products in the U.S.',\n",
       " 'I need blockchain developers who have worked on decentralized finance (DeFi) projects in Africa.',\n",
       " 'Find operations managers at logistics startups using AI for route optimization in Southeast Asia.',\n",
       " \"I'm looking for business development leaders in AI/ML SaaS companies that focus on healthcare in Canada.\",\n",
       " 'Identify CTOs with experience in developing AR/VR platforms for retail companies in Europe.',\n",
       " 'I need heads of sales in financial services companies focusing on AI/ML solutions in New York.',\n",
       " 'Identify experts in digital transformation for energy sector SaaS platforms in the Nordics.',\n",
       " 'I need people for the VP of Operations role in B2B SaaS companies based in Singapore.',\n",
       " 'Find product marketing managers in medtech startups in the U.S.',\n",
       " 'Identify heads of corporate strategy at AI-driven SaaS companies focused on fintech in Europe.',\n",
       " 'Identify growth hackers for edtech startups with a focus on K-12 in India.',\n",
       " 'I need people for the CFO role at sustainability-focused startups in Scandinavia.',\n",
       " 'Find VPs of Product Management in AI-powered fintech platforms in the U.K.',\n",
       " 'I need content marketing experts in SaaS platforms focused on B2B in Asia.',\n",
       " 'Identify design leaders in AR/VR startups in the U.S.',\n",
       " 'Identify HR managers with experience in diversity and inclusion at SaaS companies in Europe.',\n",
       " 'I need growth marketing experts for AI-driven SaaS platforms in the Middle East.',\n",
       " 'Identify design leaders in AR/VR startups in the U.S.',\n",
       " 'Identify product leaders at telemedicine platforms in Latin America.',\n",
       " 'Identify heads of customer experience in B2B SaaS companies in Africa.',\n",
       " 'Find talent acquisition heads for AI/ML startups based in Europe.',\n",
       " 'Find design leaders at mobility startups focusing on electric vehicles in California.',\n",
       " 'Identify CFOs in climate tech startups with a focus on sustainability in Europe.',\n",
       " 'Find engineers specializing in NLP for legal tech companies in the U.S.',\n",
       " 'Find CTOs at medtech companies focusing on wearables in Europe.',\n",
       " 'Identify engineering heads in SaaS companies focused on the education sector in the U.K.',\n",
       " 'I need finance directors at AI/ML startups based in Israel.',\n",
       " 'Identify growth marketing experts in fintech startups in Latin America.',\n",
       " 'Show me project managers located in Texas or Pennsylvania who previously held a mid-senior management level position at Microsoft or Coursera and are currently working at a senior management level at Google.',\n",
       " 'Need a Director of Product with experience in SaaS platforms, focused on B2B solutions in North America.',\n",
       " 'Identify CFOs with experience in financial management at AI-powered SaaS platforms in Europe.',\n",
       " 'Show profiles of people who are currently in the google at cross platform development position as junior flutter developer, or junior react developer and have previously worked at Microsoft as intern or junior software developer, should have bachelors degree of Stanford in IT related fields, located in Texas or nearby areas.',\n",
       " 'Show candidates who previously worked as Business Analysts for prestigious companies like PwC or Deloitte and who now serve as Product Managers or Transformation Leads at leading tech firms like Google or Microsoft. Ideal expertise includes data analytics, product development, and change management, targeting those in the US, Canada, or Western Europe.',\n",
       " 'I need sales directors in healthcare AI companies based in Germany.',\n",
       " 'I need data scientists in fintech startups with expertise in AI and machine learning and had previous working experience with react, java and django in the U.S.',\n",
       " '\"Hiring a Regional Vice President based in Western Europe to lead market expansion and operational strategies across the region.\"',\n",
       " '\"I am search for a Head of Operations in Eastern Europe to drive business growth and oversee regional operations.\"',\n",
       " '\"Looking for a Chief Financial Officer based in Northern Europe with expertise in optimizing financial operations across the region.\"',\n",
       " '\"Seeking a Head of Marketing for Southern Europe, responsible for driving strategic campaigns and brand growth.\"',\n",
       " 'I am doing executive recruitment for a Chief Strategy Officer with expertise in Southeastern Europe to guide expansion and regional partnerships.',\n",
       " '\"Hiring a General Manager in Northern Africa to oversee operations and strengthen regional business development.\"',\n",
       " '\"Looking for a Regional HR Director based in Sub-Saharan Africa to implement HR strategies across diverse markets.\"',\n",
       " '\"Hiring a Senior VP of Operations in Southeast Asia to manage market entry and expansion efforts across the region.\"',\n",
       " '\"Searching for a Regional Development Director in Central Asia to lead strategic initiatives and support economic growth.\"',\n",
       " '\"Hiring a Chief Commercial Officer in Oceania to drive market growth and build partnerships across the region.\"',\n",
       " '\"search for a Regional Managing Director in the Caribbean to oversee business operations and strengthen regional presence.\"',\n",
       " '\"Executive recruitment for an Operations Director in the Maghreb to lead production and manage regional operations.\"',\n",
       " '\"Hiring a Chief Compliance Officer in the GCC to manage regulatory standards and compliance across the region.\"',\n",
       " '\"Executive search for a Regional Director of Development in the Pacific Islands to support economic growth initiatives.\"',\n",
       " '\"Searching for a Regional General Manager in the Lesser Antilles to oversee business operations and growth strategies.\"',\n",
       " '\"Hiring a Chief of Regional Partnerships in ASEAN to manage cross-border projects and partnership initiatives.\"',\n",
       " '\"Executive search for a Business Development Director in the Visegrád Group to drive growth and strategic market entry.\"',\n",
       " 'I need a VP of Engineering with a strong background in distributed systems for a SaaS platform. Candidates in New York or Boston are ideal.',\n",
       " 'Looking for a Chief Marketing Officer with experience in scaling D2C brands in the healthtech industry. Preferably based in California.',\n",
       " 'I need a Head of Talent Acquisition for a fast-growing AI/ML startup. Ideally, they have experience scaling teams in Europe.',\n",
       " 'Find me a Head of Customer Success with experience managing enterprise clients in the legal tech space. Preferably based in New York.',\n",
       " 'I need a Chief Information Officer with a background in managing cybersecurity risks for financial institutions. Ideally based in Europe.',\n",
       " 'Looking for a VP of Product Marketing with experience in AI-driven SaaS platforms. Candidates in the U.S. are preferred.',\n",
       " 'Find me a Chief Data Officer with expertise in big data and cloud infrastructure, preferably with experience in the healthcare sector. Based in California or Texas.',\n",
       " 'Looking for a Chief Revenue Officer with expertise in B2B SaaS sales in the European market. Candidates based in the U.K. are ideal.',\n",
       " 'Find me a Chief Human Resources Officer with experience scaling teams in the renewable energy sector. Preferably based in Germany.',\n",
       " 'I need a Head of Engineering with strong experience in microservices architecture for a fintech company. Ideally based in New York.',\n",
       " 'Find me a Chief Compliance Officer with experience in financial regulation, ideally with a background in fintech startups. Candidates based in the U.S. are preferred.',\n",
       " 'Find me a Head of Customer Experience with expertise in scaling support teams for e-commerce companies. Candidates in Europe are preferred.',\n",
       " 'I need a VP of Business Development with strong experience in partnerships for blockchain startups. Ideally based in Singapore.',\n",
       " 'Looking for a Chief Technology Officer with experience in scaling AI platforms in the cybersecurity industry. Preferably based in Israel.',\n",
       " 'Find me a Director of Engineering with a strong background in cloud infrastructure for a SaaS company. Candidates in Canada are ideal.',\n",
       " 'Looking for a Chief Financial Officer with experience in public company reporting and IPO preparation for a tech startup. Preferably based in New York.',\n",
       " 'Find me a VP of Product with a strong background in AI/ML for a medtech company. Ideally based in Europe.',\n",
       " 'I need a Head of Talent with experience recruiting for AI/ML startups. Preferably based in the U.S.',\n",
       " 'Find me a Head of Sales with expertise in enterprise software sales for a B2B SaaS company. Candidates based in the U.K. are preferred.',\n",
       " 'I need a Chief Operating Officer with a background in logistics and supply chain management. Ideally based in the U.S.',\n",
       " 'Looking for a VP of Finance with experience in the renewable energy sector. Preferably based in Scandinavia.',\n",
       " 'Find me a Chief Marketing Officer with a strong track record in scaling AI-driven SaaS platforms. Preferably based in the U.S.',\n",
       " 'I need a Head of Growth with expertise in digital marketing for fintech startups. Ideally based in Singapore.',\n",
       " 'Find me a Head of Engineering with expertise in cloud computing for a SaaS company. Ideally based in North America.',\n",
       " 'I need a VP of Business Development with a focus on partnerships in the fintech space. Preferably based in London.',\n",
       " 'Looking for a Chief Human Resources Officer with experience scaling remote-first teams for tech startups. Ideally based in the U.S.',\n",
       " 'Find me a VP of Corporate Strategy with M&A experience in the software industry. Preferably based in California.',\n",
       " 'software engineers specialized in flutter or react who used to worked at the big companies like apple, google, microsoft, dell, samsung electronics or those who are now working in the tesla, nvadia, johnson and johnson or amazon, should have past experience of more than 13 years, and located in usa or any nearby countries.',\n",
       " 'I need a Chief Technology Officer with expertise in blockchain for fintech startups. Ideally based in Asia.',\n",
       " 'Looking for a VP of Sales with experience in SaaS companies focused on AI-driven platforms. Preferably based in Europe.',\n",
       " 'Find me a Head of Marketing with expertise in scaling consumer tech brands. Preferably based in the U.S. 44',\n",
       " 'Find me people for the CFO role at Stripe. The person must have experience in global financial operations and IPO preparation. Ideally based in New York or London.',\n",
       " 'Find me people for the VP of Product role at Shopify. The person must have strong expertise in e-commerce platforms and mobile product development. Ideally based in Canada.',\n",
       " 'Find me people for the Head of Engineering role at Robinhood. The person must have experience with large-scale trading platforms and cloud architecture. Ideally based in San Francisco or Seattle.',\n",
       " 'Find me people for the Chief Marketing Officer role at Zoom. The person should have experience in driving growth for B2B SaaS companies. Ideally based in California.',\n",
       " 'Find me people for the Head of AI role at Microsoft. The person must have experience in developing large-scale AI platforms and machine learning. Ideally based in Washington or California.',\n",
       " 'Find me people for the VP of Engineering role at SpaceX. The person must have strong experience in aerospace engineering and satellite systems. Ideally based in California or Texas.',\n",
       " 'Find me people for the CFO role at Tesla. The person should have extensive experience in financial management for automotive companies. Ideally based in California or Texas.',\n",
       " 'Find me people for the VP of Growth role at Airbnb. The person must have experience scaling B2C platforms with a focus on global markets. Ideally based in California or New York.',\n",
       " 'Find me people for the Head of Engineering role at Twilio. The person must have experience with cloud-based communication platforms. Ideally based in San Francisco.',\n",
       " 'Find me people for the VP of Product role at Slack. The person must have experience in collaboration software and enterprise SaaS platforms. Ideally based in California.',\n",
       " 'Find me people for the VP of Sales role at Salesforce. The person must have strong experience in enterprise software sales. Ideally based in California or New York.',\n",
       " 'Find me people for the Chief Data Officer role at Uber. The person must have experience in large-scale data infrastructure and real-time analytics. Ideally based in California or Texas.',\n",
       " 'Find me people for the CFO role at Spotify. The person must have expertise in financial operations and subscription-based business models. Ideally based in New York or London.',\n",
       " 'Find me people for the CTO role at Square. The person must have expertise in fintech platforms and payment systems. Ideally based in California or Texas.',\n",
       " 'Find me people for the Chief Operating Officer role at Stripe. The person must have experience scaling fintech companies globally. Ideally based in California or New York.',\n",
       " 'Find me people for the Head of Product role at TikTok. The person should have strong experience in social media platforms and content personalization. Ideally based in California or Singapore.',\n",
       " 'Find me people for the VP of Engineering role at Reddit. The person must have experience with large-scale community platforms and cloud infrastructure. Ideally based in California.',\n",
       " 'Find me people for the Chief Marketing Officer role at Snap. The person must have experience in driving user growth for consumer tech products. Ideally based in California.',\n",
       " 'Find me people for the Head of AI Research role at OpenAI. The person must have experience in cutting-edge AI techniques and neural networks. Ideally based in California or New York.',\n",
       " 'Find me people for the VP of Sales role at Asana. The person must have experience in selling enterprise SaaS solutions. Ideally based in California.',\n",
       " 'Find me people for the VP of People role at Tesla. The person should have experience in scaling global teams in tech companies. Ideally based in California or Nevada.',\n",
       " 'Find me people for the VP of Engineering role at Instacart. The person must have strong experience in grocery delivery platforms and mobile app development. Ideally based in California or Texas.',\n",
       " 'Find me people for the Head of Product role at Pinterest. The person should have experience in consumer tech platforms and visual discovery tools. Ideally based in California.',\n",
       " 'Find me people for the CTO role at Etsy. The person must have experience in building scalable e-commerce platforms. Ideally based in New York or California.',\n",
       " 'Find me people for the Head of Data Science role at Zoom. The person should have experience in video conferencing platforms and real-time analytics. Ideally based in California or Texas.',\n",
       " 'Find me people for the Chief Privacy Officer role at Microsoft. The person must have experience in data privacy regulations and compliance. Ideally based in Washington or California.',\n",
       " 'Find me people for the Head of Growth role at Robinhood. The person must have experience in user acquisition for fintech platforms. Ideally based in California or New York.',\n",
       " 'Find me people for the VP of Product role at Hulu. The person must have strong experience in content streaming platforms and recommendation engines. Ideally based in California.',\n",
       " 'Find me people for the Chief Risk Officer role at Coinbase. The person must have experience in managing financial risks in cryptocurrency. Ideally based in California or Texas.',\n",
       " 'Find me people for the VP of Engineering role at Peloton. The person must have experience in connected fitness platforms and hardware integration. Ideally based in New York or California.',\n",
       " 'Find me people for the Chief Innovation Officer role at Nike. The person should have expertise in product innovation and digital transformation. Ideally based in Oregon or California.',\n",
       " 'Find me people for the CTO role at Stripe. The person must have strong experience in fintech infrastructure and API development. Ideally based in San Francisco.',\n",
       " 'Find me people for the VP of Operations role at WeWork. The person must have expertise in scaling operations for flexible office space platforms. Ideally based in New York or California.',\n",
       " 'Find me people for the Chief Product Officer role at Robinhood. The person must have experience in building user-friendly fintech platforms. Ideally based in California.',\n",
       " 'Find me people for the CTO role at Klarna. The person must have strong experience in payment systems and fintech platforms. Ideally based in Europe or California.',\n",
       " 'Display profiles of senior project managers with exactly 10 years of experience working in Europe who specialize in Agile methodologies.',\n",
       " 'List profiles of individual contributors with 2–3 years of experience in data analytics roles, currently in Australia.',\n",
       " \"Show candidates with a bachelor's degree from Stanford and 0–5 years of experience in AI-based research in California.\",\n",
       " 'Retrieve profiles of sales executives with 40+ years of experience in the retail industry, currently or previously working at Walmart.',\n",
       " 'Show profiles of CEOs in France with exactly 5 years of experience in the automotive industry.',\n",
       " \"Show candidates with a master's degree in computer science and 3 years of experience in DevOps roles in Singapore.\",\n",
       " 'Show candidates in the USA with 8–10 years of experience in cybersecurity roles and have certifications like CISSP.',\n",
       " 'Retrieve profiles of individuals with 0–5 years of experience in blockchain development who live in Eastern Europe.',\n",
       " 'Find me suitable Chairman of a Norwegian Utility and Power company located on the West Coast of Norway. It is preferred with candidates from the region',\n",
       " 'act as a recruiter. I am looking for a change management director working in the executive search industry in chicago illinois prosci certified with internal communications experience specializing in technology implementation',\n",
       " 'Generate a precise list of individuals currently serving as President, CEO, or COO in companies similar to Jawbone within the wearable technology sector. These companies focus on products such as fitness trackers, smartwatches, health monitoring devices, or other wearable electronics but do not necessarily have to manufacture them. The individuals should be based in the United States or Europe and hold an MBA degree. Exclude individuals from companies not focused on wearable technology. Precision is important',\n",
       " \"Search for profiles of individuals named 'John Smith,' 'Jane Doe,' and 'Michael Johnson' who are currently working at Fortune 500 companies like Google, Amazon, Microsoft, Facebook (Meta), Tesla, and Apple. Focus on individuals based in New York City, San Francisco, London, and Berlin, working in the industries of software development, artificial intelligence, cybersecurity, and fintech. These individuals should have at least 10 years of experience, hold senior roles such as CTO, VP of Engineering, or Director of Product, and have a proven track record in startups and large organizations.\\n\\nAdditionally, they should have completed their education at top-tier universities such as Stanford, MIT, Harvard, and Oxford, holding degrees in computer science, data science, or electrical engineering. They must possess skills in Python, Java, machine learning, blockchain, and cloud computing (AWS, Azure, or Google Cloud). These candidates should have more than 30 endorsements for technical skills, at least 20 recommendations, over 1,000 connections, and published articles or research papers in top AI conferences like NeurIPS, CVPR, or ICML.\\n\\nFurthermore, filter candidates with volunteering experience in non-profit sectors, who have been involved in large-scale machine learning projects, and have held patents in AI, autonomous vehicles, or pharmaceuticals. The profiles should also show involvement in corporate social responsibility initiatives, with experience managing global teams of over 50 employees, and demonstrate fluency in English, German, and Mandarin.\\n\\nFinally, refine the search by identifying those who have raised over $10 million in venture capital for startups, have experience working remotely, and are interested in relocating to emerging tech hubs like Austin, TX, or Bangalore, India. Limit the results to individuals who have been active on LinkedIn in the past 6 months, are open to new job opportunities, and have job titles or descriptions mentioning 'blockchain,' 'quantum computing,' or 'cloud architecture\"]"
      ]
     },
     "execution_count": 247,
     "metadata": {},
     "output_type": "execute_result"
    }
   ],
   "source": [
    "{\"issues_queries\" : issues_queries,\n",
    " \"non_issues_queries\" : non_issues_queries}"
   ]
  },
  {
   "cell_type": "code",
   "execution_count": 110,
   "metadata": {},
   "outputs": [
    {
     "data": {
      "text/html": [
       "<div>\n",
       "<style scoped>\n",
       "    .dataframe tbody tr th:only-of-type {\n",
       "        vertical-align: middle;\n",
       "    }\n",
       "\n",
       "    .dataframe tbody tr th {\n",
       "        vertical-align: top;\n",
       "    }\n",
       "\n",
       "    .dataframe thead th {\n",
       "        text-align: right;\n",
       "    }\n",
       "</style>\n",
       "<table border=\"1\" class=\"dataframe\">\n",
       "  <thead>\n",
       "    <tr style=\"text-align: right;\">\n",
       "      <th></th>\n",
       "      <th>Unnamed: 0</th>\n",
       "      <th>Results</th>\n",
       "      <th>Unnamed: 2</th>\n",
       "      <th>Unnamed: 3</th>\n",
       "      <th>Unnamed: 4</th>\n",
       "      <th>Comments</th>\n",
       "      <th>Unnamed: 6</th>\n",
       "      <th>Unnamed: 7</th>\n",
       "      <th>Unnamed: 8</th>\n",
       "      <th>Question</th>\n",
       "    </tr>\n",
       "  </thead>\n",
       "  <tbody>\n",
       "    <tr>\n",
       "      <th>0</th>\n",
       "      <td>Show customer service representatives.</td>\n",
       "      <td>Job title(current)</td>\n",
       "      <td>NaN</td>\n",
       "      <td>NaN</td>\n",
       "      <td>NaN</td>\n",
       "      <td>NaN</td>\n",
       "      <td>NaN</td>\n",
       "      <td>NaN</td>\n",
       "      <td>NaN</td>\n",
       "      <td>NaN</td>\n",
       "    </tr>\n",
       "    <tr>\n",
       "      <th>1</th>\n",
       "      <td>Find sales executives.</td>\n",
       "      <td>Job title(current)</td>\n",
       "      <td>NaN</td>\n",
       "      <td>NaN</td>\n",
       "      <td>NaN</td>\n",
       "      <td>NaN</td>\n",
       "      <td>NaN</td>\n",
       "      <td>NaN</td>\n",
       "      <td>NaN</td>\n",
       "      <td>NaN</td>\n",
       "    </tr>\n",
       "    <tr>\n",
       "      <th>2</th>\n",
       "      <td>Show network engineers.</td>\n",
       "      <td>Job title(current)</td>\n",
       "      <td>NaN</td>\n",
       "      <td>NaN</td>\n",
       "      <td>NaN</td>\n",
       "      <td>NaN</td>\n",
       "      <td>NaN</td>\n",
       "      <td>NaN</td>\n",
       "      <td>NaN</td>\n",
       "      <td>NaN</td>\n",
       "    </tr>\n",
       "    <tr>\n",
       "      <th>3</th>\n",
       "      <td>Show HR managers.</td>\n",
       "      <td>Job title(current)</td>\n",
       "      <td>NaN</td>\n",
       "      <td>NaN</td>\n",
       "      <td>NaN</td>\n",
       "      <td>NaN</td>\n",
       "      <td>NaN</td>\n",
       "      <td>NaN</td>\n",
       "      <td>NaN</td>\n",
       "      <td>NaN</td>\n",
       "    </tr>\n",
       "    <tr>\n",
       "      <th>4</th>\n",
       "      <td>Find marketing specialists.</td>\n",
       "      <td>Job title(current)</td>\n",
       "      <td>NaN</td>\n",
       "      <td>NaN</td>\n",
       "      <td>NaN</td>\n",
       "      <td>NaN</td>\n",
       "      <td>NaN</td>\n",
       "      <td>NaN</td>\n",
       "      <td>NaN</td>\n",
       "      <td>NaN</td>\n",
       "    </tr>\n",
       "  </tbody>\n",
       "</table>\n",
       "</div>"
      ],
      "text/plain": [
       "                               Unnamed: 0             Results  Unnamed: 2  \\\n",
       "0  Show customer service representatives.  Job title(current)         NaN   \n",
       "1                  Find sales executives.  Job title(current)         NaN   \n",
       "2                 Show network engineers.  Job title(current)         NaN   \n",
       "3                       Show HR managers.  Job title(current)         NaN   \n",
       "4             Find marketing specialists.  Job title(current)         NaN   \n",
       "\n",
       "   Unnamed: 3  Unnamed: 4 Comments   Unnamed: 6  Unnamed: 7  Unnamed: 8  \\\n",
       "0         NaN         NaN       NaN         NaN         NaN         NaN   \n",
       "1         NaN         NaN       NaN         NaN         NaN         NaN   \n",
       "2         NaN         NaN       NaN         NaN         NaN         NaN   \n",
       "3         NaN         NaN       NaN         NaN         NaN         NaN   \n",
       "4         NaN         NaN       NaN         NaN         NaN         NaN   \n",
       "\n",
       "  Question  \n",
       "0      NaN  \n",
       "1      NaN  \n",
       "2      NaN  \n",
       "3      NaN  \n",
       "4      NaN  "
      ]
     },
     "execution_count": 110,
     "metadata": {},
     "output_type": "execute_result"
    }
   ],
   "source": [
    "df.head()"
   ]
  },
  {
   "cell_type": "code",
   "execution_count": 115,
   "metadata": {},
   "outputs": [
    {
     "data": {
      "text/plain": [
       "Index(['Unnamed: 0', 'Results', 'Unnamed: 2', 'Unnamed: 3', 'Unnamed: 4',\n",
       "       'Comments', 'Unnamed: 6', 'Unnamed: 7', 'Unnamed: 8', 'Question'],\n",
       "      dtype='object')"
      ]
     },
     "execution_count": 115,
     "metadata": {},
     "output_type": "execute_result"
    }
   ],
   "source": [
    "df.columns"
   ]
  },
  {
   "cell_type": "code",
   "execution_count": null,
   "metadata": {},
   "outputs": [],
   "source": []
  },
  {
   "cell_type": "code",
   "execution_count": null,
   "metadata": {},
   "outputs": [],
   "source": []
  },
  {
   "cell_type": "code",
   "execution_count": null,
   "metadata": {},
   "outputs": [],
   "source": []
  },
  {
   "cell_type": "code",
   "execution_count": 135,
   "metadata": {},
   "outputs": [],
   "source": [
    "query = \"Executive recruitment for an Operations Director in the Maghreb to lead production and manage regional operations.\""
   ]
  },
  {
   "cell_type": "code",
   "execution_count": null,
   "metadata": {},
   "outputs": [],
   "source": []
  },
  {
   "cell_type": "code",
   "execution_count": 136,
   "metadata": {},
   "outputs": [
    {
     "name": "stdout",
     "output_type": "stream",
     "text": [
      "Query: Executive recruitment for an Operations Director in the Maghreb to lead production and manage regional operations.\n",
      "In the user query, we have the following key phrases to evaluate:\n",
      "\n",
      "1. **\"Executive recruitment\"** - This phrase indicates a focus on recruitment for executive roles but does not specify a job title or management level. It does not fit into either category.\n",
      "   \n",
      "2. **\"Operations Director\"** - This clearly specifies a job title and its function, which is to lead operations. The title \"Operations Director\" will be normalized as \"Director of Operations\" (as \"Director\" is included in the predefined set). Hence, it will be classified under titles.\n",
      "\n",
      "3. **\"lead production\"** - This phrase describes a function but does not correspond to a specific job title. It does not include any key phrase that qualifies as a management level or a job title.\n",
      "\n",
      "4. **\"manage regional operations\"** - This further emphasizes the responsibilities associated with the role but does not identify a specific title or a management level.\n",
      "\n",
      "Based on the evaluation of the key phrases:\n",
      "\n",
      "- \"Operations Director\" will be classified as a job title since it describes a specific role with a clear function.\n",
      "- There are no management levels that apply from the query.\n",
      "\n",
      "Thus, the final output based on the instructions would be:\n",
      "\n",
      "```json\n",
      "{\n",
      "  \"management_levels\": [],\n",
      "  \"titles\": [\"Director of Operations\"]\n",
      "}\n",
      "```\n"
     ]
    }
   ],
   "source": [
    "result = await chatgpt_response_a(query)\n",
    "print(\"Query:\", query)\n",
    "print(result['choices'][0]['message']['content'])"
   ]
  },
  {
   "cell_type": "code",
   "execution_count": 137,
   "metadata": {},
   "outputs": [
    {
     "name": "stdout",
     "output_type": "stream",
     "text": [
      "Query: Executive recruitment for an Operations Director in the Maghreb to lead production and manage regional operations.\n",
      "In the user query, the key phrases we need to consider are:\n",
      "\n",
      "1. \"Executive recruitment\"\n",
      "2. \"Operations Director\"\n",
      "\n",
      "Now, let's evaluate these key phrases based on the guidelines provided:\n",
      "\n",
      "1. **\"Executive recruitment\"**: \n",
      "   - This phrase indicates a focus on recruiting for high-level positions but does not specify a job title or management level within the context of the query.\n",
      "   - Therefore, it will not be classified as either a management level or a job title.\n",
      "\n",
      "2. **\"Operations Director\"**: \n",
      "   - This phrase clearly identifies a specific job title. The role of \"Director\" corresponds to a management level, but since it is part of the job title \"Operations Director,\" it cannot be classified separately as a management level.\n",
      "   - The job title is normalized to \"Operations Director.\"\n",
      "\n",
      "Based on these evaluations, we can conclude:\n",
      "\n",
      "- Management Levels: There are no management levels explicitly mentioned since \"Executive\" does not refer to a specific management level in this context, and \"Director\" is part of the job title \"Operations Director.\"\n",
      "- Titles: There is one title identified, which is \"Operations Director.\"\n",
      "\n",
      "Thus, the final output will be:\n",
      "\n",
      "```json\n",
      "{\n",
      "  \"management_levels\": [],\n",
      "  \"titles\": [\"Operations Director\"]\n",
      "}\n",
      "```\n"
     ]
    }
   ],
   "source": [
    "result = await chatgpt_response_a(query)\n",
    "print(\"Query:\", query)\n",
    "print(result['choices'][0]['message']['content'])"
   ]
  },
  {
   "cell_type": "code",
   "execution_count": 138,
   "metadata": {},
   "outputs": [],
   "source": []
  },
  {
   "cell_type": "code",
   "execution_count": 139,
   "metadata": {},
   "outputs": [],
   "source": [
    "parsed_response = parse_response(result['choices'][0]['message']['content'])"
   ]
  },
  {
   "cell_type": "code",
   "execution_count": 143,
   "metadata": {},
   "outputs": [
    {
     "name": "stdout",
     "output_type": "stream",
     "text": [
      "In the user query, the key phrases we need to consider are:\n",
      "\n",
      "1. \"Executive recruitment\"\n",
      "2. \"Operations Director\"\n",
      "\n",
      "Now, let's evaluate these key phrases based on the guidelines provided:\n",
      "\n",
      "1. **\"Executive recruitment\"**: \n",
      "   - This phrase indicates a focus on recruiting for high-level positions but does not specify a job title or management level within the context of the query.\n",
      "   - Therefore, it will not be classified as either a management level or a job title.\n",
      "\n",
      "2. **\"Operations Director\"**: \n",
      "   - This phrase clearly identifies a specific job title. The role of \"Director\" corresponds to a management level, but since it is part of the job title \"Operations Director,\" it cannot be classified separately as a management level.\n",
      "   - The job title is normalized to \"Operations Director.\"\n",
      "\n",
      "Based on these evaluations, we can conclude:\n",
      "\n",
      "- Management Levels: There are no management levels explicitly mentioned since \"Executive\" does not refer to a specific management level in this context, and \"Director\" is part of the job title \"Operations Director.\"\n",
      "- Titles: There is one title identified, which is \"Operations Director.\"\n",
      "\n",
      "Thus, the final output will be:\n"
     ]
    }
   ],
   "source": [
    "print(parsed_response[0])"
   ]
  },
  {
   "cell_type": "code",
   "execution_count": 144,
   "metadata": {},
   "outputs": [
    {
     "name": "stdout",
     "output_type": "stream",
     "text": [
      "{'management_levels': [], 'titles': ['Operations Director']}\n"
     ]
    }
   ],
   "source": [
    "print(parsed_response[1])"
   ]
  },
  {
   "cell_type": "code",
   "execution_count": null,
   "metadata": {},
   "outputs": [],
   "source": []
  }
 ],
 "metadata": {
  "kernelspec": {
   "display_name": "datumspeak",
   "language": "python",
   "name": "python3"
  },
  "language_info": {
   "codemirror_mode": {
    "name": "ipython",
    "version": 3
   },
   "file_extension": ".py",
   "mimetype": "text/x-python",
   "name": "python",
   "nbconvert_exporter": "python",
   "pygments_lexer": "ipython3",
   "version": "3.12.3"
  }
 },
 "nbformat": 4,
 "nbformat_minor": 2
}
