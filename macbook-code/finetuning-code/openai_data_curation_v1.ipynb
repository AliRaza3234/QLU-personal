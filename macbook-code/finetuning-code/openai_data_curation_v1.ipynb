{
 "cells": [
  {
   "cell_type": "code",
   "execution_count": 1,
   "metadata": {},
   "outputs": [],
   "source": [
    "import asyncio\n",
    "import os\n",
    "from openai import AsyncOpenAI\n",
    "import pandas as pd\n",
    "from jinja2 import Template"
   ]
  },
  {
   "cell_type": "code",
   "execution_count": 2,
   "metadata": {},
   "outputs": [],
   "source": [
    "from dotenv import load_dotenv\n",
    "load_dotenv()\n",
    "key = os.getenv(\"OPENAI_API_KEY\")"
   ]
  },
  {
   "cell_type": "code",
   "execution_count": 80,
   "metadata": {},
   "outputs": [],
   "source": [
    "# queries_list = [\"Executive recruitment for an Operations Director in the Maghreb to lead production and manage regional operations.\",\n",
    "#                 \"Executive search for a Regional Director of Development in the Pacific Islands to support economic growth initiatives.\",\n",
    "#                 \"Searching for a Regional General Manager in the Lesser Antilles to oversee business operations and growth strategies.\",\n",
    "#                 \"Generate a precise list of individuals currently serving as President, CEO, or COO in companies similar to Jawbone within the wearable technology sector. These companies focus on products such as fitness trackers, smartwatches, health monitoring devices, or other wearable electronics but do not necessarily have to manufacture them. The individuals should be based in the United States or Europe and hold an MBA degree. Exclude individuals from companies not focused on wearable technology. Precision is important\",]"
   ]
  },
  {
   "cell_type": "code",
   "execution_count": 166,
   "metadata": {},
   "outputs": [],
   "source": [
    "# USE_CASE_GENERATION_SYSTEM = \"\"\"You are an AI assistant tasked with analyzing instruction statements and converting them into clear, comprehensive use cases. You should break down complex requirements into understandable components and provide practical examples. Focus on clarity, precision, and actionable insights.\"\"\"\n",
    "# USE_CASE_GENERATION_USER = \"\"\"\n",
    "# Please analyze this instruction statement and create a detailed use case that explains:\n",
    "\n",
    "# 1. The system's primary objective\n",
    "# 2. The rules and constraints for processing the information\n",
    "# 3. The expected outcomes\n",
    "\n",
    "# Write the use case in an \"As a system...\" format and include specific examples demonstrating correct implementation.\n",
    "\n",
    "# Instruction Statement:\n",
    "# {{INSTRUCTION}}\n",
    "# \"\"\""
   ]
  },
  {
   "cell_type": "code",
   "execution_count": 184,
   "metadata": {},
   "outputs": [],
   "source": [
    "# QUERY_GENERATION_PROMPT_SYSTEM = \"\"\"You are an AI assistant tasked with generating recruitment queries based on a given use case. Your goal is to create a set of queries that reflect the original, unprocessed state of job titles and related information as mentioned in the use case, before any normalization or standardization occurs.\"\"\" \n",
    "# QUERY_GENERATION_PROMPT_USER = \"\"\"\n",
    "# Here is the use case you should base your queries on:\n",
    "\n",
    "# {{USE_CASE}}\n",
    "\n",
    "# Analyze the use case carefully, paying attention to:\n",
    "# 1. The types of job titles mentioned\n",
    "# 2. Any variations or non-standard forms of job titles\n",
    "# 3. Additional information included with job titles (e.g., company names, locations)\n",
    "# 4. Different seniority levels or specializations mentioned\n",
    "\n",
    "# Generate 10 diverse recruitment queries that represent the \"before\" state of the data, as it would appear prior to being processed by the job title normalization system described in the use case. Your queries should:\n",
    "\n",
    "# 1. Include the non-standardized or varied forms of job titles\n",
    "# 2. Incorporate any additional information (like company names or locations) that the system is meant to remove\n",
    "# 3. Reflect different aspects mentioned in the use case (e.g., different seniority levels, specializations)\n",
    "# 4. Mimic realistic search queries a recruiter might use before data normalization\n",
    "\n",
    "# Remember, the goal is to create queries that showcase the type of data the normalization system is designed to process, not the output of the system.\n",
    "\n",
    "# Provide your response as a JSON list of strings, without any additional explanation or HTML tags. Start your response with:\n",
    "\n",
    "# Each query should be on a new line and enclosed in double quotes, with a comma at the end (except for the last query). Ensure that the queries are diverse and cover different aspects mentioned in the use case.\"\"\" "
   ]
  },
  {
   "cell_type": "code",
   "execution_count": 36,
   "metadata": {},
   "outputs": [],
   "source": [
    "NER_MANAGEMENT_LEVEL_TITLE_SYSTEM_PROMPT_ORIGINAL = \"\"\"\n",
    "You are an intelligent assistant dedicated to extracting management levels and job titles from user queries. Before doing so, you must understand what a functional area is.\n",
    "\"\"\"\n",
    "\n",
    "NER_MANAGEMENT_LEVEL_TITLE_USER_PROMPT_ORIGINAL = \"\"\"\n",
    "\n",
    "Instructions:\n",
    "1. Management Levels: Only return management levels that match the predefined set: [\"Partners,\",\" \"Founder or Co-founder,\" \"Board of Directors,\" \"CSuite/Chiefs,\" \"Executive VP or Sr. VP,\" \"General Manager,\" \"Manager,\" \"Senior Partner,\" \"Junior Partner,\" \"VP,\" \"Director,\" \"Senior (All Senior-Level Individual Contributors),\" \"Mid (All Mid-Level Individual Contributors),\" \"Junior (All Junior-Level Individual Contributors)\"]. MANAGEMENT CAN ONLY BE FROM THIS PREDEFINED SET, Nothing ELSE.\n",
    "2. Job Titles: Normalize the job title after extracting it from the text. For example, convert \"ceo\" to \"Chief Executive Officer\" and always include both the full title and its abbreviation (confirmed ones), e.g., \"VP of Engineering\" and \"Vice President of Engineering.\" or \"Chief Innovation Officer\" and \"CINO\". ENSURE LOGICAL and EXACT job titles such as 'Architect' NOT 'Architect who is skilled in VR'. Job titles MUST BE CONCISE AND TO THE POINT and shouldn't include company names or region names. Do not change the title for normalization.\n",
    "3. Response Format: Your response must be a dictionary with two keys: \"management_levels\" and \"titles\". Each key should have a list of management levels and titles respectively.\n",
    "4. Identify the key phrases in a prompt. Key phrase is a title and its function, IF THE function is mentioned. If the function would be mentioned, it will be classified as a \"Job Title\". For example, \"CEOs working in Automotive Industry and VP of Engineering of Microsoft\" has the \"CEOs\" and \"VP of Engineering\" as Key Phrases. In this case ONLY VP CANNOT be considered a key phrase. ONLY CONSIDER THE KEY PHRASES MENTIONED, DO NOT ASSUME. Past and current designations dont matter.\n",
    "5. Check whether the KEY PHRASE should be classified as a Job Title or a Management Level. IT SHOULD NEVER BE CLASSIFIED INTO BOTH. This is ESSENTIAL.\n",
    "5. If a key phrase is classified as title, don't include it in the management levels. For example, if \"VP of Engineering\" is classified as title then don't include \"VP\" in management levels. Industry or company names will not be included in job titles.\n",
    "6. If a key phrase is classified as a management level, don't include it in the title. For example, if \"Vice Presidents\" is classified as management level then don't include \"Vice Presidents\" in titles. A job title will ONLY be a title and its business function. No other DETAIL should be added. A Management Level cannot COME FROM WITHIN A JOB TITLE.\n",
    "7. Remember: One instance of a key phrase should be considered for either management level or job title, not both. Each will fall either into management levels or job title but WILL NEVER FALL INTO BOTH. A KEY PHRASE CANNOT BE IN MANAGEMENT LEVELS AND TITLE, BOTH. A Management Level cannot COME FROM WITHIN A JOB TITLE. \n",
    "8. If the word 'executive' is mentioned, specific considerations should be taken into account.\n",
    "\n",
    "Take a deep breath and understand.\n",
    "Query: \"Give me VPs working in Microsoft\": # VPs is the KEY PHRASE. It will be evaluated as a whole key phrase ONLY. It cannot be classified into a management level and a title both.\n",
    "Management Level Focus: In this query, \"VPs\" should refer to individuals at the management level of Vice President within Microsoft. This means you are asking for a list of people who occupy the VP rank across various departments or divisions within the company. VPs can cover the complete domain of of 'VP' in management level. The emphasis is on their standing in the organizational hierarchy, regardless of their specific job titles. A management title will only be selected if it covers the complete domain in the predefined set.\n",
    "Job Title Focus: If you were asking about \"VPs\" in terms of job titles, you'd be interested in individuals whose specific title is \"VP\" of a certain business function, such as \"VP of Marketing\" (Marketing is a business function) or \"VP of Engineering\" (Engineering is a business function). If a function is clearly mentioned then it would be JOB TITLE. \"VP of Microsoft\" does NOT have a function (Microsoft is an organization) neither does \"Automotive VPs\" (Automotive can ONLY be an industry). Identify the BUSINESS functions accurately. Then they CANNOT come under management levels.\n",
    "Output: {\"management_levels\": [\"VP\"], \"titles\": []}\n",
    "\n",
    "Query: \"The CFOs working in google or facebook\": #CFOs is a KEY PHRASE. It will be evaluated as a whole key phrase ONLY. It cannot be classified into a management level and a title both.\n",
    "Management Level Focus: In this query, \"CFOs\" does not cover the complete 'C-Suite' domain. ONLY IF COMPLETE DOMAIN IS COVERED then the key phrase will be in management level. One job title, even if it is on the top or head of the heirarchy, does not cover the complete domain. If a user wants all 'executives', without any business function specified then three management levels will be covered, namely \"CSuite,\" \"Executive VP or Sr. VP\" and \"VP\" so all MUST come. However, the word 'executive' is mentioned in relation to a business function, only titles specific to that function should be included. For example, if 'Marketing Executives' is mentioned, titles such as 'CMO', 'Chief Marketing Officer', 'Senior VP of Marketing', 'Senior Vice President of Marketing', 'VP of Marketing', and 'Vice President of Marketing' should be included. The word 'executive' or 'executives' would, thus, NEVER be included neither as job title nor management level.\n",
    "Job Title Focus: As a CFO would only be a chief in finance, the CFO being discussed here comes under job title, not management level.\n",
    "Output: {\"management_levels\": [], \"titles\": [\"CFO\", \"Chief Finance Officer\"]} # Job titles MUST BE CONCISE and TO THE POINT, mentioning ONLY the TITLE and the BUSINESS FUNCTION if the business function is given. No added details, such as company name or group.\n",
    "\n",
    "If terms like 'leader', 'expert', 'specialist', or similar are mentioned, extract a maximum of 2-3 relevant job titles associated with those terms based on the context, focusing on the most appropriate leadership or expertise roles.\n",
    "\n",
    "For each management level and title, also tell why you put it there. If a business function can be clearly identified, the key phrase will be a JOB title. ALWAYS make the necessary changes when the word 'executive' or 'leader' or 'expert', etc., is mentioned in the user query and get LOGICAL titles. Management level of 'Manager' will not be chosen when a specific type of 'manager' (senior managers, project manager, etc.) are asked for. ONLY identify and consider complete key phrases EXPLICITLY MENTIONED IN THE PROMPT, and each key phrase will either be in management level or title, NEVER consider THE SAME KEY PHRASE for BOTH. Evaluate key phrases separately.\n",
    "Always return a JSON object in your output.\n",
    "\n",
    "User Query: {{QUERY}}\n",
    "Let's think step by step about each key phrase.\"\"\"\n"
   ]
  },
  {
   "cell_type": "code",
   "execution_count": 19,
   "metadata": {},
   "outputs": [],
   "source": [
    "\n",
    "# NER_MANAGEMENT_LEVEL_TITLE_SYSTEM_PROMPT = \"\"\"You are an AI assistant tasked with extracting management levels and job titles from a given query. Your goal is to analyze the query, identify relevant key phrases, and categorize them appropriately as either management levels or job titles.\n",
    "# \"\"\"\n",
    "\n",
    "# NER_MANAGEMENT_LEVEL_TITLE_USER_PROMPT = \"\"\"\n",
    "# Here is the query you need to analyze:\n",
    "# <query>\n",
    "# {{QUERY}}\n",
    "# </query>\n",
    "\n",
    "# Follow these steps to extract management levels and titles:\n",
    "\n",
    "# 1. Management Levels: Only return management levels that match the predefined set: [\"Partners,\",\" \"Founder or Co-founder,\" \"Board of Directors,\" \"CSuite/Chiefs,\" \"Executive VP or Sr. VP,\" \"General Manager,\" \"Manager,\" \"Senior Partner,\" \"Junior Partner,\" \"VP,\" \"Director,\" \"Senior (All Senior-Level Individual Contributors),\" \"Mid (All Mid-Level Individual Contributors),\" \"Junior (All Junior-Level Individual Contributors)\"]. MANAGEMENT CAN ONLY BE FROM THIS PREDEFINED SET, Nothing ELSE.\n",
    "# 2. Job Titles: Normalize the job title after extracting it from the text. For example, convert \"ceo\" to \"Chief Executive Officer\" and always include both the full title and its abbreviation (confirmed ones), e.g., \"VP of Engineering\" and \"Vice President of Engineering.\" or \"Chief Innovation Officer\" and \"CINO\". ENSURE LOGICAL and EXACT job titles such as 'Architect' NOT 'Architect who is skilled in VR'. Job titles MUST BE CONCISE AND TO THE POINT and shouldn't include company names or region names. Do not change the title for normalization.\n",
    "# 3. Response Format: Your response must be a dictionary with two keys: \"management_levels\" and \"titles\". Each key should have a list of management levels and titles respectively.\n",
    "# 4. Identify the key phrases in a prompt. Key phrase is a title and its function, IF THE function is mentioned. If the function would be mentioned, it will be classified as a \"Job Title\". For example, \"CEOs working in Automotive Industry and VP of Engineering of Microsoft\" has the \"CEOs\" and \"VP of Engineering\" as Key Phrases. In this case ONLY VP CANNOT be considered a key phrase. ONLY CONSIDER THE KEY PHRASES MENTIONED, DO NOT ASSUME. Past and current designations dont matter.\n",
    "# 5. Check whether the KEY PHRASE should be classified as a Job Title or a Management Level. IT SHOULD NEVER BE CLASSIFIED INTO BOTH. This is ESSENTIAL.\n",
    "# 5. If a key phrase is classified as title, don't include it in the management levels. For example, if \"VP of Engineering\" is classified as title then don't include \"VP\" in management levels. Industry or company names will not be included in job titles.\n",
    "# 6. If a key phrase is classified as a management level, don't include it in the title. For example, if \"Vice Presidents\" is classified as management level then don't include \"Vice Presidents\" in titles. A job title will ONLY be a title and its business function. No other DETAIL should be added. A Management Level cannot COME FROM WITHIN A JOB TITLE.\n",
    "# 7. Remember: One instance of a key phrase should be considered for either management level or job title, not both. Each will fall either into management levels or job title but WILL NEVER FALL INTO BOTH. A KEY PHRASE CANNOT BE IN MANAGEMENT LEVELS AND TITLE, BOTH. A Management Level cannot COME FROM WITHIN A JOB TITLE. \n",
    "# 8. If the word 'executive' is mentioned, specific considerations should be taken into account.\n",
    "\n",
    "# Take a deep breath and understand.\n",
    "# Query: \"Give me VPs working in Microsoft\": # VPs is the KEY PHRASE. It will be evaluated as a whole key phrase ONLY. It cannot be classified into a management level and a title both.\n",
    "# Management Level Focus: In this query, \"VPs\" should refer to individuals at the management level of Vice President within Microsoft. This means you are asking for a list of people who occupy the VP rank across various departments or divisions within the company. VPs can cover the complete domain of of 'VP' in management level. The emphasis is on their standing in the organizational hierarchy, regardless of their specific job titles. A management title will only be selected if it covers the complete domain in the predefined set.\n",
    "# Job Title Focus: If you were asking about \"VPs\" in terms of job titles, you'd be interested in individuals whose specific title is \"VP\" of a certain business function, such as \"VP of Marketing\" (Marketing is a business function) or \"VP of Engineering\" (Engineering is a business function). If a function is clearly mentioned then it would be JOB TITLE. \"VP of Microsoft\" does NOT have a function (Microsoft is an organization) neither does \"Automotive VPs\" (Automotive can ONLY be an industry). Identify the BUSINESS functions accurately. Then they CANNOT come under management levels.\n",
    "# Output: {\"management_levels\": [\"VP\"], \"titles\": []}\n",
    "\n",
    "# Query: \"The CFOs working in google or facebook\": #CFOs is a KEY PHRASE. It will be evaluated as a whole key phrase ONLY. It cannot be classified into a management level and a title both.\n",
    "# Management Level Focus: In this query, \"CFOs\" does not cover the complete 'C-Suite' domain. ONLY IF COMPLETE DOMAIN IS COVERED then the key phrase will be in management level. One job title, even if it is on the top or head of the heirarchy, does not cover the complete domain. If a user wants all 'executives', without any business function specified then three management levels will be covered, namely \"CSuite,\" \"Executive VP or Sr. VP\" and \"VP\" so all MUST come. However, the word 'executive' is mentioned in relation to a business function, only titles specific to that function should be included. For example, if 'Marketing Executives' is mentioned, titles such as 'CMO', 'Chief Marketing Officer', 'Senior VP of Marketing', 'Senior Vice President of Marketing', 'VP of Marketing', and 'Vice President of Marketing' should be included. The word 'executive' or 'executives' would, thus, NEVER be included neither as job title nor management level.\n",
    "# Job Title Focus: As a CFO would only be a chief in finance, the CFO being discussed here comes under job title, not management level.\n",
    "# Output: {\"management_levels\": [], \"titles\": [\"CFO\", \"Chief Finance Officer\"]} # Job titles MUST BE CONCISE and TO THE POINT, mentioning ONLY the TITLE and the BUSINESS FUNCTION if the business function is given. No added details, such as company name or group.\n",
    "\n",
    "# If terms like 'leader', 'expert', 'specialist', or similar are mentioned, extract a maximum of 2-3 relevant job titles associated with those terms based on the context, focusing on the most appropriate leadership or expertise roles.\n",
    "\n",
    "# For each management level and title, also tell why you put it there. If a business function can be clearly identified, the key phrase will be a JOB title. ALWAYS make the necessary changes when the word 'executive' or 'leader' or 'expert', etc., is mentioned in the user query and get LOGICAL titles. Management level of 'Manager' will not be chosen when a specific type of 'manager' (senior managers, project manager, etc.) are asked for. ONLY identify and consider complete key phrases EXPLICITLY MENTIONED IN THE PROMPT, and each key phrase will either be in management level or title, NEVER consider THE SAME KEY PHRASE for BOTH. Evaluate key phrases separately.\n",
    "\n",
    "# After analyzing the query, generate two outputs:\n",
    "\n",
    "# 1. A reasoning paragraph that explains your thought process step-by-step. Include:\n",
    "#    - Identification of key phrases\n",
    "#    - Evaluation of each key phrase (management level or job title)\n",
    "#    - Reasoning behind your classifications\n",
    "#    - Any special considerations (e.g., handling of 'executive' or 'leader' terms)\n",
    "#    - Explanation of domain coverage for management levels\n",
    "#    - Keep this moderate, not too long and not too concise\n",
    "#    - While writing the reasoning, refrain from using I and addressing yourself.\n",
    "\n",
    "# 2. A JSON object with two keys: \"management_levels\" and \"titles\". Each key should have a list of extracted management levels and titles respectively.   \n",
    "\n",
    "# Present your output in the following format:\n",
    "\n",
    "\n",
    "# <rationale>\n",
    "# Your step-by-step reasoning and rationale paragraph goes here.\n",
    "# </rationale>\n",
    "\n",
    "# <json_output>\n",
    "# {\n",
    "#   \"management_levels\": [...],\n",
    "#   \"titles\": [...]\n",
    "# }\n",
    "# </json_output>\n",
    "\n",
    "\n",
    "# Remember to adhere strictly to the guidelines provided, especially regarding the classification of key phrases and the handling of special terms like 'executive'.\n",
    "# \"\"\"\n"
   ]
  },
  {
   "cell_type": "code",
   "execution_count": 20,
   "metadata": {},
   "outputs": [],
   "source": [
    "async def chatgpt_response_a(query, temperature=0.7, model=\"gpt-4o-mini\", **kwargs):\n",
    "\n",
    "    \"\"\"\n",
    "    Function to run prompts on chatgpt\n",
    "\n",
    "    Args:\n",
    "        key (string): openai api key\n",
    "        messages (list): list of object that has the chat that you want to process with chatgpt. i.e. system prompt, assistant prompt and user prompt\n",
    "        temperature (float, optional): Temperature of gpt for generations. Defaults to 0.7.\n",
    "        model (str, optional): The model you want to use. Defaults to \"gpt-4o-mini\".\n",
    "\n",
    "    Returns:\n",
    "        string: chatgpt result\n",
    "    \"\"\"\n",
    "    # user_message = Template(NER_MANAGEMENT_LEVEL_TITLE_USER_PROMPT).render({\"QUERY\" : query})\n",
    "    user_message = Template(NER_MANAGEMENT_LEVEL_TITLE_USER_PROMPT_ORIGINAL).render({\"QUERY\" : query})\n",
    "    messages = [\n",
    "            # {\"role\": \"system\", \"content\": NER_MANAGEMENT_LEVEL_TITLE_SYSTEM_PROMPT},\n",
    "            {\"role\": \"system\", \"content\": NER_MANAGEMENT_LEVEL_TITLE_SYSTEM_PROMPT_ORIGINAL},\n",
    "            {\"role\": \"user\", \"content\": f\"User Query: {user_message}\"},\n",
    "            \n",
    "    ]\n",
    "    openai_object = {\n",
    "        \"model\": model,\n",
    "        \"messages\": messages,\n",
    "        \"temperature\": temperature,\n",
    "    }\n",
    "    aclient = AsyncOpenAI(api_key=key)\n",
    "\n",
    "    openai_object.update(kwargs)\n",
    "\n",
    "    response = await aclient.chat.completions.create(**openai_object)\n",
    "    response = response.__dict__\n",
    "    response[\"choices\"] = [choice.__dict__ for choice in response[\"choices\"]]\n",
    "    for choice in response[\"choices\"]:\n",
    "        choice[\"message\"] = choice[\"message\"].__dict__\n",
    "    return response\n",
    "\n",
    "\n",
    "\n",
    "# async def generate_queries_a(query, temperature=0.7, model=\"gpt-4o-mini\", **kwargs):\n",
    "\n",
    "#     \"\"\"\n",
    "#     Function to run prompts on chatgpt\n",
    "\n",
    "#     Args:\n",
    "#         key (string): openai api key\n",
    "#         messages (list): list of object that has the chat that you want to process with chatgpt. i.e. system prompt, assistant prompt and user prompt\n",
    "#         temperature (float, optional): Temperature of gpt for generations. Defaults to 0.7.\n",
    "#         model (str, optional): The model you want to use. Defaults to \"gpt-4o-mini\".\n",
    "\n",
    "#     Returns:\n",
    "#         string: chatgpt result\n",
    "#     \"\"\"\n",
    "#     # user_message = Template(NER_MANAGEMENT_LEVEL_TITLE_USER_PROMPT).render({\"QUERY\" : query})\n",
    "#     user_message = Template(QUERY_GENERATION_PROMPT_USER).render({\"USE_CASE\" : query})\n",
    "#     messages = [\n",
    "#             # {\"role\": \"system\", \"content\": NER_MANAGEMENT_LEVEL_TITLE_SYSTEM_PROMPT},\n",
    "#             {\"role\": \"system\", \"content\": QUERY_GENERATION_PROMPT_SYSTEM},\n",
    "#             {\"role\": \"user\", \"content\": f\"User Query: {user_message}\"},\n",
    "            \n",
    "#     ]\n",
    "#     openai_object = {\n",
    "#         \"model\": model,\n",
    "#         \"messages\": messages,\n",
    "#         \"temperature\": temperature,\n",
    "#     }\n",
    "#     aclient = AsyncOpenAI(api_key=key)\n",
    "\n",
    "#     openai_object.update(kwargs)\n",
    "\n",
    "#     response = await aclient.chat.completions.create(**openai_object)\n",
    "#     response = response.__dict__\n",
    "#     response[\"choices\"] = [choice.__dict__ for choice in response[\"choices\"]]\n",
    "#     for choice in response[\"choices\"]:\n",
    "#         choice[\"message\"] = choice[\"message\"].__dict__\n",
    "#     return response\n",
    "\n",
    "\n",
    "\n",
    "\n",
    "# async def generate_usecase_a(query, temperature=0.7, model=\"gpt-4o-mini\", **kwargs):\n",
    "\n",
    "#     \"\"\"\n",
    "#     Function to run prompts on chatgpt\n",
    "\n",
    "#     Args:\n",
    "#         key (string): openai api key\n",
    "#         messages (list): list of object that has the chat that you want to process with chatgpt. i.e. system prompt, assistant prompt and user prompt\n",
    "#         temperature (float, optional): Temperature of gpt for generations. Defaults to 0.7.\n",
    "#         model (str, optional): The model you want to use. Defaults to \"gpt-4o-mini\".\n",
    "\n",
    "#     Returns:\n",
    "#         string: chatgpt result\n",
    "#     \"\"\"\n",
    "#     # user_message = Template(NER_MANAGEMENT_LEVEL_TITLE_USER_PROMPT).render({\"QUERY\" : query})\n",
    "#     user_message = Template(USE_CASE_GENERATION_USER).render({\"INSTRUCTION\" : query})\n",
    "#     messages = [\n",
    "#             # {\"role\": \"system\", \"content\": NER_MANAGEMENT_LEVEL_TITLE_SYSTEM_PROMPT},\n",
    "#             {\"role\": \"system\", \"content\": USE_CASE_GENERATION_SYSTEM},\n",
    "#             {\"role\": \"user\", \"content\": f\"User Query: {user_message}\"},\n",
    "            \n",
    "#     ]\n",
    "#     openai_object = {\n",
    "#         \"model\": model,\n",
    "#         \"messages\": messages,\n",
    "#         \"temperature\": temperature,\n",
    "#     }\n",
    "#     aclient = AsyncOpenAI(api_key=key)\n",
    "\n",
    "#     openai_object.update(kwargs)\n",
    "\n",
    "#     response = await aclient.chat.completions.create(**openai_object)\n",
    "#     response = response.__dict__\n",
    "#     response[\"choices\"] = [choice.__dict__ for choice in response[\"choices\"]]\n",
    "#     for choice in response[\"choices\"]:\n",
    "#         choice[\"message\"] = choice[\"message\"].__dict__\n",
    "#     return response"
   ]
  },
  {
   "cell_type": "code",
   "execution_count": 6,
   "metadata": {},
   "outputs": [],
   "source": [
    "# instruction1 = \"\"\"Job Titles: Normalize the job title after extracting it from the text. For example, convert \"ceo\" to \"Chief Executive Officer\" and always include both the full title and its abbreviation (confirmed ones), e.g., \"VP of Engineering\" and \"Vice President of Engineering.\" or \"Chief Innovation Officer\" and \"CINO\". ENSURE LOGICAL and EXACT job titles such as 'Architect' NOT 'Architect who is skilled in VR'. Job titles MUST BE CONCISE AND TO THE POINT and shouldn't include company names or region names. Do not change the title for normalization.\"\"\"\n",
    "# instruction2 = \"\"\"Identify the key phrases in a prompt. Key phrase is a title and its function, IF THE function is mentioned. If the function would be mentioned, it will be classified as a \"Job Title\". For example, \"CEOs working in Automotive Industry and VP of Engineering of Microsoft\" has the \"CEOs\" and \"VP of Engineering\" as Key Phrases. In this case ONLY VP CANNOT be considered a key phrase. ONLY CONSIDER THE KEY PHRASES MENTIONED, DO NOT ASSUME. Past and current designations dont matter.\"\"\"\n",
    "# instruction3 = \"\"\"Check whether the KEY PHRASE should be classified as a Job Title or a Management Level. IT SHOULD NEVER BE CLASSIFIED INTO BOTH. This is ESSENTIAL.\n",
    "# If a key phrase is classified as title, don't include it in the management levels. For example, if \"VP of Engineering\" is classified as title then don't include \"VP\" in management levels. Industry or company names will not be included in job titles.\n",
    "# If a key phrase is classified as a management level, don't include it in the title. For example, if \"Vice Presidents\" is classified as management level then don't include \"Vice Presidents\" in titles. A job title will ONLY be a title and its business function. No other DETAIL should be added. A Management Level cannot COME FROM WITHIN A JOB TITLE.\n",
    "# \"\"\"\n",
    "# instruction4 = \"\"\"Management level of 'Manager' will not be chosen when a specific type of 'manager' (senior managers, project manager, etc.) are asked for.\"\"\"\n",
    "# instruction5 = \"\"\"If terms like 'leader', 'expert', 'specialist', or similar are mentioned, extract a maximum of 2-3 relevant job titles. ALWAYS make the necessary changes when the word 'executive' or 'leader' or 'expert', etc., is mentioned in the user query and get LOGICAL titles.\"\"\"\n",
    "# instruction6 = \"\"\"Queries where both management level and title is present such as `Find me a Director for Engineering who has previously worked as a VP of a tech firm\"\"\"\n",
    "# # instruction7 = \"\"\"Queries where \"\"\"\n",
    "\n"
   ]
  },
  {
   "cell_type": "code",
   "execution_count": 258,
   "metadata": {},
   "outputs": [],
   "source": [
    "# use_case = await generate_usecase_a(instruction6)\n",
    "# use_case = use_case['choices'][0]['message']['content']"
   ]
  },
  {
   "cell_type": "code",
   "execution_count": null,
   "metadata": {},
   "outputs": [],
   "source": [
    "# print(use_case)"
   ]
  },
  {
   "cell_type": "code",
   "execution_count": 260,
   "metadata": {},
   "outputs": [],
   "source": [
    "# queries = await generate_queries_a(use_case)"
   ]
  },
  {
   "cell_type": "code",
   "execution_count": null,
   "metadata": {},
   "outputs": [],
   "source": [
    "# instruction5"
   ]
  },
  {
   "cell_type": "code",
   "execution_count": null,
   "metadata": {},
   "outputs": [],
   "source": [
    "# print(queries['choices'][0]['message']['content'])"
   ]
  },
  {
   "cell_type": "code",
   "execution_count": 9,
   "metadata": {},
   "outputs": [],
   "source": [
    "# print"
   ]
  },
  {
   "cell_type": "code",
   "execution_count": 37,
   "metadata": {},
   "outputs": [],
   "source": [
    "import json\n",
    "import re\n",
    "def parse_text(text):\n",
    "    try:\n",
    "        # Find JSON content between ```json and ```\n",
    "        json_match = re.search(r'```json\\s*(.*?)\\s*```', text, re.DOTALL)\n",
    "        \n",
    "        if not json_match:\n",
    "            return (None, text.strip())\n",
    "        \n",
    "        # Extract and parse JSON content\n",
    "        json_content = json_match.group(1)\n",
    "        json_data = json.loads(json_content)\n",
    "        \n",
    "        # Get everything else as rationale by removing the JSON block\n",
    "        rationale = re.sub(r'```json.*?```', '', text, flags=re.DOTALL).strip()\n",
    "        \n",
    "        return (json_data, rationale)\n",
    "    \n",
    "    except Exception as e:\n",
    "        # If any error occurs during parsing, return None for JSON and original text as rationale\n",
    "        return (None, text.strip())\n"
   ]
  },
  {
   "cell_type": "code",
   "execution_count": 148,
   "metadata": {},
   "outputs": [],
   "source": [
    "results = []"
   ]
  },
  {
   "cell_type": "code",
   "execution_count": 14,
   "metadata": {},
   "outputs": [],
   "source": [
    "import json\n",
    "\n",
    "with open('queries_dataset_to_be_processed.json') as f:\n",
    "    queries_list = json.load(f)"
   ]
  },
  {
   "cell_type": "code",
   "execution_count": 45,
   "metadata": {},
   "outputs": [
    {
     "data": {
      "text/plain": [
       "148"
      ]
     },
     "execution_count": 45,
     "metadata": {},
     "output_type": "execute_result"
    }
   ],
   "source": [
    "len(queries_list)"
   ]
  },
  {
   "cell_type": "code",
   "execution_count": 41,
   "metadata": {},
   "outputs": [],
   "source": []
  },
  {
   "cell_type": "code",
   "execution_count": 49,
   "metadata": {},
   "outputs": [],
   "source": [
    "# for query in queries_list[:1]:\n",
    "#     result = await chatgpt_response_a(query)\n",
    "#     print('-'*47)\n",
    "#     print(\"Query:\", query)\n",
    "#     response_json, rationale = parse_text(result['choices'][0]['message']['content'])\n",
    "#     print(\"Rationale: \", rationale)\n",
    "#     print(\"Response JSON: \", response_json)\n",
    "#     results.append({\n",
    "#         \"query\" : query,\n",
    "#         \"rationale\" : rationale,\n",
    "#         \"response_json\" : response_json,\n",
    "#     })"
   ]
  },
  {
   "cell_type": "code",
   "execution_count": 54,
   "metadata": {},
   "outputs": [],
   "source": [
    "import asyncio\n",
    "from typing import List, Dict\n",
    "import math\n",
    "\n",
    "async def process_batch(texts: List[str]) -> List[Dict]:\n",
    "    \"\"\"Process a single batch of texts using the original title_management logic\"\"\"\n",
    "    ans = []\n",
    "    tasks = []\n",
    "    for text in texts:\n",
    "        tasks.append(chatgpt_response_a(text, temperature=0.1, model=\"gpt-4o\"))\n",
    "\n",
    "    results = await asyncio.gather(*tasks)\n",
    "    for query, res in zip(texts, results):\n",
    "        response = res\n",
    "        response = response[\"choices\"][0][\"message\"][\"content\"]\n",
    "        json_output, rationale = parse_text(response)\n",
    "        ans.append({\n",
    "            \"query\": query,\n",
    "            \"rationale\": rationale,\n",
    "            \"json_output\": json_output\n",
    "        })\n",
    "    return ans\n",
    "\n",
    "async def batched_title_management(texts: List[str], batch_size: int = 10) -> List[Dict]:\n",
    "    \"\"\"Process texts in batches of specified size\"\"\"\n",
    "    all_results = []\n",
    "    num_batches = math.ceil(len(texts) / batch_size)\n",
    "    print(f\"Processing {len(texts)} texts in {num_batches} batches\")\n",
    "    for i in range(num_batches):\n",
    "        print(f\"Processing batch {i+1}/{num_batches}\")\n",
    "        start_idx = i * batch_size\n",
    "        end_idx = min((i + 1) * batch_size, len(texts))\n",
    "        batch = texts[start_idx:end_idx]\n",
    "        \n",
    "        try:\n",
    "            batch_results = await process_batch(batch)\n",
    "            all_results.extend(batch_results)\n",
    "            \n",
    "            # Optional: Add a small delay between batches to avoid rate limiting\n",
    "            if i < num_batches - 1:\n",
    "                await asyncio.sleep(1)\n",
    "                \n",
    "        except Exception as e:\n",
    "            print(f\"Error processing batch {i+1}/{num_batches}: {str(e)}\")\n",
    "            # You might want to handle the error differently depending on your needs\n",
    "            continue\n",
    "    \n",
    "    return all_results"
   ]
  },
  {
   "cell_type": "code",
   "execution_count": 58,
   "metadata": {},
   "outputs": [
    {
     "name": "stdout",
     "output_type": "stream",
     "text": [
      "Processing 148 texts in 15 batches\n",
      "Processing batch 1/15\n",
      "Processing batch 2/15\n",
      "Processing batch 3/15\n",
      "Processing batch 4/15\n",
      "Processing batch 5/15\n",
      "Processing batch 6/15\n",
      "Processing batch 7/15\n",
      "Processing batch 8/15\n",
      "Processing batch 9/15\n",
      "Processing batch 10/15\n",
      "Processing batch 11/15\n",
      "Processing batch 12/15\n",
      "Processing batch 13/15\n",
      "Processing batch 14/15\n",
      "Processing batch 15/15\n"
     ]
    }
   ],
   "source": [
    "all_results = await(batched_title_management(queries_list))"
   ]
  },
  {
   "cell_type": "code",
   "execution_count": 59,
   "metadata": {},
   "outputs": [
    {
     "data": {
      "text/plain": [
       "148"
      ]
     },
     "execution_count": 59,
     "metadata": {},
     "output_type": "execute_result"
    }
   ],
   "source": [
    "len(all_results)"
   ]
  },
  {
   "cell_type": "code",
   "execution_count": 60,
   "metadata": {},
   "outputs": [],
   "source": [
    "with open(\"generated_input_output_pairs_v2.json\") as f:\n",
    "    generated_input_output_pairs = json.load(f)"
   ]
  },
  {
   "cell_type": "code",
   "execution_count": 62,
   "metadata": {},
   "outputs": [],
   "source": [
    "(generated_input_output_pairs).extend(all_results)"
   ]
  },
  {
   "cell_type": "code",
   "execution_count": 64,
   "metadata": {},
   "outputs": [],
   "source": [
    "with open(\"generated_input_output_pairs_v2.json\", 'w') as f:\n",
    "    json.dump(generated_input_output_pairs, f, indent=2)"
   ]
  },
  {
   "cell_type": "code",
   "execution_count": 231,
   "metadata": {},
   "outputs": [],
   "source": [
    "df = pd.read_excel(\"AI Search Test Suite .xlsx\")"
   ]
  },
  {
   "cell_type": "code",
   "execution_count": null,
   "metadata": {},
   "outputs": [],
   "source": [
    "df.columns"
   ]
  },
  {
   "cell_type": "code",
   "execution_count": 233,
   "metadata": {},
   "outputs": [],
   "source": [
    "df = df.rename(columns={'Comments ': 'Comments'})\n",
    "issues_df = df.query('Comments.notna()')\n",
    "non_issues_df = df[~df.index.isin(issues_df.index)]"
   ]
  },
  {
   "cell_type": "code",
   "execution_count": null,
   "metadata": {},
   "outputs": [],
   "source": [
    "len(df), len(issues_df), len(non_issues_df), len(non_issues_df) + len(issues_df)"
   ]
  },
  {
   "cell_type": "code",
   "execution_count": 244,
   "metadata": {},
   "outputs": [],
   "source": [
    "issues_queries = []\n",
    "non_issues_queries = []"
   ]
  },
  {
   "cell_type": "code",
   "execution_count": 245,
   "metadata": {},
   "outputs": [],
   "source": [
    "for idx, row in issues_df.iterrows():\n",
    "    issues_queries.append(str(row[\"Unnamed: 0\"]))\n",
    "for idx, row in non_issues_df.iterrows():\n",
    "    non_issues_queries.append(str(row[\"Unnamed: 0\"]))\n"
   ]
  },
  {
   "cell_type": "code",
   "execution_count": null,
   "metadata": {},
   "outputs": [],
   "source": [
    "len(issues_queries), len(non_issues_queries), len(issues_queries) + len(non_issues_queries), len(df)"
   ]
  },
  {
   "cell_type": "code",
   "execution_count": 248,
   "metadata": {},
   "outputs": [],
   "source": [
    "with open(\"queries-data.json\") as f:\n",
    "    json_data = json.load(f)"
   ]
  },
  {
   "cell_type": "code",
   "execution_count": 251,
   "metadata": {},
   "outputs": [],
   "source": [
    "# json_data[\"issues_queries\"] = issues_queries\n",
    "json_data[\"non_issues_queries\"] = non_issues_queries"
   ]
  },
  {
   "cell_type": "code",
   "execution_count": 254,
   "metadata": {},
   "outputs": [],
   "source": [
    "with open(\"queries_dataset.json\", \"w\") as f:\n",
    "    json.dump(json_data, f, indent=2)"
   ]
  },
  {
   "cell_type": "code",
   "execution_count": null,
   "metadata": {},
   "outputs": [],
   "source": [
    "{\"issues_queries\" : issues_queries,\n",
    " \"non_issues_queries\" : non_issues_queries}"
   ]
  },
  {
   "cell_type": "code",
   "execution_count": null,
   "metadata": {},
   "outputs": [],
   "source": [
    "df.head()"
   ]
  },
  {
   "cell_type": "code",
   "execution_count": null,
   "metadata": {},
   "outputs": [],
   "source": [
    "df.columns"
   ]
  },
  {
   "cell_type": "code",
   "execution_count": null,
   "metadata": {},
   "outputs": [],
   "source": []
  },
  {
   "cell_type": "code",
   "execution_count": null,
   "metadata": {},
   "outputs": [],
   "source": []
  },
  {
   "cell_type": "code",
   "execution_count": null,
   "metadata": {},
   "outputs": [],
   "source": []
  },
  {
   "cell_type": "code",
   "execution_count": 135,
   "metadata": {},
   "outputs": [],
   "source": [
    "query = \"Executive recruitment for an Operations Director in the Maghreb to lead production and manage regional operations.\""
   ]
  },
  {
   "cell_type": "code",
   "execution_count": null,
   "metadata": {},
   "outputs": [],
   "source": []
  },
  {
   "cell_type": "code",
   "execution_count": null,
   "metadata": {},
   "outputs": [],
   "source": [
    "result = await chatgpt_response_a(query)\n",
    "print(\"Query:\", query)\n",
    "print(result['choices'][0]['message']['content'])"
   ]
  },
  {
   "cell_type": "code",
   "execution_count": null,
   "metadata": {},
   "outputs": [],
   "source": [
    "result = await chatgpt_response_a(query)\n",
    "print(\"Query:\", query)\n",
    "print(result['choices'][0]['message']['content'])"
   ]
  },
  {
   "cell_type": "code",
   "execution_count": 138,
   "metadata": {},
   "outputs": [],
   "source": []
  },
  {
   "cell_type": "code",
   "execution_count": 139,
   "metadata": {},
   "outputs": [],
   "source": [
    "parsed_response = parse_response(result['choices'][0]['message']['content'])"
   ]
  },
  {
   "cell_type": "code",
   "execution_count": null,
   "metadata": {},
   "outputs": [],
   "source": [
    "print(parsed_response[0])"
   ]
  },
  {
   "cell_type": "code",
   "execution_count": null,
   "metadata": {},
   "outputs": [],
   "source": [
    "print(parsed_response[1])"
   ]
  },
  {
   "cell_type": "code",
   "execution_count": null,
   "metadata": {},
   "outputs": [],
   "source": []
  }
 ],
 "metadata": {
  "kernelspec": {
   "display_name": "openai_finetuning",
   "language": "python",
   "name": "python3"
  },
  "language_info": {
   "codemirror_mode": {
    "name": "ipython",
    "version": 3
   },
   "file_extension": ".py",
   "mimetype": "text/x-python",
   "name": "python",
   "nbconvert_exporter": "python",
   "pygments_lexer": "ipython3",
   "version": "3.9.21"
  }
 },
 "nbformat": 4,
 "nbformat_minor": 2
}
