{
 "cells": [
  {
   "cell_type": "code",
   "execution_count": 1,
   "metadata": {},
   "outputs": [],
   "source": [
    "import asyncio\n",
    "import os\n",
    "from openai import AsyncOpenAI\n",
    "from jinja2 import Template\n",
    "import pandas as pd\n",
    "import json\n",
    "from copy import deepcopy"
   ]
  },
  {
   "cell_type": "code",
   "execution_count": 2,
   "metadata": {},
   "outputs": [],
   "source": [
    "from dotenv import load_dotenv\n",
    "load_dotenv()\n",
    "openai_api_key = os.getenv(\"OPENAI_API_KEY\")"
   ]
  },
  {
   "cell_type": "markdown",
   "metadata": {},
   "source": [
    "## Loading the test data"
   ]
  },
  {
   "cell_type": "code",
   "execution_count": 92,
   "metadata": {},
   "outputs": [],
   "source": [
    "data = []\n",
    "with open('test_data.jsonl') as f:\n",
    "    for line in f:\n",
    "        data.append(json.loads(line))\n",
    "with open('test_data_v2.jsonl') as f:\n",
    "    for line in f:\n",
    "        data.append(json.loads(line))"
   ]
  },
  {
   "cell_type": "code",
   "execution_count": 95,
   "metadata": {},
   "outputs": [
    {
     "data": {
      "text/plain": [
       "51"
      ]
     },
     "execution_count": 95,
     "metadata": {},
     "output_type": "execute_result"
    }
   ],
   "source": [
    "len(data)"
   ]
  },
  {
   "cell_type": "code",
   "execution_count": 96,
   "metadata": {},
   "outputs": [
    {
     "data": {
      "text/plain": [
       "{'messages': [{'role': 'system',\n",
       "   'content': 'You are an AI assistant tasked with extracting management levels and job titles from a given query. Your goal is to analyze the query, identify relevant key phrases, and categorize them appropriately as either management levels or job titles while generating proper reasoning and thinking step by step. \\nYour output format should be like below:\\n<rationale>\\nProvide reasoning and step-by-step thinking inside here\\n</rationale>\\n<json_output>\\nProvide json output inside here\\n</json_output>\\n'},\n",
       "  {'role': 'user',\n",
       "   'content': 'User Query: \\nInstructions:\\n1. Identify key phrases that are management levels or job titles.\\n2. Categorize each key phrase as either a management level or a job title.\\n3. Use predefined management levels: [\"Partners,\",\" \"Founder or Co-founder,\" \"Board of Directors,\" \"CSuite/Chiefs,\" \"Executive VP or Sr. VP,\" \"General Manager,\" \"Manager,\" \"Head,\" \"Senior Partner,\" \"Junior Partner,\" \"VP,\" \"Director,\" \"Senior (All Senior-Level Individual Contributors),\" \"Mid (All Mid-Level Individual Contributors),\" \"Junior (All Junior-Level Individual Contributors)\"].\\n4. For job titles:\\n   - Normalize and include abbreviations if applicable.\\n   - Exclude company or region names.\\n   \\nAlways return a JSON object. \\n\\n\\nHere is the query you need to analyze: `Find operations managers at logistics startups using AI for route optimization in Southeast Asia.`\\nLet\\'s think step by step about each key phrase.'},\n",
       "  {'role': 'assistant',\n",
       "   'content': '\\n<rationale>\\nTo address the user query, we need to identify the key phrases and determine whether they should be classified as management levels or job titles. \\n\\n1. **Key Phrase Identification**: \\n   - \"operations managers\" is the key phrase in this query. \\n\\n2. **Classification**:\\n   - **Management Level**: The term \"Manager\" is a predefined management level. However, since the key phrase is \"operations managers,\" it specifies a business function (operations). Therefore, it should be classified as a job title, not a management level.\\n   - **Job Title**: \"Operations Manager\" is a specific job title that includes the business function \"operations.\"\\n\\n3. **Conclusion**:\\n   - Since \"operations managers\" specifies a business function, it is classified as a job title.\\n\\nBased on this analysis, the output should be:\\n</rationale>\\n\\n<json_output>\\n{\\'management_levels\\': [], \\'titles\\': [\\'Operations Manager\\']}\\n</json_output>'}]}"
      ]
     },
     "execution_count": 96,
     "metadata": {},
     "output_type": "execute_result"
    }
   ],
   "source": [
    "data[1]"
   ]
  },
  {
   "cell_type": "code",
   "execution_count": 97,
   "metadata": {},
   "outputs": [],
   "source": [
    "inference_data = []\n",
    "# inference_data = deepcopy(data)\n",
    "ground_truths_list = []"
   ]
  },
  {
   "cell_type": "code",
   "execution_count": 98,
   "metadata": {},
   "outputs": [],
   "source": [
    "import re\n",
    "\n",
    "def extract_rationale_and_json_output(input_string):\n",
    "    \"\"\"\n",
    "    Parses the input string and extracts content inside <rationale> and <json_output> tags.\n",
    "\n",
    "    Args:\n",
    "        input_string (str): The string containing rationale and JSON output.\n",
    "\n",
    "    Returns:\n",
    "        tuple: A tuple containing rationale (str) and json_output (str).\n",
    "    \"\"\"\n",
    "    # Regular expressions to extract content inside <rationale> and <json_output>\n",
    "    rationale_pattern = r\"<rationale>\\n?(.*?)\\n?</rationale>\"\n",
    "    json_output_pattern = r\"<json_output>\\n?(.*?)\\n?</json_output>\"\n",
    "    \n",
    "    # Extract rationale\n",
    "    rationale_match = re.search(rationale_pattern, input_string, re.DOTALL)\n",
    "    rationale = rationale_match.group(1).strip() if rationale_match else None\n",
    "\n",
    "    # Extract JSON output\n",
    "    json_output_match = re.search(json_output_pattern, input_string, re.DOTALL)\n",
    "    json_output = json_output_match.group(1).strip() if json_output_match else None\n",
    "\n",
    "    return rationale, json_output\n",
    "\n",
    "\n",
    "def extract_query(input_string):\n",
    "    \"\"\"\n",
    "    Extracts the query enclosed in backticks after the phrase 'Here is the query you need to analyze:'.\n",
    "\n",
    "    Args:\n",
    "        input_string (str): The input string containing the query.\n",
    "\n",
    "    Returns:\n",
    "        str: The extracted query or None if not found.\n",
    "    \"\"\"\n",
    "    # Regular expression to match the query enclosed in backticks\n",
    "    query_pattern = r\"Here is the query you need to analyze:\\s+`(.*?)`\"\n",
    "    \n",
    "    # Search for the query\n",
    "    query_match = re.search(query_pattern, input_string, re.DOTALL)\n",
    "    \n",
    "    # Extract the query if found\n",
    "    return query_match.group(1).strip() if query_match else None\n",
    "\n"
   ]
  },
  {
   "cell_type": "code",
   "execution_count": 99,
   "metadata": {},
   "outputs": [],
   "source": [
    "inference_data = []\n",
    "ground_truths_list = []"
   ]
  },
  {
   "cell_type": "code",
   "execution_count": 100,
   "metadata": {},
   "outputs": [],
   "source": [
    "for item in data:\n",
    "    inference_item = item[\"messages\"][:2]\n",
    "    ground_truth_rationale, ground_truth_json_output = extract_rationale_and_json_output(item[\"messages\"][-1][\"content\"])\n",
    "    inference_data.append({ \n",
    "        \"messages\" : inference_item\n",
    "    })\n",
    "    ground_truths_list.append({\n",
    "        \"query\" : extract_query(item[\"messages\"][1][\"content\"]),\n",
    "        \"gt_rationale\" : ground_truth_rationale,\n",
    "        \"gt_json_output\" : ground_truth_json_output\n",
    "    })\n",
    "    # print('-'*47)\n",
    "    # print(\"Inference Item: \")\n",
    "    # print(inference_item)\n",
    "    # print('-'*47)\n",
    "    # print(\"Rationale: \")\n",
    "    # print(ground_truth_rationale)\n",
    "    # print('-'*47)\n",
    "    # print(\"JSON Output: \")\n",
    "    # print(ground_truth_json_output)"
   ]
  },
  {
   "cell_type": "code",
   "execution_count": null,
   "metadata": {},
   "outputs": [],
   "source": []
  },
  {
   "cell_type": "code",
   "execution_count": 101,
   "metadata": {},
   "outputs": [
    {
     "data": {
      "text/plain": [
       "{'query': 'I need sales directors in healthcare AI companies based in Germany.',\n",
       " 'gt_rationale': 'To address the user query, we need to identify and evaluate the key phrases mentioned. The key phrase in this query is \"sales directors.\"\\n\\n1. **Key Phrase Identification**: \\n   - \"Sales directors\" is the key phrase. It refers to individuals holding the title of \"Director\" with a specific business function, which is \"Sales.\"\\n\\n2. **Classification**:\\n   - **Management Level**: The term \"Director\" is part of the predefined management levels. However, since \"Sales\" is a specific business function mentioned, it should be classified as a job title rather than a management level.\\n   - **Job Title**: \"Sales directors\" refers to the job title of \"Director of Sales,\" which includes the business function \"Sales.\"\\n\\n3. **Conclusion**:\\n   - Since \"Sales directors\" specifies a business function, it falls under the category of job titles.\\n\\nTherefore, the output should reflect this classification:',\n",
       " 'gt_json_output': \"{'management_levels': [], 'titles': ['Director of Sales']}\"}"
      ]
     },
     "execution_count": 101,
     "metadata": {},
     "output_type": "execute_result"
    }
   ],
   "source": [
    "ground_truths_list[0]"
   ]
  },
  {
   "cell_type": "code",
   "execution_count": 102,
   "metadata": {},
   "outputs": [],
   "source": [
    "with open(\"test_data_gts.json\", \"w\") as f:\n",
    "    json.dump(ground_truths_list, f, indent=2)"
   ]
  },
  {
   "cell_type": "code",
   "execution_count": 103,
   "metadata": {},
   "outputs": [
    {
     "data": {
      "text/plain": [
       "(51, 51)"
      ]
     },
     "execution_count": 103,
     "metadata": {},
     "output_type": "execute_result"
    }
   ],
   "source": [
    "len(inference_data), len(ground_truths_list)"
   ]
  },
  {
   "cell_type": "code",
   "execution_count": 104,
   "metadata": {},
   "outputs": [
    {
     "data": {
      "text/plain": [
       "[{'messages': [{'role': 'system',\n",
       "    'content': 'You are an AI assistant tasked with extracting management levels and job titles from a given query. Your goal is to analyze the query, identify relevant key phrases, and categorize them appropriately as either management levels or job titles while generating proper reasoning and thinking step by step. \\nYour output format should be like below:\\n<rationale>\\nProvide reasoning and step-by-step thinking inside here\\n</rationale>\\n<json_output>\\nProvide json output inside here\\n</json_output>\\n'},\n",
       "   {'role': 'user',\n",
       "    'content': 'User Query: \\nInstructions:\\n1. Identify key phrases that are management levels or job titles.\\n2. Categorize each key phrase as either a management level or a job title.\\n3. Use predefined management levels: [\"Partners,\",\" \"Founder or Co-founder,\" \"Board of Directors,\" \"CSuite/Chiefs,\" \"Executive VP or Sr. VP,\" \"General Manager,\" \"Manager,\" \"Head,\" \"Senior Partner,\" \"Junior Partner,\" \"VP,\" \"Director,\" \"Senior (All Senior-Level Individual Contributors),\" \"Mid (All Mid-Level Individual Contributors),\" \"Junior (All Junior-Level Individual Contributors)\"].\\n4. For job titles:\\n   - Normalize and include abbreviations if applicable.\\n   - Exclude company or region names.\\n   \\nAlways return a JSON object. \\n\\n\\nHere is the query you need to analyze: `I need sales directors in healthcare AI companies based in Germany.`\\nLet\\'s think step by step about each key phrase.'}]},\n",
       " {'messages': [{'role': 'system',\n",
       "    'content': 'You are an AI assistant tasked with extracting management levels and job titles from a given query. Your goal is to analyze the query, identify relevant key phrases, and categorize them appropriately as either management levels or job titles while generating proper reasoning and thinking step by step. \\nYour output format should be like below:\\n<rationale>\\nProvide reasoning and step-by-step thinking inside here\\n</rationale>\\n<json_output>\\nProvide json output inside here\\n</json_output>\\n'},\n",
       "   {'role': 'user',\n",
       "    'content': 'User Query: \\nInstructions:\\n1. Identify key phrases that are management levels or job titles.\\n2. Categorize each key phrase as either a management level or a job title.\\n3. Use predefined management levels: [\"Partners,\",\" \"Founder or Co-founder,\" \"Board of Directors,\" \"CSuite/Chiefs,\" \"Executive VP or Sr. VP,\" \"General Manager,\" \"Manager,\" \"Head,\" \"Senior Partner,\" \"Junior Partner,\" \"VP,\" \"Director,\" \"Senior (All Senior-Level Individual Contributors),\" \"Mid (All Mid-Level Individual Contributors),\" \"Junior (All Junior-Level Individual Contributors)\"].\\n4. For job titles:\\n   - Normalize and include abbreviations if applicable.\\n   - Exclude company or region names.\\n   \\nAlways return a JSON object. \\n\\n\\nHere is the query you need to analyze: `Find operations managers at logistics startups using AI for route optimization in Southeast Asia.`\\nLet\\'s think step by step about each key phrase.'}]}]"
      ]
     },
     "execution_count": 104,
     "metadata": {},
     "output_type": "execute_result"
    }
   ],
   "source": [
    "inference_data[:2]"
   ]
  },
  {
   "cell_type": "code",
   "execution_count": 105,
   "metadata": {},
   "outputs": [],
   "source": [
    "STUDENT_MODEL_PROMPT_SYSTEM = \"\"\"You are an AI assistant tasked with extracting management levels and job titles from a given query. Your goal is to analyze the query, identify relevant key phrases, and categorize them appropriately as either management levels or job titles while generating proper reasoning and thinking step by step. \n",
    "Your output format should be like below:\n",
    "<rationale>\n",
    "Provide reasoning and step-by-step thinking inside here\n",
    "</rationale>\n",
    "<json_output>\n",
    "Provide json output inside here\n",
    "</json_output>\n",
    "\"\"\"\n",
    "\n",
    "STUDENT_MODEL_PROMPT_USER_ORIGINAL = \"\"\"Instructions:\n",
    "1. Management Levels: Only return management levels that match the predefined set: [\"Partners,\",\" \"Founder or Co-founder,\" \"Board of Directors,\" \"CSuite/Chiefs,\" \"Executive VP or Sr. VP,\" \"General Manager,\" \"Manager,\" \"Head,\" \"Senior Partner,\" \"Junior Partner,\" \"VP,\" \"Director,\" \"Senior (All Senior-Level Individual Contributors),\" \"Mid (All Mid-Level Individual Contributors),\" \"Junior (All Junior-Level Individual Contributors)\"]. MANAGEMENT CAN ONLY BE FROM THIS PREDEFINED SET, Nothing ELSE.\n",
    "2. Job Titles: Normalize the job title after extracting it from the text. For example, convert \"ceo\" to \"Chief Executive Officer\" and always include both the full title and its abbreviation (confirmed ones), e.g., \"VP of Engineering\" and \"Vice President of Engineering.\" or \"Chief Innovation Officer\" and \"CINO\". ENSURE LOGICAL and EXACT job titles such as 'Architect' NOT 'Architect who is skilled in VR'. Job titles MUST BE CONCISE AND TO THE POINT and shouldn't include company names or region names. Do not change the title for normalization.\n",
    "3. Response Format: Your response must be a dictionary with two keys: \"management_levels\" and \"titles\". Each key should have a list of management levels and titles respectively.\n",
    "4. Identify the key phrases in a prompt. Key phrase is a title and its function, IF THE function is mentioned. If the function would be mentioned, it will be classified as a \"Job Title\". For example, \"CEOs working in Automotive Industry and VP of Engineering of Microsoft\" has the \"CEOs\" and \"VP of Engineering\" as Key Phrases. In this case ONLY VP CANNOT be considered a key phrase. ONLY CONSIDER THE KEY PHRASES MENTIONED, DO NOT ASSUME. Past and current designations dont matter.\n",
    "5. Check whether the KEY PHRASE should be classified as a Job Title or a Management Level. IT SHOULD NEVER BE CLASSIFIED INTO BOTH. This is ESSENTIAL.\n",
    "5. If a key phrase is classified as title, don't include it in the management levels. For example, if \"VP of Engineering\" is classified as title then don't include \"VP\" in management levels. Industry or company names will not be included in job titles.\n",
    "6. If a key phrase is classified as a management level, don't include it in the title. For example, if \"Vice Presidents\" is classified as management level then don't include \"Vice Presidents\" in titles. A job title will ONLY be a title and its business function. No other DETAIL should be added. A Management Level cannot COME FROM WITHIN A JOB TITLE.\n",
    "7. Remember: One instance of a key phrase should be considered for either management level or job title, not both. Each will fall either into management levels or job title but WILL NEVER FALL INTO BOTH. A KEY PHRASE CANNOT BE IN MANAGEMENT LEVELS AND TITLE, BOTH. A Management Level cannot COME FROM WITHIN A JOB TITLE. \n",
    "8. If the word 'executive' is mentioned, specific considerations should be taken into account.\n",
    "\n",
    "Take a deep breath and understand.\n",
    "Query: \"Give me VPs working in Microsoft\": # VPs is the KEY PHRASE. It will be evaluated as a whole key phrase ONLY. It cannot be classified into a management level and a title both.\n",
    "Management Level Focus: In this query, \"VPs\" should refer to individuals at the management level of Vice President within Microsoft. This means you are asking for a list of people who occupy the VP rank across various departments or divisions within the company. VPs can cover the complete domain of of 'VP' in management level. The emphasis is on their standing in the organizational hierarchy, regardless of their specific job titles. A management title will only be selected if it covers the complete domain in the predefined set.\n",
    "Job Title Focus: If you were asking about \"VPs\" in terms of job titles, you'd be interested in individuals whose specific title is \"VP\" of a certain business function, such as \"VP of Marketing\" (Marketing is a business function) or \"VP of Engineering\" (Engineering is a business function). If a function is clearly mentioned then it would be JOB TITLE. \"VP of Microsoft\" does NOT have a function (Microsoft is an organization) neither does \"Automotive VPs\" (Automotive can ONLY be an industry). Identify the BUSINESS functions accurately. Then they CANNOT come under management levels.\n",
    "Output: {\"management_levels\": [\"VP\"], \"titles\": []}\n",
    "\n",
    "Query: \"The CFOs working in google or facebook\": #CFOs is a KEY PHRASE. It will be evaluated as a whole key phrase ONLY. It cannot be classified into a management level and a title both.\n",
    "Management Level Focus: In this query, \"CFOs\" does not cover the complete 'C-Suite' domain. ONLY IF COMPLETE DOMAIN IS COVERED then the key phrase will be in management level. One job title, even if it is on the top or head of the heirarchy, does not cover the complete domain. If a user wants all 'executives', without any business function specified then three management levels will be covered, namely \"CSuite,\" \"Executive VP or Sr. VP\" and \"VP\" so all MUST come. However, the word 'executive' is mentioned in relation to a business function, only titles specific to that function should be included. For example, if 'Marketing Executives' is mentioned, titles such as 'CMO', 'Chief Marketing Officer', 'Senior VP of Marketing', 'Senior Vice President of Marketing', 'VP of Marketing', and 'Vice President of Marketing' should be included. The word 'executive' or 'executives' would, thus, NEVER be included neither as job title nor management level.\n",
    "Job Title Focus: As a CFO would only be a chief in finance (not covering the CSuite domain), the CFO being discussed here comes under job title, not management level, same if the title was \"heads of finance\" (wouldn't cover Head domain), etc.\n",
    "Output: {\"management_levels\": [], \"titles\": [\"CFO\", \"Chief Finance Officer\"]} # Job titles MUST BE CONCISE and TO THE POINT, mentioning ONLY the TITLE and the BUSINESS FUNCTION if the business function is given. No added details, such as company name or group.\n",
    "\n",
    "If terms like 'leader', 'expert', 'specialist', or similar are mentioned, extract a maximum of 2-3 relevant job titles associated with those terms based on the context, focusing on the most appropriate leadership or expertise roles. However, do not extract titles based on names, companies, etc.\n",
    "\n",
    "For each management level and title, also tell why you put it there. If a business function can be clearly identified, the key phrase will be a JOB title. ALWAYS make the necessary changes when the word 'executive' or 'leader' or 'expert', etc., is mentioned in the user query and get LOGICAL titles. Management level of 'Manager' will not be chosen when a specific type of 'manager' (senior managers, project manager, etc.) are asked for. ONLY identify and consider complete key phrases EXPLICITLY MENTIONED IN THE PROMPT, and each key phrase will either be in management level or title, NEVER consider THE SAME KEY PHRASE for BOTH. Evaluate key phrases separately.\n",
    "Always return a JSON object in your output.\n",
    "\n",
    "User Query: {{QUERY}}\n",
    "Let's think step by step about each key phrase.\"\"\"\n",
    "\n",
    "STUDENT_MODEL_PROMPT_USER_V3 = \"\"\"\n",
    "Instructions:\n",
    "1. Identify key phrases that are management levels or job titles.\n",
    "2. Categorize each key phrase as either a management level or a job title.\n",
    "3. Use predefined management levels: ['Partners,',' 'Founder or Co-founder,' 'Board of Directors,' 'CSuite/Chiefs,' 'Executive VP or Sr. VP,' 'General Manager,' 'Manager,' 'Head,' 'Senior Partner,' 'Junior Partner,' 'VP,' 'Director,' 'Senior (All Senior-Level Individual Contributors),' 'Mid (All Mid-Level Individual Contributors),' 'Junior (All Junior-Level Individual Contributors)'].\n",
    "4. For job titles:\n",
    "   - Normalize and include abbreviations if applicable.\n",
    "   - Exclude company or region names.\n",
    "   \n",
    "Always return a JSON object. \n",
    "\n",
    "\n",
    "Here is the query you need to analyze: `{{QUERY}}`\n",
    "Let's think step by step about each key phrase.\n",
    "\"\"\"\n",
    "\n",
    "\n",
    "\n",
    "\n",
    "ASSISTANT_RESPONSE_TEMPLATE = \"\"\"\n",
    "<rationale>\n",
    "{{rationale}}\n",
    "</rationale>\n",
    "\n",
    "<json_output>\n",
    "{{json_output}}\n",
    "</json_output>\n",
    "\"\"\"\n"
   ]
  },
  {
   "cell_type": "code",
   "execution_count": 135,
   "metadata": {},
   "outputs": [],
   "source": [
    "\n",
    "# model_name = \"ft:gpt-4o-mini-2024-07-18:qlu:ner-v1-338-training-examples-08-01-2024-3-epochs:AnSGTc0m:ckpt-step-676\"\n",
    "# model_name = \"ft:gpt-4o-mini-2024-07-18:qlu:ner-v2-49-improved-training-examples-09-01-2024-2-epochs:AnjrNkjW\"\n",
    "model_name = \"gpt-4o-mini-2024-07-18\"\n",
    "async def chatgpt_response_a(query, temperature=0.1, model=model_name, **kwargs):\n",
    "\n",
    "    \"\"\"\n",
    "    Function to run prompts on chatgpt\n",
    "\n",
    "    Args:\n",
    "        key (string): openai api key\n",
    "        messages (list): list of object that has the chat that you want to process with chatgpt. i.e. system prompt, assistant prompt and user prompt\n",
    "        temperature (float, optional): Temperature of gpt for generations. Defaults to 0.7.\n",
    "        model (str, optional): The model you want to use. Defaults to \"gpt-4o\".\n",
    "\n",
    "    Returns:\n",
    "        string: chatgpt result\n",
    "    \"\"\"\n",
    "    # user_message = Template(NER_MANAGEMENT_LEVEL_TITLE_USER_PROMPT).render({\"QUERY\" : query})\n",
    "    user_message = Template(STUDENT_MODEL_PROMPT_USER_ORIGINAL).render({\"QUERY\" : query})\n",
    "    messages = [\n",
    "            # {\"role\": \"system\", \"content\": NER_MANAGEMENT_LEVEL_TITLE_SYSTEM_PROMPT},\n",
    "            {\"role\": \"system\", \"content\": STUDENT_MODEL_PROMPT_SYSTEM},\n",
    "            {\"role\": \"user\", \"content\": f\"User Query: {user_message}\"},\n",
    "            \n",
    "    ]\n",
    "    # print(messages)\n",
    "    openai_object = {\n",
    "        \"model\": model,\n",
    "        \"messages\": messages,\n",
    "        \"temperature\": temperature,\n",
    "    }\n",
    "    aclient = AsyncOpenAI(api_key=openai_api_key)\n",
    "\n",
    "    openai_object.update(kwargs)\n",
    "\n",
    "    response = await aclient.chat.completions.create(**openai_object)\n",
    "    response = response.__dict__\n",
    "    response[\"choices\"] = [choice.__dict__ for choice in response[\"choices\"]]\n",
    "    for choice in response[\"choices\"]:\n",
    "        choice[\"message\"] = choice[\"message\"].__dict__\n",
    "    return response"
   ]
  },
  {
   "cell_type": "code",
   "execution_count": 136,
   "metadata": {},
   "outputs": [],
   "source": [
    "import asyncio\n",
    "from typing import List, Dict\n",
    "import math\n",
    "\n",
    "# model_name = \"ft:gpt-4o-mini-2024-07-18:qlu:ner-v1-338-training-examples-08-01-2024-3-epochs:AnSGTc0m:ckpt-step-676\"\n",
    "# model_name = \"ft:gpt-4o-mini-2024-07-18:qlu:ner-v2-49-improved-training-examples-09-01-2024-2-epochs:AnjrNkjW\"\n",
    "model_name = \"gpt-4o-mini-2024-07-18\"\n",
    "\n",
    "async def process_batch(texts: List[str]) -> List[Dict]:\n",
    "    \"\"\"Process a single batch of texts using the original title_management logic\"\"\"\n",
    "    ans = []\n",
    "    tasks = []\n",
    "    for text in texts:\n",
    "        tasks.append(chatgpt_response_a(text, temperature=0.1, model=model_name))\n",
    "\n",
    "    results = await asyncio.gather(*tasks)\n",
    "    for query, res in zip(texts, results):\n",
    "        response = res\n",
    "        response = response[\"choices\"][0][\"message\"][\"content\"]\n",
    "        rationale, json_output = extract_rationale_and_json_output(response)\n",
    "        ans.append({\n",
    "            \"query\": query,\n",
    "            \"generated_rationale\": rationale,\n",
    "            \"generated_json_output\": json_output,\n",
    "            \"unparsed_response\" : response\n",
    "        })\n",
    "    return ans\n",
    "\n",
    "async def batched_title_management(texts: List[str], batch_size: int = 10) -> List[Dict]:\n",
    "    \"\"\"Process texts in batches of specified size\"\"\"\n",
    "    all_results = []\n",
    "    num_batches = math.ceil(len(texts) / batch_size)\n",
    "    \n",
    "    for i in range(num_batches):\n",
    "        start_idx = i * batch_size\n",
    "        end_idx = min((i + 1) * batch_size, len(texts))\n",
    "        batch = texts[start_idx:end_idx]\n",
    "        \n",
    "        try:\n",
    "            batch_results = await process_batch(batch)\n",
    "            all_results.extend(batch_results)\n",
    "            \n",
    "            # Optional: Add a small delay between batches to avoid rate limiting\n",
    "            if i < num_batches - 1:\n",
    "                await asyncio.sleep(1)\n",
    "                \n",
    "        except Exception as e:\n",
    "            print(f\"Error processing batch {i+1}/{num_batches}: {str(e)}\")\n",
    "            # You might want to handle the error differently depending on your needs\n",
    "            continue\n",
    "    \n",
    "    return all_results"
   ]
  },
  {
   "cell_type": "code",
   "execution_count": 137,
   "metadata": {},
   "outputs": [],
   "source": [
    "list_of_queries = []\n",
    "for item in ground_truths_list:\n",
    "    list_of_queries.append(item[\"query\"])\n"
   ]
  },
  {
   "cell_type": "code",
   "execution_count": 138,
   "metadata": {},
   "outputs": [
    {
     "data": {
      "text/plain": [
       "51"
      ]
     },
     "execution_count": 138,
     "metadata": {},
     "output_type": "execute_result"
    }
   ],
   "source": [
    "len(list_of_queries)"
   ]
  },
  {
   "cell_type": "code",
   "execution_count": 110,
   "metadata": {},
   "outputs": [],
   "source": [
    "# (len(list_of_queries) - 7)/ len(list_of_queries) * 100"
   ]
  },
  {
   "cell_type": "code",
   "execution_count": 139,
   "metadata": {},
   "outputs": [],
   "source": [
    "results = []\n",
    "results = await batched_title_management(list_of_queries, batch_size=10)"
   ]
  },
  {
   "cell_type": "code",
   "execution_count": 112,
   "metadata": {},
   "outputs": [
    {
     "data": {
      "text/plain": [
       "{'query': 'Find operations managers at logistics startups using AI for route optimization in Southeast Asia.',\n",
       " 'generated_rationale': 'To address the user query, we need to identify the key phrases and determine whether they should be classified as management levels or job titles.\\n\\n1. **Key Phrase Identification**:\\n   - \"operations managers\" is the key phrase here. It specifies a type of manager, which is \"operations managers.\"\\n\\n2. **Classification**:\\n   - **Management Level Focus**: The term \"operations managers\" specifies a particular type of manager, which means it does not cover the complete \"Manager\" domain in the predefined set. Therefore, it cannot be classified as a management level.\\n   - **Job Title Focus**: Since \"operations managers\" specifies a business function (operations), it should be classified as a job title. The job title would be concise and to the point, focusing on the title and the business function.\\n\\n3. **Output**:\\n   - Since \"operations managers\" is classified as a job title, it will not be included in the management levels.\\n\\nHere\\'s the JSON output: **Explanation**:\\n- \"Operations Manager\" is included as a job title because it specifies a business function (operations) and does not cover the complete \"Manager\" domain in the management levels.',\n",
       " 'generated_json_output': \"{'management_levels': [], 'titles': ['Operations Manager']}\",\n",
       " 'unparsed_response': '\\n<rationale>\\nTo address the user query, we need to identify the key phrases and determine whether they should be classified as management levels or job titles.\\n\\n1. **Key Phrase Identification**:\\n   - \"operations managers\" is the key phrase here. It specifies a type of manager, which is \"operations managers.\"\\n\\n2. **Classification**:\\n   - **Management Level Focus**: The term \"operations managers\" specifies a particular type of manager, which means it does not cover the complete \"Manager\" domain in the predefined set. Therefore, it cannot be classified as a management level.\\n   - **Job Title Focus**: Since \"operations managers\" specifies a business function (operations), it should be classified as a job title. The job title would be concise and to the point, focusing on the title and the business function.\\n\\n3. **Output**:\\n   - Since \"operations managers\" is classified as a job title, it will not be included in the management levels.\\n\\nHere\\'s the JSON output: **Explanation**:\\n- \"Operations Manager\" is included as a job title because it specifies a business function (operations) and does not cover the complete \"Manager\" domain in the management levels.\\n</rationale>\\n\\n<json_output>\\n{\\'management_levels\\': [], \\'titles\\': [\\'Operations Manager\\']}\\n</json_output>'}"
      ]
     },
     "execution_count": 112,
     "metadata": {},
     "output_type": "execute_result"
    }
   ],
   "source": [
    "results[1]"
   ]
  },
  {
   "cell_type": "code",
   "execution_count": 113,
   "metadata": {},
   "outputs": [],
   "source": [
    "comparison_list = []"
   ]
  },
  {
   "cell_type": "code",
   "execution_count": 140,
   "metadata": {},
   "outputs": [],
   "source": [
    "with open(\"finetunied_model_v2_results_comparison.json\") as f:\n",
    "    comparison_list = json.load(f)"
   ]
  },
  {
   "cell_type": "code",
   "execution_count": 142,
   "metadata": {},
   "outputs": [
    {
     "data": {
      "text/plain": [
       "51"
      ]
     },
     "execution_count": 142,
     "metadata": {},
     "output_type": "execute_result"
    }
   ],
   "source": [
    "len(comparison_list)"
   ]
  },
  {
   "cell_type": "code",
   "execution_count": 143,
   "metadata": {},
   "outputs": [],
   "source": [
    "final_comparison_list = []"
   ]
  },
  {
   "cell_type": "code",
   "execution_count": 144,
   "metadata": {},
   "outputs": [],
   "source": [
    "for gt, pred, cl in zip(ground_truths_list, results, comparison_list):\n",
    "    final_comparison_list.append({\n",
    "        \"query\" : gt[\"query\"],\n",
    "        \"Ground Truth\" : gt[\"gt_json_output\"],\n",
    "        \"Base Prediction\" : pred[\"generated_json_output\"],\n",
    "        \"FT Prediction\" : cl[\"Prediction\"],\n",
    "        \"GT Rationale\" : gt[\"gt_rationale\"],\n",
    "        \"PD Rationale\" : pred[\"generated_rationale\"],\n",
    "        \"FT Ratinale\" : cl[\"PD Rationale\"],\n",
    "        \"unparsed_model_response\" : pred[\"unparsed_response\"]\n",
    "    })\n"
   ]
  },
  {
   "cell_type": "code",
   "execution_count": 146,
   "metadata": {},
   "outputs": [
    {
     "data": {
      "text/plain": [
       "51"
      ]
     },
     "execution_count": 146,
     "metadata": {},
     "output_type": "execute_result"
    }
   ],
   "source": [
    "len(final_comparison_list)"
   ]
  },
  {
   "cell_type": "code",
   "execution_count": 147,
   "metadata": {},
   "outputs": [],
   "source": [
    "with open(\"finetunied_model_v2_results_comparison_2.json\", \"w\") as f:\n",
    "    json.dump(final_comparison_list, f, indent=2)"
   ]
  },
  {
   "cell_type": "code",
   "execution_count": 50,
   "metadata": {},
   "outputs": [],
   "source": [
    "result = await chatgpt_response_a(\"Give me VP of Sales\")"
   ]
  },
  {
   "cell_type": "code",
   "execution_count": 51,
   "metadata": {},
   "outputs": [],
   "source": [
    "rationale, json_output = extract_rationale_and_json_output(result['choices'][0][\"message\"][\"content\"])"
   ]
  },
  {
   "cell_type": "code",
   "execution_count": 52,
   "metadata": {},
   "outputs": [
    {
     "name": "stdout",
     "output_type": "stream",
     "text": [
      "1. **Identify Key Phrases**: The query is \"Give me VP of Sales\". The key phrase here is \"VP of Sales\". This is a specific title with a business function (Sales) mentioned.\n",
      "\n",
      "2. **Determine Classification**: \n",
      "   - \"VP of Sales\" is a job title because it specifies a business function (Sales). According to the instructions, if a business function is mentioned, it should be classified as a job title.\n",
      "   - The management level \"VP\" is not considered separately because it is part of the job title \"VP of Sales\".\n",
      "\n",
      "3. **Normalization**: \n",
      "   - Normalize \"VP of Sales\" to include both the full title and its abbreviation: \"VP of Sales\" and \"Vice President of Sales\".\n",
      "\n",
      "4. **Final Categorization**: \n",
      "   - Since \"VP of Sales\" is classified as a job title, it will not be included in the management levels.\n",
      "   - The management levels list remains empty as no standalone management level is identified.\n",
      "\n",
      "5. **Output Construction**: \n",
      "   - The job title list includes \"VP of Sales\" and \"Vice President of Sales\".\n",
      "   - The management levels list is empty.\n"
     ]
    }
   ],
   "source": [
    "print(rationale)"
   ]
  },
  {
   "cell_type": "code",
   "execution_count": 53,
   "metadata": {},
   "outputs": [
    {
     "data": {
      "text/plain": [
       "'{\\n  \"management_levels\": [],\\n  \"titles\": [\"VP of Sales\", \"Vice President of Sales\"]\\n}'"
      ]
     },
     "execution_count": 53,
     "metadata": {},
     "output_type": "execute_result"
    }
   ],
   "source": [
    "json_output"
   ]
  },
  {
   "cell_type": "markdown",
   "metadata": {},
   "source": [
    "## Comparing Results"
   ]
  },
  {
   "cell_type": "code",
   "execution_count": 152,
   "metadata": {},
   "outputs": [],
   "source": [
    "comparison_list_data = []"
   ]
  },
  {
   "cell_type": "code",
   "execution_count": 153,
   "metadata": {},
   "outputs": [],
   "source": [
    "with open(\"finetunied_model_v2_results_comparison_2.json\") as f:\n",
    "    comparison_list_data = json.load(f) "
   ]
  },
  {
   "cell_type": "code",
   "execution_count": 154,
   "metadata": {},
   "outputs": [],
   "source": [
    "base_problem_count = 0\n",
    "ft_problem_count = 0\n",
    "parsing_count = 0"
   ]
  },
  {
   "cell_type": "code",
   "execution_count": 155,
   "metadata": {},
   "outputs": [],
   "source": [
    "problematic_queries = []"
   ]
  },
  {
   "cell_type": "code",
   "execution_count": 165,
   "metadata": {},
   "outputs": [
    {
     "name": "stdout",
     "output_type": "stream",
     "text": [
      "{\n",
      "  \"query\": \"GM or VP for grocery companies in finland, make sure they have relevant experience\",\n",
      "  \"Ground Truth\": \"{'management_levels': ['General Manager', 'VP'], 'titles': []}\",\n",
      "  \"Base Prediction\": \"{\\n  \\\"management_levels\\\": [\\\"GM\\\", \\\"VP\\\"],\\n  \\\"titles\\\": []\\n}\",\n",
      "  \"FT Prediction\": \"{'management_levels': ['GM'], 'titles': ['VP of Grocery', 'Vice President of Grocery']}\",\n",
      "  \"GT Rationale\": \"To address the user query, we need to identify the key phrases and determine whether they should be classified as management levels or job titles. Let's break it down:\\n\\n1. **Key Phrase: \\\"GM\\\"**\\n   - **Analysis**: \\\"GM\\\" stands for \\\"General Manager.\\\" In this context, it refers to a management level within grocery companies in Finland. The term \\\"General Manager\\\" is part of the predefined set of management levels.\\n   - **Classification**: Management Level\\n   - **Reason**: \\\"GM\\\" covers the complete domain of \\\"General Manager\\\" in the predefined management levels set.\\n\\n2. **Key Phrase: \\\"VP\\\"**\\n   - **Analysis**: \\\"VP\\\" stands for \\\"Vice President.\\\" In this context, it refers to a management level within grocery companies in Finland. The term \\\"Vice President\\\" is part of the predefined set of management levels.\\n   - **Classification**: Management Level\\n   - **Reason**: \\\"VP\\\" covers the complete domain of \\\"Vice President\\\" in the predefined management levels set.\\n\\nSince both \\\"GM\\\" and \\\"VP\\\" are classified as management levels, they will not be included in the job titles. The query does not specify any business functions for these roles, so they remain as management levels.\\n\\n**Output**:\",\n",
      "  \"PD Rationale\": \"In the user query, we have two key phrases: \\\"GM\\\" and \\\"VP\\\". \\n\\n1. **GM (General Manager)**: This is a management level that fits within the predefined set. It indicates a position of authority and responsibility within a company, specifically in the context of managing operations. Therefore, \\\"GM\\\" will be classified as a management level.\\n\\n2. **VP (Vice President)**: Similar to GM, \\\"VP\\\" is also a management level that indicates a high-ranking position within an organization. It is part of the predefined management levels. However, since \\\"VP\\\" is mentioned in conjunction with \\\"grocery companies,\\\" it does not specify a particular business function, which means it cannot be classified as a job title. Thus, \\\"VP\\\" will also be classified as a management level.\\n\\nSince both key phrases are classified as management levels, they will not be included in the titles section. \\n\\nThe final classification will be:\\n- Management Levels: [\\\"GM\\\", \\\"VP\\\"]\\n- Titles: []\\n\\nBoth \\\"GM\\\" and \\\"VP\\\" are relevant to the context of grocery companies, but since they do not specify a particular job function, they remain as management levels.\",\n",
      "  \"FT Ratinale\": \"To address the user query, we need to evaluate the key phrases \\\"GM\\\" and \\\"VP\\\" separately, considering the context provided.\\n\\n1. **Key Phrase: \\\"GM\\\" (General Manager)**\\n   - **Management Level Focus**: The term \\\"GM\\\" refers to the management level of General Manager. Since no specific business function is mentioned alongside \\\"GM,\\\" it should be classified under management levels. The query does not specify a business function for \\\"GM,\\\" so it remains a management level.\\n   - **Job Title Focus**: Since no specific business function is mentioned, \\\"GM\\\" does not qualify as a job title.\\n\\n2. **Key Phrase: \\\"VP\\\" (Vice President)**\\n   - **Management Level Focus**: The term \\\"VP\\\" refers to the management level of Vice President. However, since the query specifies \\\"VP for grocery companies,\\\" it implies a business function (grocery), which means it should be classified as a job title.\\n   - **Job Title Focus**: The query specifies \\\"VP for grocery companies,\\\" which indicates a business function (grocery). Therefore, \\\"VP\\\" should be classified as a job title, specifically \\\"VP of Grocery\\\" or \\\"Vice President of Grocery.\\\"\\n\\nBased on the analysis, the output should be:\\n- \\\"GM\\\" is classified as a management level because no specific business function is mentioned.\\n- \\\"VP\\\" is classified as a job title because a business function (grocery) is specified.\",\n",
      "  \"unparsed_model_response\": \"<rationale>\\nIn the user query, we have two key phrases: \\\"GM\\\" and \\\"VP\\\". \\n\\n1. **GM (General Manager)**: This is a management level that fits within the predefined set. It indicates a position of authority and responsibility within a company, specifically in the context of managing operations. Therefore, \\\"GM\\\" will be classified as a management level.\\n\\n2. **VP (Vice President)**: Similar to GM, \\\"VP\\\" is also a management level that indicates a high-ranking position within an organization. It is part of the predefined management levels. However, since \\\"VP\\\" is mentioned in conjunction with \\\"grocery companies,\\\" it does not specify a particular business function, which means it cannot be classified as a job title. Thus, \\\"VP\\\" will also be classified as a management level.\\n\\nSince both key phrases are classified as management levels, they will not be included in the titles section. \\n\\nThe final classification will be:\\n- Management Levels: [\\\"GM\\\", \\\"VP\\\"]\\n- Titles: []\\n\\nBoth \\\"GM\\\" and \\\"VP\\\" are relevant to the context of grocery companies, but since they do not specify a particular job function, they remain as management levels.\\n</rationale>\\n<json_output>\\n{\\n  \\\"management_levels\\\": [\\\"GM\\\", \\\"VP\\\"],\\n  \\\"titles\\\": []\\n}\\n</json_output>\",\n",
      "  \"ft_problem\": \"true\"\n",
      "}\n",
      "{\n",
      "  \"query\": \"Senior associate with 3 years of digital infrastructure investing experience at a private equity fund in the US.\",\n",
      "  \"Ground Truth\": \"{'management_levels': [], 'titles': ['Senior Associate']}\",\n",
      "  \"Base Prediction\": \"{\\n  \\\"management_levels\\\": [],\\n  \\\"titles\\\": [\\\"Senior Associate\\\"]\\n}\",\n",
      "  \"FT Prediction\": \"{'management_levels': [], 'titles': ['Senior Associate of Digital Infrastructure Investing']}\",\n",
      "  \"GT Rationale\": \"To address the user query, we need to identify key phrases and determine whether they should be classified as management levels or job titles. Let's break down the query:\\n\\n1. **Key Phrase Identification**: \\n   - \\\"Senior associate\\\" is the key phrase here.\\n\\n2. **Classification**:\\n   - **Management Level**: The predefined management levels do not include \\\"Senior associate.\\\" The closest management level is \\\"Senior,\\\" but \\\"Senior associate\\\" does not cover the complete domain of \\\"Senior\\\" as a management level.\\n   - **Job Title**: \\\"Senior associate\\\" is a specific job title, especially when considering the context of \\\"digital infrastructure investing\\\" and \\\"private equity fund.\\\" It indicates a role with a specific function in the investment domain.\\n\\n3. **Conclusion**:\\n   - Since \\\"Senior associate\\\" is a specific job title related to a business function (investing in digital infrastructure), it should be classified under job titles.\\n\\nTherefore, the output should be:\",\n",
      "  \"PD Rationale\": \"In the provided query, the key phrase to evaluate is \\\"Senior associate.\\\" \\n\\n1. **Management Level Evaluation**: The term \\\"Senior\\\" indicates a higher level of experience or rank, but \\\"associate\\\" does not correspond to any of the predefined management levels. The predefined set includes terms like \\\"Senior Partner,\\\" \\\"Manager,\\\" \\\"Director,\\\" etc., but \\\"Senior associate\\\" does not match any of these. Therefore, it cannot be classified as a management level.\\n\\n2. **Job Title Evaluation**: The phrase \\\"Senior associate\\\" is a specific job title that indicates a role within an organization, typically associated with a level of seniority. It does not specify a business function, but it is concise and to the point. Since it is a recognized title in many industries, it will be classified as a job title.\\n\\n3. **Conclusion**: The only key phrase identified is \\\"Senior associate,\\\" which will be classified as a job title. There are no management levels that match the predefined set from this query.\\n\\nThus, the output will reflect that \\\"Senior associate\\\" is the only title identified, with no management levels present.\",\n",
      "  \"FT Ratinale\": \"To address the user query, we need to identify the key phrases and determine whether they should be classified as management levels or job titles. Let's break it down:\\n\\n1. **Key Phrase Identification**:\\n   - \\\"Senior associate\\\" is the key phrase here. It is mentioned with a specific business function context, which is \\\"digital infrastructure investing.\\\"\\n\\n2. **Classification**:\\n   - **Job Title Focus**: Since \\\"senior associate\\\" is mentioned with a specific business function (\\\"digital infrastructure investing\\\"), it should be classified as a job title. The title should be concise and to the point, mentioning only the title and the business function.\\n\\n3. **Management Level Focus**:\\n   - \\\"Senior associate\\\" does not cover a complete domain in the predefined set of management levels. Therefore, it should not be classified as a management level.\\n\\nBased on this analysis, the output should be: **Explanation**:\\n- \\\"Senior Associate\\\" is classified as a job title because it is mentioned with a specific business function (\\\"digital infrastructure investing\\\").\\n- It is not included in management levels because it does not cover a complete domain in the predefined set.\",\n",
      "  \"unparsed_model_response\": \"<rationale>\\nIn the provided query, the key phrase to evaluate is \\\"Senior associate.\\\" \\n\\n1. **Management Level Evaluation**: The term \\\"Senior\\\" indicates a higher level of experience or rank, but \\\"associate\\\" does not correspond to any of the predefined management levels. The predefined set includes terms like \\\"Senior Partner,\\\" \\\"Manager,\\\" \\\"Director,\\\" etc., but \\\"Senior associate\\\" does not match any of these. Therefore, it cannot be classified as a management level.\\n\\n2. **Job Title Evaluation**: The phrase \\\"Senior associate\\\" is a specific job title that indicates a role within an organization, typically associated with a level of seniority. It does not specify a business function, but it is concise and to the point. Since it is a recognized title in many industries, it will be classified as a job title.\\n\\n3. **Conclusion**: The only key phrase identified is \\\"Senior associate,\\\" which will be classified as a job title. There are no management levels that match the predefined set from this query.\\n\\nThus, the output will reflect that \\\"Senior associate\\\" is the only title identified, with no management levels present.\\n</rationale>\\n<json_output>\\n{\\n  \\\"management_levels\\\": [],\\n  \\\"titles\\\": [\\\"Senior Associate\\\"]\\n}\\n</json_output>\",\n",
      "  \"ft_problem\": \"true\"\n",
      "}\n",
      "{\n",
      "  \"query\": \"Find VP-level leaders from companies in Western Europe with over 30 years of experience and expertise in corporate finance.\",\n",
      "  \"Ground Truth\": \"{'management_levels': ['VP'], 'titles': []}\",\n",
      "  \"Base Prediction\": \"{\\n  \\\"management_levels\\\": [\\\"VP\\\"],\\n  \\\"titles\\\": []\\n}\",\n",
      "  \"FT Prediction\": \"{'management_levels': [], 'titles': ['CFO', 'Chief Finance Officer', 'VP of Finance', 'Vice President of Finance']}\",\n",
      "  \"GT Rationale\": \"To address the user query, we need to identify the key phrases and determine whether they should be classified as management levels or job titles. Let's break down the query:\\n\\n1. **Key Phrase Identification**: \\n   - \\\"VP-level leaders\\\" is the key phrase in this query.\\n\\n2. **Classification**:\\n   - **Management Level Focus**: The term \\\"VP-level\\\" suggests a focus on the management level of Vice President. The query does not specify a particular business function, so it aligns with the management level classification.\\n   - **Job Title Focus**: If a specific business function were mentioned, such as \\\"VP of Corporate Finance,\\\" it would be classified as a job title. However, since no specific function is mentioned, it remains a management level.\\n\\n3. **Consideration of Terms like 'Leader'**:\\n   - The term \\\"leaders\\\" is used here, but it does not specify a particular function or role that would necessitate extracting specific job titles. Therefore, it does not alter the classification of \\\"VP-level\\\" as a management level.\\n\\nBased on this analysis, the key phrase \\\"VP-level leaders\\\" should be classified under management levels, as it refers to individuals at the Vice President level without specifying a particular business function.\\n\\n**Output**:\",\n",
      "  \"PD Rationale\": \"In the user query, the key phrases to evaluate are \\\"VP-level leaders\\\" and \\\"corporate finance.\\\" \\n\\n1. **VP-level leaders**: The term \\\"VP\\\" refers to \\\"Vice President,\\\" which is a management level. The phrase \\\"VP-level leaders\\\" indicates individuals who hold the Vice President title, thus categorizing it under management levels. Since it does not specify a particular function (like \\\"VP of Marketing\\\"), it remains a general management level.\\n\\n2. **Corporate finance**: This phrase indicates a specific business function. However, it does not directly correspond to a job title in this context. The term \\\"leaders\\\" is more of a descriptor and does not provide a specific job title. Therefore, we do not extract a job title from this phrase.\\n\\nGiven these evaluations, we classify \\\"VP\\\" as a management level and do not extract any job titles since there are no specific titles mentioned that correspond to a business function.\",\n",
      "  \"FT Ratinale\": \"To address the user query, we need to identify the key phrases and determine whether they should be classified as management levels or job titles. The key phrase in this query is \\\"VP-level leaders.\\\"\\n\\n1. **Key Phrase: \\\"VP-level leaders\\\"**\\n   - **Management Level Focus:** The term \\\"VP-level\\\" refers to individuals at the management level of Vice President. However, since the word \\\"leaders\\\" is mentioned, we need to extract relevant leadership titles associated with the VP level.\\n   - **Job Title Focus:** The word \\\"leaders\\\" suggests a focus on leadership roles. Therefore, we should extract specific leadership titles related to the VP level and corporate finance.\\n\\nGiven the context, we should focus on leadership titles associated with the VP level in corporate finance. Here are the relevant titles:\\n\\n- \\\"CFO\\\" (Chief Finance Officer)\\n- \\\"Chief Finance Officer\\\"\\n- \\\"VP of Finance\\\" (Vice President of Finance)\\n- \\\"Vice President of Finance\\\"\\n\\nThese titles are concise and to the point, mentioning only the title and the business function (corporate finance). They align with the leadership context and the VP level in corporate finance.\\n\\n**Output:** This output reflects the focus on leadership titles associated with the VP level in corporate finance, considering the mention of \\\"leaders\\\" in the query.\",\n",
      "  \"unparsed_model_response\": \"<rationale>\\nIn the user query, the key phrases to evaluate are \\\"VP-level leaders\\\" and \\\"corporate finance.\\\" \\n\\n1. **VP-level leaders**: The term \\\"VP\\\" refers to \\\"Vice President,\\\" which is a management level. The phrase \\\"VP-level leaders\\\" indicates individuals who hold the Vice President title, thus categorizing it under management levels. Since it does not specify a particular function (like \\\"VP of Marketing\\\"), it remains a general management level.\\n\\n2. **Corporate finance**: This phrase indicates a specific business function. However, it does not directly correspond to a job title in this context. The term \\\"leaders\\\" is more of a descriptor and does not provide a specific job title. Therefore, we do not extract a job title from this phrase.\\n\\nGiven these evaluations, we classify \\\"VP\\\" as a management level and do not extract any job titles since there are no specific titles mentioned that correspond to a business function.\\n</rationale>\\n<json_output>\\n{\\n  \\\"management_levels\\\": [\\\"VP\\\"],\\n  \\\"titles\\\": []\\n}\\n</json_output>\",\n",
      "  \"ft_problem\": \"true\"\n",
      "}\n",
      "{\n",
      "  \"query\": \"executive roles in e-commerce sectors with robust revenue streams, preferably within Northern Europe\",\n",
      "  \"Ground Truth\": \"{'management_levels': ['CSuite/Chiefs', 'Executive VP or Sr. VP', 'VP'], 'titles': []}\",\n",
      "  \"Base Prediction\": \"{\\\"management_levels\\\": [], \\\"titles\\\": []}\",\n",
      "  \"FT Prediction\": null,\n",
      "  \"GT Rationale\": \"To address the user query, we need to identify the key phrases and determine whether they should be classified as management levels or job titles. The query mentions \\\"executive roles in e-commerce sectors with robust revenue streams, preferably within Northern Europe.\\\"\\n\\n1. **Key Phrase Identification**:\\n   - The key phrase here is \\\"executive roles.\\\"\\n\\n2. **Classification**:\\n   - The term \\\"executive roles\\\" is broad and does not specify a particular business function. Therefore, it should be classified under management levels rather than job titles.\\n   - When the term \\\"executive\\\" is mentioned without a specific business function, it typically refers to high-level management positions. In this context, it would encompass the management levels of \\\"CSuite/Chiefs,\\\" \\\"Executive VP or Sr. VP,\\\" and \\\"VP.\\\"\\n\\n3. **Output**:\\n   - Since \\\"executive roles\\\" covers multiple management levels, we will include those levels in the output.\\n\\nHere's the JSON object for the output: This output reflects the broad nature of \\\"executive roles\\\" without specifying a particular business function, thus categorizing it under management levels.\",\n",
      "  \"PD Rationale\": \"In the user query, the key phrase \\\"executive roles\\\" is mentioned. The term \\\"executive\\\" typically refers to high-level management positions, often within the C-Suite. However, since the query does not specify a particular business function (like \\\"executive in marketing\\\" or \\\"executive in finance\\\"), it does not provide a clear job title. Instead, it suggests a general category of high-level positions.\\n\\nThe phrase \\\"e-commerce sectors\\\" indicates the industry context but does not specify a job title or management level. The mention of \\\"robust revenue streams\\\" is descriptive and does not contribute to identifying a specific title or management level.\\n\\nSince \\\"executive roles\\\" does not specify a complete management level from the predefined set, it cannot be classified as a management level. Instead, it implies a need for various executive titles that could exist within the e-commerce sector.\\n\\nGiven that there are no specific job titles mentioned in the query, and \\\"executive\\\" does not lead to a specific management level, we conclude that there are no management levels or specific job titles to extract from this query.\\n\\nThus, the output will reflect that there are no management levels or job titles identified from the provided query.\",\n",
      "  \"FT Ratinale\": \"To address the user query, we need to identify the key phrases and determine whether they should be classified as management levels or job titles. The key phrase here is \\\"executive roles in e-commerce sectors.\\\"\\n\\n1. **Key Phrase: \\\"executive roles in e-commerce sectors\\\"**\\n   - **Business Function:** The function mentioned is \\\"e-commerce,\\\" which is a clear business function.\\n   - **Executive Roles:** Since \\\"executive\\\" is mentioned in relation to a business function, we should extract titles specific to that function. This includes titles like:\\n     - \\\"CEO\\\" and \\\"Chief Executive Officer\\\"\\n     - \\\"CFO\\\" and \\\"Chief Finance Officer\\\"\\n     - \\\"CMO\\\" and \\\"Chief Marketing Officer\\\"\\n     - \\\"COO\\\" and \\\"Chief Operating Officer\\\"\\n     - \\\"CTO\\\" and \\\"Chief Technology Officer\\\"\\n     - \\\"Chief Digital Officer\\\" and \\\"CDO\\\"\\n     - \\\"Chief Revenue Officer\\\" and \\\"CRO\\\"\\n\\n   These titles are relevant to executive roles within the e-commerce sector, focusing on leadership positions that drive business functions.\\n\\n2. **Management Levels:** Since the key phrase specifies a business function, it does not cover the complete domain of \\\"executive\\\" in management levels. Therefore, no management levels are included.\\n\\n3. **Titles:** The titles extracted are specific to the e-commerce business function, aligning with the user's query for executive roles.\\n\\nOutput: {\\\"management_levels\\\": [], \\\"titles\\\": [\\\"CEO\\\", \\\"Chief Executive Officer\\\", \\\"CFO\\\", \\\"Chief Finance Officer\\\", \\\"CMO\\\", \\\"Chief Marketing Officer\\\", \\\"COO\\\", \\\"Chief Operating Officer\\\", \\\"CTO\\\", \\\"Chief Technology Officer\\\", \\\"Chief Digital Officer\\\", \\\"CDO\\\", \\\"Chief Revenue Officer\\\", \\\"CRO\\\"]}\",\n",
      "  \"unparsed_model_response\": \"<rationale>\\nIn the user query, the key phrase \\\"executive roles\\\" is mentioned. The term \\\"executive\\\" typically refers to high-level management positions, often within the C-Suite. However, since the query does not specify a particular business function (like \\\"executive in marketing\\\" or \\\"executive in finance\\\"), it does not provide a clear job title. Instead, it suggests a general category of high-level positions.\\n\\nThe phrase \\\"e-commerce sectors\\\" indicates the industry context but does not specify a job title or management level. The mention of \\\"robust revenue streams\\\" is descriptive and does not contribute to identifying a specific title or management level.\\n\\nSince \\\"executive roles\\\" does not specify a complete management level from the predefined set, it cannot be classified as a management level. Instead, it implies a need for various executive titles that could exist within the e-commerce sector.\\n\\nGiven that there are no specific job titles mentioned in the query, and \\\"executive\\\" does not lead to a specific management level, we conclude that there are no management levels or specific job titles to extract from this query.\\n\\nThus, the output will reflect that there are no management levels or job titles identified from the provided query.\\n</rationale>\\n<json_output>\\n{\\\"management_levels\\\": [], \\\"titles\\\": []}\\n</json_output>\",\n",
      "  \"ft_problem\": \"true\"\n",
      "}\n",
      "{\n",
      "  \"query\": \"head of operations positions in online marketplaces with substantial annual sales, targeting Nordic locales\",\n",
      "  \"Ground Truth\": \"{'management_levels': [], 'titles': ['Head of Operations']}\",\n",
      "  \"Base Prediction\": \"{\\n  \\\"management_levels\\\": [],\\n  \\\"titles\\\": [\\\"Head of Operations\\\"]\\n}\",\n",
      "  \"FT Prediction\": \"{'management_levels': [], 'titles': ['COO', 'Chief Operating Officer']}\",\n",
      "  \"GT Rationale\": \"To address the user query, we need to identify the key phrases and determine whether they should be classified as management levels or job titles. Let's break it down:\\n\\n1. **Key Phrase Identification**:\\n   - The key phrase in the query is \\\"head of operations.\\\"\\n\\n2. **Classification**:\\n   - **\\\"Head of Operations\\\"**: This phrase includes a specific business function, \\\"operations,\\\" which indicates it should be classified as a job title rather than a management level. The term \\\"head\\\" is part of the job title and specifies the role within the operations function.\\n\\n3. **Management Levels and Job Titles**:\\n   - Since \\\"head of operations\\\" specifies a business function, it will be classified as a job title.\\n\\n4. **Output**:\\n   - The management level \\\"Head\\\" is not included separately because it is part of the job title \\\"Head of Operations.\\\"\\n\\nBased on the analysis, the output will be:\",\n",
      "  \"PD Rationale\": \"In the user query, the key phrase is \\\"head of operations.\\\" This phrase indicates a specific job title rather than a management level. The term \\\"head\\\" typically refers to a leadership position overseeing a particular function, in this case, operations. However, it does not fall under the predefined management levels since \\\"Head\\\" is not explicitly listed as a management level in the provided set. \\n\\nThe phrase \\\"operations\\\" indicates the business function associated with this title. Therefore, \\\"head of operations\\\" can be classified as a job title. \\n\\nThe query does not mention any other key phrases that could be classified as either management levels or job titles. The focus is solely on the \\\"head of operations\\\" role, which is a specific title related to the operations function.\\n\\nThus, the output will reflect that \\\"head of operations\\\" is a job title, while no management levels are identified from the query.\",\n",
      "  \"FT Ratinale\": \"To address the user query, we need to identify the key phrases and determine whether they should be classified as management levels or job titles.\\n\\n1. **Key Phrase Identification**:\\n   - \\\"head of operations positions\\\" is the key phrase here. It refers to leadership roles in the operations function within online marketplaces.\\n\\n2. **Classification**:\\n   - **Management Level Focus**: The term \\\"head\\\" is part of the predefined set of management levels. However, since the key phrase specifies a business function (\\\"operations\\\"), it should be classified as a job title rather than a management level. The management level \\\"Head\\\" would only be chosen if no specific business function was mentioned.\\n   - **Job Title Focus**: Since \\\"operations\\\" is a clearly defined business function, the key phrase \\\"head of operations positions\\\" should be classified as a job title. This includes titles such as \\\"COO\\\" (Chief Operating Officer) and \\\"Chief Operations Officer,\\\" as these are concise and to the point, mentioning only the title and the business function.\\n\\n3. **Output**:\\n   - Since the key phrase is classified as a job title, it will not be included in the management levels.\\n\\nHere's the JSON output: **Explanation**:\\n- The key phrase \\\"head of operations positions\\\" is classified as a job title because it specifies a business function (\\\"operations\\\"). Therefore, titles like \\\"COO\\\" and \\\"Chief Operating Officer\\\" are included as they are relevant to the operations function.\",\n",
      "  \"unparsed_model_response\": \"<rationale>\\nIn the user query, the key phrase is \\\"head of operations.\\\" This phrase indicates a specific job title rather than a management level. The term \\\"head\\\" typically refers to a leadership position overseeing a particular function, in this case, operations. However, it does not fall under the predefined management levels since \\\"Head\\\" is not explicitly listed as a management level in the provided set. \\n\\nThe phrase \\\"operations\\\" indicates the business function associated with this title. Therefore, \\\"head of operations\\\" can be classified as a job title. \\n\\nThe query does not mention any other key phrases that could be classified as either management levels or job titles. The focus is solely on the \\\"head of operations\\\" role, which is a specific title related to the operations function.\\n\\nThus, the output will reflect that \\\"head of operations\\\" is a job title, while no management levels are identified from the query.\\n</rationale>\\n<json_output>\\n{\\n  \\\"management_levels\\\": [],\\n  \\\"titles\\\": [\\\"Head of Operations\\\"]\\n}\\n</json_output>\",\n",
      "  \"ft_problem\": \"true\"\n",
      "}\n"
     ]
    }
   ],
   "source": [
    "for item in comparison_list_data:\n",
    "    if item.get(\"base_problem\") == \"true\":\n",
    "        base_problem_count += 1\n",
    "        # print('-'*47)\n",
    "        # print(json.dumps(item, indent=2)) \n",
    "        problematic_queries.append(item)\n",
    "    if item.get(\"ft_problem\") == \"true\":\n",
    "        ft_problem_count += 1\n",
    "        problematic_queries.append(item)\n",
    "        print(json.dumps(item, indent=2)) \n",
    "    if item.get(\"ft_problem\") == \"parsing\":\n",
    "        parsing_count += 1\n",
    "        # problematic_queries.append(item)"
   ]
  },
  {
   "cell_type": "code",
   "execution_count": 161,
   "metadata": {},
   "outputs": [],
   "source": [
    "total_queries = len(comparison_list_data)\n",
    "base_accuracy = (total_queries - base_problem_count)/total_queries * 100\n",
    "ft_accuracy = (total_queries - ft_problem_count)/total_queries*100"
   ]
  },
  {
   "cell_type": "code",
   "execution_count": 162,
   "metadata": {},
   "outputs": [
    {
     "data": {
      "text/plain": [
       "(76.47058823529412, 90.19607843137256)"
      ]
     },
     "execution_count": 162,
     "metadata": {},
     "output_type": "execute_result"
    }
   ],
   "source": [
    "base_accuracy, ft_accuracy"
   ]
  },
  {
   "cell_type": "code",
   "execution_count": 163,
   "metadata": {},
   "outputs": [],
   "source": [
    "with open('problematic_queries_v2.json', \"w\") as f:\n",
    "    json.dump(problematic_queries, f, indent=2) "
   ]
  },
  {
   "cell_type": "code",
   "execution_count": null,
   "metadata": {},
   "outputs": [],
   "source": []
  }
 ],
 "metadata": {
  "kernelspec": {
   "display_name": "datumspeak",
   "language": "python",
   "name": "python3"
  },
  "language_info": {
   "codemirror_mode": {
    "name": "ipython",
    "version": 3
   },
   "file_extension": ".py",
   "mimetype": "text/x-python",
   "name": "python",
   "nbconvert_exporter": "python",
   "pygments_lexer": "ipython3",
   "version": "3.12.3"
  }
 },
 "nbformat": 4,
 "nbformat_minor": 2
}
