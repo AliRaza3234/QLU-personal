{
 "cells": [
  {
   "cell_type": "code",
   "execution_count": 7,
   "metadata": {},
   "outputs": [],
   "source": [
    "# # # make sure to use the latest version of the openai python package\n",
    "# # %pip install --upgrade --quiet openai\n",
    "# %pip install python-dotenv"
   ]
  },
  {
   "cell_type": "code",
   "execution_count": 1,
   "metadata": {},
   "outputs": [],
   "source": [
    "import asyncio\n",
    "import os\n",
    "from openai import AsyncOpenAI\n",
    "import openai\n",
    "import json\n",
    "from pprint import pprint"
   ]
  },
  {
   "cell_type": "code",
   "execution_count": 2,
   "metadata": {},
   "outputs": [],
   "source": [
    "from dotenv import load_dotenv\n",
    "load_dotenv()\n",
    "openai_api_key = os.getenv(\"OPENAI_API_KEY\")\n",
    "org_id = os.getenv(\"ORG_ID\")\n",
    "project_id = os.getenv(\"PROJECT_ID\")"
   ]
  },
  {
   "cell_type": "code",
   "execution_count": 3,
   "metadata": {},
   "outputs": [],
   "source": [
    "\n",
    "client = openai.OpenAI(\n",
    "    api_key=openai_api_key,\n",
    "    organization=org_id,\n",
    "    project=project_id,\n",
    ")"
   ]
  },
  {
   "cell_type": "code",
   "execution_count": 8,
   "metadata": {},
   "outputs": [],
   "source": [
    "training_file_name = \"train_data_v2.jsonl\"\n",
    "validation_file_name = \"eval_data_v2.jsonl\""
   ]
  },
  {
   "cell_type": "code",
   "execution_count": 12,
   "metadata": {},
   "outputs": [
    {
     "name": "stdout",
     "output_type": "stream",
     "text": [
      "{\"messages\": [{\"role\": \"system\", \"content\": \"You are an AI assistant tasked with extracting management levels and job titles from a given query. Your goal is to analyze the query, identify relevant key phrases, and categorize them appropriately as either management levels or job titles while generating proper reasoning and thinking step by step. \\nYour output format should be like below:\\n<rationale>\\nProvide reasoning and step-by-step thinking inside here\\n</rationale>\\n<json_output>\\nProvide json output inside here\\n</json_output>\\n\"}, {\"role\": \"user\", \"content\": \"User Query: \\nInstructions:\\n1. Identify key phrases that are management levels or job titles.\\n2. Categorize each key phrase as either a management level or a job title.\\n3. Use predefined management levels: ['Partners,',' 'Founder or Co-founder,' 'Board of Directors,' 'CSuite/Chiefs,' 'Executive VP or Sr. VP,' 'General Manager,' 'Manager,' 'Head,' 'Senior Partner,' 'Junior Partner,' 'VP,' 'Director,' 'Senior (All Senior-Level Individual Contributors),' 'Mid (All Mid-Level Individual Contributors),' 'Junior (All Junior-Level Individual Contributors)'].\\n4. For job titles:\\n   - Normalize and include abbreviations if applicable.\\n   - Exclude company or region names.\\n   \\nAlways return a JSON object. \\n\\n\\nHere is the query you need to analyze: `executives in new psychiatric treatment modalities`\\nLet's think step by step about each key phrase.\"}, {\"role\": \"assistant\", \"content\": \"\\n<rationale>\\nTo address the query \\\"executives in new psychiatric treatment modalities,\\\" let's break it down step by step:\\n\\n1. **Identify Key Phrases**: The key phrase here is \\\"executives in new psychiatric treatment modalities.\\\"\\n\\n2. **Determine Classification**:\\n   - The term \\\"executives\\\" is mentioned in relation to a specific business function, which in this case is \\\"new psychiatric treatment modalities.\\\" This implies a focus on leadership roles within this specific area.\\n\\n3. **Job Title Focus**:\\n   - Since \\\"executives\\\" is tied to a specific business function, we should consider relevant job titles associated with leadership in psychiatric treatment modalities. These could include titles like \\\"Chief Medical Officer,\\\" \\\"CMO,\\\" \\\"Senior VP of Psychiatry,\\\" \\\"Senior Vice President of Psychiatry,\\\" \\\"VP of Psychiatry,\\\" and \\\"Vice President of Psychiatry.\\\"\\n\\n4. **Management Level Focus**:\\n   - The term \\\"executives\\\" does not cover the complete domain of management levels like \\\"CSuite,\\\" \\\"Executive VP or Sr. VP,\\\" or \\\"VP\\\" without a specific function. Therefore, it should not be classified under management levels.\\n\\n5. **Output**:\\n   - Based on the analysis, the key phrase should be classified under job titles due to the specific business function mentioned.\\n\\nHere's the JSON output: This output reflects the focus on leadership roles within the specific area of psychiatric treatment modalities.\\n</rationale>\\n\\n<json_output>\\n{'management_levels': [], 'titles': ['Chief Medical Officer', 'CMO', 'Senior VP of Psychiatry', 'Senior Vice President of Psychiatry', 'VP of Psychiatry', 'Vice President of Psychiatry']}\\n</json_output>\"}]}\n",
      "{\"messages\": [{\"role\": \"system\", \"content\": \"You are an AI assistant tasked with extracting management levels and job titles from a given query. Your goal is to analyze the query, identify relevant key phrases, and categorize them appropriately as either management levels or job titles while generating proper reasoning and thinking step by step. \\nYour output format should be like below:\\n<rationale>\\nProvide reasoning and step-by-step thinking inside here\\n</rationale>\\n<json_output>\\nProvide json output inside here\\n</json_output>\\n\"}, {\"role\": \"user\", \"content\": \"User Query: \\nInstructions:\\n1. Identify key phrases that are management levels or job titles.\\n2. Categorize each key phrase as either a management level or a job title.\\n3. Use predefined management levels: ['Partners,',' 'Founder or Co-founder,' 'Board of Directors,' 'CSuite/Chiefs,' 'Executive VP or Sr. VP,' 'General Manager,' 'Manager,' 'Head,' 'Senior Partner,' 'Junior Partner,' 'VP,' 'Director,' 'Senior (All Senior-Level Individual Contributors),' 'Mid (All Mid-Level Individual Contributors),' 'Junior (All Junior-Level Individual Contributors)'].\\n4. For job titles:\\n   - Normalize and include abbreviations if applicable.\\n   - Exclude company or region names.\\n   \\nAlways return a JSON object. \\n\\n\\nHere is the query you need to analyze: `executive team members of psychedelic-assisted therapy centers`\\nLet's think step by step about each key phrase.\"}, {\"role\": \"assistant\", \"content\": \"\\n<rationale>\\nTo address the query, we need to identify the key phrase and determine whether it should be classified as a management level or a job title.\\n\\n1. **Key Phrase Identification**: The key phrase in the query is \\\"executive team members.\\\"\\n\\n2. **Classification**:\\n   - **Management Level Focus**: The term \\\"executive team members\\\" suggests individuals who are part of the executive management level. However, the word \\\"executive\\\" is mentioned, which requires specific considerations. When \\\"executive\\\" is used without a specific business function, it typically refers to a broad range of high-level management positions.\\n   - **Job Title Focus**: Since no specific business function is mentioned in the query, we do not classify this as a job title.\\n\\n3. **Decision**:\\n   - Since \\\"executive team members\\\" does not specify a business function, it should be classified under management levels. The term \\\"executive\\\" in this context implies a broad range of high-level management positions, which includes \\\"CSuite/Chiefs,\\\" \\\"Executive VP or Sr. VP,\\\" and \\\"VP.\\\"\\n\\nTherefore, the output should reflect the management levels associated with the term \\\"executive team members.\\\"\\n</rationale>\\n\\n<json_output>\\n{'management_levels': ['CSuite/Chiefs', 'Executive VP or Sr. VP', 'VP'], 'titles': []}\\n</json_output>\"}]}\n",
      "{\"messages\": [{\"role\": \"system\", \"content\": \"You are an AI assistant tasked with extracting management levels and job titles from a given query. Your goal is to analyze the query, identify relevant key phrases, and categorize them appropriately as either management levels or job titles while generating proper reasoning and thinking step by step. \\nYour output format should be like below:\\n<rationale>\\nProvide reasoning and step-by-step thinking inside here\\n</rationale>\\n<json_output>\\nProvide json output inside here\\n</json_output>\\n\"}, {\"role\": \"user\", \"content\": \"User Query: \\nInstructions:\\n1. Identify key phrases that are management levels or job titles.\\n2. Categorize each key phrase as either a management level or a job title.\\n3. Use predefined management levels: ['Partners,',' 'Founder or Co-founder,' 'Board of Directors,' 'CSuite/Chiefs,' 'Executive VP or Sr. VP,' 'General Manager,' 'Manager,' 'Head,' 'Senior Partner,' 'Junior Partner,' 'VP,' 'Director,' 'Senior (All Senior-Level Individual Contributors),' 'Mid (All Mid-Level Individual Contributors),' 'Junior (All Junior-Level Individual Contributors)'].\\n4. For job titles:\\n   - Normalize and include abbreviations if applicable.\\n   - Exclude company or region names.\\n   \\nAlways return a JSON object. \\n\\n\\nHere is the query you need to analyze: `Locate human resource professionals experienced in talent acquisition, performance management, and HRIS functionalities, who can effectively drive employee engagement. Candidates should be found within New York City, NY, while steering clear of those linked to the hospitality industry.`\\nLet's think step by step about each key phrase.\"}, {\"role\": \"assistant\", \"content\": \"\\n<rationale>\\nTo address the user query, we need to identify key phrases that can be classified as either management levels or job titles. The query is looking for \\\"human resource professionals\\\" with specific expertise in \\\"talent acquisition, performance management, and HRIS functionalities\\\" who can drive \\\"employee engagement.\\\" The location and industry constraints are not relevant to our task of identifying management levels or job titles.\\n\\n1. **Key Phrase Identification**:\\n   - \\\"Human resource professionals\\\" is the key phrase here. It refers to individuals working in the human resources field with specific expertise.\\n\\n2. **Classification**:\\n   - **Job Title Focus**: The key phrase \\\"human resource professionals\\\" is more aligned with job titles because it specifies a business function (human resources) and areas of expertise (talent acquisition, performance management, HRIS). It does not fit into any predefined management level category.\\n\\n3. **Job Titles Extraction**:\\n   - Based on the context, we can extract relevant job titles associated with human resources and the specified expertise. These could include:\\n     - \\\"HR Specialist\\\"\\n     - \\\"Talent Acquisition Specialist\\\"\\n     - \\\"Performance Management Specialist\\\"\\n     - \\\"HRIS Specialist\\\"\\n     - \\\"Employee Engagement Specialist\\\"\\n\\n4. **Management Levels**:\\n   - There are no explicit management levels mentioned in the query that match the predefined set.\\n\\nGiven these considerations, the output should focus on the job titles related to the expertise areas mentioned.\\n</rationale>\\n\\n<json_output>\\n{'management_levels': [], 'titles': ['HR Specialist', 'Talent Acquisition Specialist', 'Performance Management Specialist', 'HRIS Specialist', 'Employee Engagement Specialist']}\\n</json_output>\"}]}\n"
     ]
    }
   ],
   "source": [
    "# print the first 5 lines of the training file\n",
    "!head -n 3 eval_data_v2.jsonl"
   ]
  },
  {
   "cell_type": "code",
   "execution_count": 13,
   "metadata": {},
   "outputs": [
    {
     "name": "stdout",
     "output_type": "stream",
     "text": [
      "Training file ID: file-33CacLrMDhdXJTKMCxjqQ8\n",
      "Validation file ID: file-KUy5fGEYjtjXZ7Ev4N6uQF\n"
     ]
    }
   ],
   "source": [
    "def upload_file(file_name: str, purpose: str) -> str:\n",
    "    with open(file_name, \"rb\") as file_fd:\n",
    "        response = client.files.create(file=file_fd, purpose=purpose)\n",
    "    return response.id\n",
    "\n",
    "\n",
    "training_file_id = upload_file(training_file_name, \"fine-tune\")\n",
    "validation_file_id = upload_file(validation_file_name, \"fine-tune\")\n",
    "\n",
    "print(\"Training file ID:\", training_file_id)\n",
    "print(\"Validation file ID:\", validation_file_id)"
   ]
  },
  {
   "cell_type": "code",
   "execution_count": 14,
   "metadata": {},
   "outputs": [
    {
     "name": "stdout",
     "output_type": "stream",
     "text": [
      "Job ID: ftjob-K0cQAjM657O6SRqPv8i4vVRN\n",
      "Status: validating_files\n"
     ]
    }
   ],
   "source": [
    "# MODEL = \"gpt-4o-mini-2024-07-18\"\n",
    "FT_MODEL_V1_338 = \"ft:gpt-4o-mini-2024-07-18:qlu:ner-v1-338-training-examples-08-01-2024-3-epochs:AnSGTc0m:ckpt-step-676\"\n",
    "\n",
    "response = client.fine_tuning.jobs.create(\n",
    "    training_file=training_file_id,\n",
    "    validation_file=validation_file_id,\n",
    "    model=FT_MODEL_V1_338,\n",
    "    suffix=\"ner_v2:49-improved-training-examples-09-01-2024:2-epochs\",\n",
    "    method={\n",
    "        \"type\": \"supervised\",\n",
    "        \"supervised\": {\n",
    "        \"hyperparameters\": {\n",
    "            \"batch_size\": \"auto\",\n",
    "            \"learning_rate_multiplier\": \"auto\",\n",
    "            \"n_epochs\": \"2\",\n",
    "            }\n",
    "        }\n",
    "    }\n",
    ")\n",
    "\n",
    "job_id = response.id\n",
    "\n",
    "print(\"Job ID:\", response.id)\n",
    "print(\"Status:\", response.status)"
   ]
  },
  {
   "cell_type": "code",
   "execution_count": null,
   "metadata": {},
   "outputs": [],
   "source": []
  }
 ],
 "metadata": {
  "kernelspec": {
   "display_name": "openai_finetuning",
   "language": "python",
   "name": "python3"
  },
  "language_info": {
   "codemirror_mode": {
    "name": "ipython",
    "version": 3
   },
   "file_extension": ".py",
   "mimetype": "text/x-python",
   "name": "python",
   "nbconvert_exporter": "python",
   "pygments_lexer": "ipython3",
   "version": "3.9.21"
  }
 },
 "nbformat": 4,
 "nbformat_minor": 2
}
