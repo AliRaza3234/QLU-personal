{
 "cells": [
  {
   "cell_type": "code",
   "execution_count": 1,
   "metadata": {},
   "outputs": [],
   "source": [
    "import asyncio\n",
    "import os\n",
    "from openai import AsyncOpenAI\n",
    "import pandas as pd\n",
    "from jinja2 import Template\n",
    "import json"
   ]
  },
  {
   "cell_type": "code",
   "execution_count": 7,
   "metadata": {},
   "outputs": [],
   "source": [
    "with open(\"augmented_data_problem_queries.json\") as f:\n",
    "    data = json.load(f)"
   ]
  },
  {
   "cell_type": "code",
   "execution_count": 8,
   "metadata": {},
   "outputs": [],
   "source": [
    "from dotenv import load_dotenv\n",
    "load_dotenv()\n",
    "openai_api_key = os.getenv(\"OPENAI_API_KEY\")"
   ]
  },
  {
   "cell_type": "markdown",
   "metadata": {},
   "source": [
    "## Checking query tokens and duplicate queries"
   ]
  },
  {
   "cell_type": "code",
   "execution_count": 9,
   "metadata": {},
   "outputs": [],
   "source": [
    "token_count = 0"
   ]
  },
  {
   "cell_type": "code",
   "execution_count": 10,
   "metadata": {},
   "outputs": [],
   "source": [
    "check_duplicates = {}\n",
    "duplicate_data = []"
   ]
  },
  {
   "cell_type": "code",
   "execution_count": 12,
   "metadata": {},
   "outputs": [],
   "source": [
    "# query_count = 0\n",
    "# for key, item in data.items():\n",
    "#     index = 0\n",
    "#     for query in item:\n",
    "#         index += 1\n",
    "#         token_count += len(query)\n",
    "#         if check_duplicates.get(query):\n",
    "#             duplicate_data.append({\"key\": key, \"query\" : query, \"index\": index})\n",
    "#     query_count += index"
   ]
  },
  {
   "cell_type": "code",
   "execution_count": 13,
   "metadata": {},
   "outputs": [
    {
     "name": "stdout",
     "output_type": "stream",
     "text": [
      "Total Tokens of Queries: 0\n",
      "Lenght Duplicate Data: 0\n",
      "Total Count of Queries: 0\n"
     ]
    }
   ],
   "source": [
    "print(f\"Total Tokens of Queries: {token_count}\\nLenght Duplicate Data: {len(duplicate_data)}\\nTotal Count of Queries: {query_count}\")"
   ]
  },
  {
   "cell_type": "markdown",
   "metadata": {},
   "source": [
    "# Duplicating the queries??"
   ]
  },
  {
   "cell_type": "code",
   "execution_count": 3,
   "metadata": {},
   "outputs": [],
   "source": [
    "NER_MANAGEMENT_LEVEL_TITLE_SYSTEM_PROMPT_ORIGINAL = \"\"\"\n",
    "You are an intelligent assistant dedicated to extracting management levels and job titles from user queries. Before doing so, you must understand what a functional area is.\n",
    "\"\"\"\n",
    "\n",
    "\n",
    "NER_MANAGEMENT_LEVEL_TITLE_USER_PROMPT_ORIGINAL = \"\"\"\n",
    "Instructions:\n",
    "1. Management Levels: Only return management levels that match the predefined set: [\"Partners,\",\" \"Founder or Co-founder,\" \"Board of Directors,\" \"CSuite/Chiefs,\" \"Executive VP or Sr. VP,\" \"General Manager,\" \"Manager,\" \"Head,\" \"Senior Partner,\" \"Junior Partner,\" \"VP,\" \"Director,\" \"Senior (All Senior-Level Individual Contributors),\" \"Mid (All Mid-Level Individual Contributors),\" \"Junior (All Junior-Level Individual Contributors)\"]. MANAGEMENT CAN ONLY BE FROM THIS PREDEFINED SET, Nothing ELSE.\n",
    "2. Job Titles: Normalize the job title after extracting it from the text. For example, convert \"ceo\" to \"Chief Executive Officer\" and always include both the full title and its abbreviation (confirmed ones), e.g., \"VP of Engineering\" and \"Vice President of Engineering.\" or \"Chief Innovation Officer\" and \"CINO\". ENSURE LOGICAL and EXACT job titles such as 'Architect' NOT 'Architect who is skilled in VR'. Job titles MUST BE CONCISE AND TO THE POINT and shouldn't include company names or region names. Do not change the title for normalization.\n",
    "3. Response Format: Your response must be a dictionary with two keys: \"management_levels\" and \"titles\". Each key should have a list of management levels and titles respectively.\n",
    "4. Identify the key phrases in a prompt. Key phrase is a title and its function, IF THE function is mentioned. If the function would be mentioned, it will be classified as a \"Job Title\". For example, \"CEOs working in Automotive Industry and VP of Engineering of Microsoft\" has the \"CEOs\" and \"VP of Engineering\" as Key Phrases. In this case ONLY VP CANNOT be considered a key phrase. ONLY CONSIDER THE KEY PHRASES MENTIONED, DO NOT ASSUME. Past and current designations dont matter.\n",
    "5. Check whether the KEY PHRASE should be classified as a Job Title or a Management Level. IT SHOULD NEVER BE CLASSIFIED INTO BOTH. This is ESSENTIAL.\n",
    "5. If a key phrase is classified as title, don't include it in the management levels. For example, if \"VP of Engineering\" is classified as title then don't include \"VP\" in management levels. Industry or company names will not be included in job titles.\n",
    "6. If a key phrase is classified as a management level, don't include it in the title. For example, if \"Vice Presidents\" is classified as management level then don't include \"Vice Presidents\" in titles. A job title will ONLY be a title and its business function. No other DETAIL should be added. A Management Level cannot COME FROM WITHIN A JOB TITLE.\n",
    "7. Remember: One instance of a key phrase should be considered for either management level or job title, not both. Each will fall either into management levels or job title but WILL NEVER FALL INTO BOTH. A KEY PHRASE CANNOT BE IN MANAGEMENT LEVELS AND TITLE, BOTH. A Management Level cannot COME FROM WITHIN A JOB TITLE. \n",
    "8. If the word 'executive' is mentioned, specific considerations should be taken into account.\n",
    "\n",
    "Take a deep breath and understand.\n",
    "Query: \"Give me VPs working in Microsoft\": # VPs is the KEY PHRASE. It will be evaluated as a whole key phrase ONLY. It cannot be classified into a management level and a title both.\n",
    "Management Level Focus: In this query, \"VPs\" should refer to individuals at the management level of Vice President within Microsoft. This means you are asking for a list of people who occupy the VP rank across various departments or divisions within the company. VPs can cover the complete domain of of 'VP' in management level. The emphasis is on their standing in the organizational hierarchy, regardless of their specific job titles. A management title will only be selected if it covers the complete domain in the predefined set.\n",
    "Job Title Focus: If you were asking about \"VPs\" in terms of job titles, you'd be interested in individuals whose specific title is \"VP\" of a certain business function, such as \"VP of Marketing\" (Marketing is a business function) or \"VP of Engineering\" (Engineering is a business function). If a function is clearly mentioned then it would be JOB TITLE. \"VP of Microsoft\" does NOT have a function (Microsoft is an organization) neither does \"Automotive VPs\" (Automotive can ONLY be an industry). Identify the BUSINESS functions accurately. Then they CANNOT come under management levels.\n",
    "Output: {\"management_levels\": [\"VP\"], \"titles\": []}\n",
    "\n",
    "Query: \"The CFOs working in google or facebook\": #CFOs is a KEY PHRASE. It will be evaluated as a whole key phrase ONLY. It cannot be classified into a management level and a title both.\n",
    "Management Level Focus: In this query, \"CFOs\" does not cover the complete 'C-Suite' domain. ONLY IF COMPLETE DOMAIN IS COVERED then the key phrase will be in management level. One job title, even if it is on the top or head of the heirarchy, does not cover the complete domain. If a user wants all 'executives', without any business function specified then three management levels will be covered, namely \"CSuite,\" \"Executive VP or Sr. VP\" and \"VP\" so all MUST come. However, the word 'executive' is mentioned in relation to a business function, only titles specific to that function should be included. For example, if 'Marketing Executives' is mentioned, titles such as 'CMO', 'Chief Marketing Officer', 'Senior VP of Marketing', 'Senior Vice President of Marketing', 'VP of Marketing', and 'Vice President of Marketing' should be included. The word 'executive' or 'executives' would, thus, NEVER be included neither as job title nor management level.\n",
    "Job Title Focus: As a CFO would only be a chief in finance (not covering the CSuite domain), the CFO being discussed here comes under job title, not management level, same if the title was \"heads of finance\" (wouldn't cover Head domain), etc.\n",
    "Output: {\"management_levels\": [], \"titles\": [\"CFO\", \"Chief Finance Officer\"]} # Job titles MUST BE CONCISE and TO THE POINT, mentioning ONLY the TITLE and the BUSINESS FUNCTION if the business function is given. No added details, such as company name or group.\n",
    "\n",
    "If terms like 'leader', 'expert', 'specialist', or similar are mentioned, extract a maximum of 2-3 relevant job titles associated with those terms based on the context, focusing on the most appropriate leadership or expertise roles. However, do not extract titles based on names, companies, etc.\n",
    "\n",
    "For each management level and title, also tell why you put it there. If a business function can be clearly identified, the key phrase will be a JOB title. ALWAYS make the necessary changes when the word 'executive' or 'leader' or 'expert', etc., is mentioned in the user query and get LOGICAL titles. Management level of 'Manager' will not be chosen when a specific type of 'manager' (senior managers, project manager, etc.) are asked for. ONLY identify and consider complete key phrases EXPLICITLY MENTIONED IN THE PROMPT, and each key phrase will either be in management level or title, NEVER consider THE SAME KEY PHRASE for BOTH. Evaluate key phrases separately.\n",
    "Always return a JSON object in your output.\n",
    "\n",
    "User Query: {{QUERY}}\n",
    "Let's think step by step about each key phrase.\"\"\"\n"
   ]
  },
  {
   "cell_type": "code",
   "execution_count": 4,
   "metadata": {},
   "outputs": [],
   "source": [
    "async def chatgpt_response_a(query, temperature=0.1, model=\"gpt-4o\", **kwargs):\n",
    "\n",
    "    \"\"\"\n",
    "    Function to run prompts on chatgpt\n",
    "\n",
    "    Args:\n",
    "        key (string): openai api key\n",
    "        messages (list): list of object that has the chat that you want to process with chatgpt. i.e. system prompt, assistant prompt and user prompt\n",
    "        temperature (float, optional): Temperature of gpt for generations. Defaults to 0.7.\n",
    "        model (str, optional): The model you want to use. Defaults to \"gpt-4o\".\n",
    "\n",
    "    Returns:\n",
    "        string: chatgpt result\n",
    "    \"\"\"\n",
    "    # user_message = Template(NER_MANAGEMENT_LEVEL_TITLE_USER_PROMPT).render({\"QUERY\" : query})\n",
    "    user_message = Template(NER_MANAGEMENT_LEVEL_TITLE_USER_PROMPT_ORIGINAL).render({\"QUERY\" : query})\n",
    "    messages = [\n",
    "            # {\"role\": \"system\", \"content\": NER_MANAGEMENT_LEVEL_TITLE_SYSTEM_PROMPT},\n",
    "            {\"role\": \"system\", \"content\": NER_MANAGEMENT_LEVEL_TITLE_SYSTEM_PROMPT_ORIGINAL},\n",
    "            {\"role\": \"user\", \"content\": f\"User Query: {user_message}\"},\n",
    "            \n",
    "    ]\n",
    "    # print(messages)\n",
    "    openai_object = {\n",
    "        \"model\": model,\n",
    "        \"messages\": messages,\n",
    "        \"temperature\": temperature,\n",
    "    }\n",
    "    aclient = AsyncOpenAI(api_key=openai_api_key)\n",
    "\n",
    "    openai_object.update(kwargs)\n",
    "\n",
    "    response = await aclient.chat.completions.create(**openai_object)\n",
    "    response = response.__dict__\n",
    "    response[\"choices\"] = [choice.__dict__ for choice in response[\"choices\"]]\n",
    "    for choice in response[\"choices\"]:\n",
    "        choice[\"message\"] = choice[\"message\"].__dict__\n",
    "    return response"
   ]
  },
  {
   "cell_type": "code",
   "execution_count": 5,
   "metadata": {},
   "outputs": [],
   "source": [
    "import json\n",
    "import re\n",
    "\n",
    "def parse_response(text):\n",
    "    \"\"\"\n",
    "    Parse a text response containing rationale and JSON data, including text after the JSON.\n",
    "    \n",
    "    Args:\n",
    "        text (str): Input text containing rationale, JSON data, and possibly additional text\n",
    "        \n",
    "    Returns:\n",
    "        tuple: (rationale, parsed_json)\n",
    "            - rationale (str): The explanatory text before and after the JSON combined\n",
    "            - parsed_json (dict): The parsed JSON data\n",
    "            \n",
    "    Example:\n",
    "        text = \"Some explanation\\n```json\\n{'key': 'value'}\\n```\\nMore explanation\"\n",
    "        rationale, json_data = parse_response(text)\n",
    "        # rationale will contain \"Some explanation More explanation\"\n",
    "        # json_data will contain {'key': 'value'}\n",
    "    \"\"\"\n",
    "    # Find the JSON part using regex\n",
    "    # Look for content between ```json and ``` markers\n",
    "    json_match = re.search(r'```json\\s*(.*?)\\s*```', text, re.DOTALL)\n",
    "    \n",
    "    if not json_match:\n",
    "        raise ValueError(\"No JSON content found in the specified format\")\n",
    "    \n",
    "    # Extract the JSON string and parse it\n",
    "    json_str = json_match.group(1).strip()\n",
    "    parsed_json = json.loads(json_str)\n",
    "    \n",
    "    # Get the text before the JSON\n",
    "    text_before = text[:json_match.start()].strip()\n",
    "    \n",
    "    # Get the text after the JSON\n",
    "    text_after = text[json_match.end():].strip()\n",
    "    \n",
    "    # Combine the text before and after, with a space between if both exist\n",
    "    rationale = text_before\n",
    "    if text_after:\n",
    "        if rationale:\n",
    "            rationale += ' '\n",
    "        rationale += text_after\n",
    "    \n",
    "    return rationale, parsed_json"
   ]
  },
  {
   "cell_type": "code",
   "execution_count": 134,
   "metadata": {},
   "outputs": [],
   "source": [
    "query = \"Identify heads of corporate strategy at AI-driven SaaS companies focused on fintech in Europe.\""
   ]
  },
  {
   "cell_type": "code",
   "execution_count": 135,
   "metadata": {},
   "outputs": [
    {
     "name": "stdout",
     "output_type": "stream",
     "text": [
      "[{'role': 'system', 'content': '\\nYou are an intelligent assistant dedicated to extracting management levels and job titles from user queries. Before doing so, you must understand what a functional area is.\\n'}, {'role': 'user', 'content': 'User Query: \\nInstructions:\\n1. Management Levels: Only return management levels that match the predefined set: [\"Partners,\",\" \"Founder or Co-founder,\" \"Board of Directors,\" \"CSuite/Chiefs,\" \"Executive VP or Sr. VP,\" \"General Manager,\" \"Manager,\" \"Head,\" \"Senior Partner,\" \"Junior Partner,\" \"VP,\" \"Director,\" \"Senior (All Senior-Level Individual Contributors),\" \"Mid (All Mid-Level Individual Contributors),\" \"Junior (All Junior-Level Individual Contributors)\"]. MANAGEMENT CAN ONLY BE FROM THIS PREDEFINED SET, Nothing ELSE.\\n2. Job Titles: Normalize the job title after extracting it from the text. For example, convert \"ceo\" to \"Chief Executive Officer\" and always include both the full title and its abbreviation (confirmed ones), e.g., \"VP of Engineering\" and \"Vice President of Engineering.\" or \"Chief Innovation Officer\" and \"CINO\". ENSURE LOGICAL and EXACT job titles such as \\'Architect\\' NOT \\'Architect who is skilled in VR\\'. Job titles MUST BE CONCISE AND TO THE POINT and shouldn\\'t include company names or region names. Do not change the title for normalization.\\n3. Response Format: Your response must be a dictionary with two keys: \"management_levels\" and \"titles\". Each key should have a list of management levels and titles respectively.\\n4. Identify the key phrases in a prompt. Key phrase is a title and its function, IF THE function is mentioned. If the function would be mentioned, it will be classified as a \"Job Title\". For example, \"CEOs working in Automotive Industry and VP of Engineering of Microsoft\" has the \"CEOs\" and \"VP of Engineering\" as Key Phrases. In this case ONLY VP CANNOT be considered a key phrase. ONLY CONSIDER THE KEY PHRASES MENTIONED, DO NOT ASSUME. Past and current designations dont matter.\\n5. Check whether the KEY PHRASE should be classified as a Job Title or a Management Level. IT SHOULD NEVER BE CLASSIFIED INTO BOTH. This is ESSENTIAL.\\n5. If a key phrase is classified as title, don\\'t include it in the management levels. For example, if \"VP of Engineering\" is classified as title then don\\'t include \"VP\" in management levels. Industry or company names will not be included in job titles.\\n6. If a key phrase is classified as a management level, don\\'t include it in the title. For example, if \"Vice Presidents\" is classified as management level then don\\'t include \"Vice Presidents\" in titles. A job title will ONLY be a title and its business function. No other DETAIL should be added. A Management Level cannot COME FROM WITHIN A JOB TITLE.\\n7. Remember: One instance of a key phrase should be considered for either management level or job title, not both. Each will fall either into management levels or job title but WILL NEVER FALL INTO BOTH. A KEY PHRASE CANNOT BE IN MANAGEMENT LEVELS AND TITLE, BOTH. A Management Level cannot COME FROM WITHIN A JOB TITLE. \\n8. If the word \\'executive\\' is mentioned, specific considerations should be taken into account.\\n\\nTake a deep breath and understand.\\nQuery: \"Give me VPs working in Microsoft\": # VPs is the KEY PHRASE. It will be evaluated as a whole key phrase ONLY. It cannot be classified into a management level and a title both.\\nManagement Level Focus: In this query, \"VPs\" should refer to individuals at the management level of Vice President within Microsoft. This means you are asking for a list of people who occupy the VP rank across various departments or divisions within the company. VPs can cover the complete domain of of \\'VP\\' in management level. The emphasis is on their standing in the organizational hierarchy, regardless of their specific job titles. A management title will only be selected if it covers the complete domain in the predefined set.\\nJob Title Focus: If you were asking about \"VPs\" in terms of job titles, you\\'d be interested in individuals whose specific title is \"VP\" of a certain business function, such as \"VP of Marketing\" (Marketing is a business function) or \"VP of Engineering\" (Engineering is a business function). If a function is clearly mentioned then it would be JOB TITLE. \"VP of Microsoft\" does NOT have a function (Microsoft is an organization) neither does \"Automotive VPs\" (Automotive can ONLY be an industry). Identify the BUSINESS functions accurately. Then they CANNOT come under management levels.\\nOutput: {\"management_levels\": [\"VP\"], \"titles\": []}\\n\\nQuery: \"The CFOs working in google or facebook\": #CFOs is a KEY PHRASE. It will be evaluated as a whole key phrase ONLY. It cannot be classified into a management level and a title both.\\nManagement Level Focus: In this query, \"CFOs\" does not cover the complete \\'C-Suite\\' domain. ONLY IF COMPLETE DOMAIN IS COVERED then the key phrase will be in management level. One job title, even if it is on the top or head of the heirarchy, does not cover the complete domain. If a user wants all \\'executives\\', without any business function specified then three management levels will be covered, namely \"CSuite,\" \"Executive VP or Sr. VP\" and \"VP\" so all MUST come. However, the word \\'executive\\' is mentioned in relation to a business function, only titles specific to that function should be included. For example, if \\'Marketing Executives\\' is mentioned, titles such as \\'CMO\\', \\'Chief Marketing Officer\\', \\'Senior VP of Marketing\\', \\'Senior Vice President of Marketing\\', \\'VP of Marketing\\', and \\'Vice President of Marketing\\' should be included. The word \\'executive\\' or \\'executives\\' would, thus, NEVER be included neither as job title nor management level.\\nJob Title Focus: As a CFO would only be a chief in finance (not covering the CSuite domain), the CFO being discussed here comes under job title, not management level, same if the title was \"heads of finance\" (wouldn\\'t cover Head domain), etc.\\nOutput: {\"management_levels\": [], \"titles\": [\"CFO\", \"Chief Finance Officer\"]} # Job titles MUST BE CONCISE and TO THE POINT, mentioning ONLY the TITLE and the BUSINESS FUNCTION if the business function is given. No added details, such as company name or group.\\n\\nIf terms like \\'leader\\', \\'expert\\', \\'specialist\\', or similar are mentioned, extract a maximum of 2-3 relevant job titles associated with those terms based on the context, focusing on the most appropriate leadership or expertise roles. However, do not extract titles based on names, companies, etc.\\n\\nFor each management level and title, also tell why you put it there. If a business function can be clearly identified, the key phrase will be a JOB title. ALWAYS make the necessary changes when the word \\'executive\\' or \\'leader\\' or \\'expert\\', etc., is mentioned in the user query and get LOGICAL titles. Management level of \\'Manager\\' will not be chosen when a specific type of \\'manager\\' (senior managers, project manager, etc.) are asked for. ONLY identify and consider complete key phrases EXPLICITLY MENTIONED IN THE PROMPT, and each key phrase will either be in management level or title, NEVER consider THE SAME KEY PHRASE for BOTH. Evaluate key phrases separately.\\nAlways return a JSON object in your output.\\n\\nUser Query: Identify heads of corporate strategy at AI-driven SaaS companies focused on fintech in Europe.\\nLet\\'s think step by step about each key phrase.'}]\n"
     ]
    }
   ],
   "source": [
    "result = await chatgpt_response_a(query)\n",
    "rationale,result = parse_response(result['choices'][0]['message']['content'])"
   ]
  },
  {
   "cell_type": "code",
   "execution_count": 138,
   "metadata": {},
   "outputs": [
    {
     "name": "stdout",
     "output_type": "stream",
     "text": [
      "-----------------------------------------------\n",
      "Query:\n",
      "Identify heads of corporate strategy at AI-driven SaaS companies focused on fintech in Europe.\n",
      "-----------------------------------------------\n",
      "Rationale:\n",
      "To address the user query, we need to identify the key phrases and determine whether they should be classified as management levels or job titles. Let's break down the query:\n",
      "\n",
      "1. **Key Phrase Identification**: \n",
      "   - \"heads of corporate strategy\"\n",
      "\n",
      "2. **Classification**:\n",
      "   - **\"heads of corporate strategy\"**: This phrase specifies a business function, \"corporate strategy,\" and is associated with the term \"heads.\" Since \"heads\" is a management level in the predefined set, we need to determine if it covers the complete domain of \"Head\" in management levels. However, because it specifies a business function, it should be classified as a job title rather than a management level.\n",
      "\n",
      "3. **Output Construction**:\n",
      "   - Since \"heads of corporate strategy\" is classified as a job title, it will not be included in the management levels. The job title is concise and to the point, mentioning only the title and the business function.\n",
      "\n",
      "Based on this analysis, the output will be:\n",
      "-----------------------------------------------\n",
      "Result:\n",
      "{'management_levels': [], 'titles': ['Head of Corporate Strategy']}\n"
     ]
    }
   ],
   "source": [
    "print('-'*47)\n",
    "print(\"Query:\")\n",
    "print(query)\n",
    "print('-'*47)\n",
    "print(\"Rationale:\")\n",
    "print(rationale)\n",
    "print('-'*47)\n",
    "print(\"Result:\")\n",
    "print(result)"
   ]
  },
  {
   "cell_type": "markdown",
   "metadata": {},
   "source": [
    "## Generating Batch of Rationale and Outputs from GPT-4o"
   ]
  },
  {
   "cell_type": "code",
   "execution_count": 52,
   "metadata": {},
   "outputs": [],
   "source": [
    "list_of_queries = []"
   ]
  },
  {
   "cell_type": "code",
   "execution_count": 53,
   "metadata": {},
   "outputs": [],
   "source": [
    "for item in data:\n",
    "    list_of_queries.append(item)"
   ]
  },
  {
   "cell_type": "code",
   "execution_count": 54,
   "metadata": {},
   "outputs": [
    {
     "data": {
      "text/plain": [
       "['Find human resources experts with proficiency in talent acquisition, employee engagement, strategic performance management, and HRIS software capabilities. Candidates should be based in the vibrant setting of New York City, New York, excluding those with a background in the hospitality industry.',\n",
       " 'Search for HR professionals skilled in talent recruitment, boosting employee engagement, managing performance metrics, and utilizing HRIS platforms. The candidates must be located in the bustling city of New York, NY, and should not have ties to the hospitality sector.',\n",
       " 'Identify HR specialists with a strong background in acquiring talent, developing employee engagement strategies, and managing performance, along with expertise in HRIS systems. The search is focused on professionals situated in New York City, NY, with no involvement in the hospitality field.',\n",
       " 'Locate human resource professionals experienced in talent acquisition, performance management, and HRIS functionalities, who can effectively drive employee engagement. Candidates should be found within New York City, NY, while steering clear of those linked to the hospitality industry.',\n",
       " 'Seek HR experts who demonstrate skills in recruiting talent, enhancing employee engagement, performance management, and HRIS system usage. Only consider those who are currently in New York City, New York, and exclude those from the hospitality sector.',\n",
       " 'Find senior HR executives with a track record in leadership development, organizational culture transformation, and advanced HR technology implementation. Candidates should preferably be from major metropolitan areas, excluding any with significant hospitality backgrounds.',\n",
       " 'Search for talent acquisition leaders who specialize in diversity and inclusion strategies, effective onboarding processes, and innovative HR solutions. Focus on professionals within the tech industry, avoiding those with primary experience in hospitality.',\n",
       " 'Identify HR strategists skilled in international workforce planning, compliance with labor regulations, and digital HR innovations. Candidates should be open to relocation to major business hubs, with no previous roles in the hospitality domain.',\n",
       " 'Locate HR managers with expertise in developing remote work policies, employee wellness programs, and succession planning. The search should target individuals in financial districts or similar environments, avoiding any hospitality sector experience.',\n",
       " 'Seek out human capital consultants with experience in change management, strategic workforce analytics, and HR digital transformation. Focus on candidates from consultancy backgrounds, specifically those without hospitality sector ties.',\n",
       " 'marketplaces with annual earnings exceeding USD 50m, seeking executive position, located in the Nordic region',\n",
       " 'Nordic-based executive role in marketplaces generating over USD 50 million in revenue',\n",
       " 'executive-level position in marketplaces with a revenue threshold of USD 50m+, within Nordic countries',\n",
       " \"Nordic countries' marketplaces with a revenue of at least USD 50m, hiring for an executive role\",\n",
       " 'seeking executive candidates for marketplaces with over USD 50 million revenue, based in the Nordic area',\n",
       " 'C-level opportunities in tech platforms with significant market share, focusing on Scandinavian regions',\n",
       " 'executive roles in e-commerce sectors with robust revenue streams, preferably within Northern Europe',\n",
       " 'Nordic leadership positions in digital marketplaces, prioritizing companies with strong financial performance',\n",
       " 'strategic executive roles in high-revenue digital enterprises, particularly in Scandinavian countries',\n",
       " 'head of operations positions in online marketplaces with substantial annual sales, targeting Nordic locales',\n",
       " 'Could you help us find HR executives located in the Midwest with a minimum of 15 years of professional experience who have backgrounds in recruiting, talent acquisition, or management, as well as HR generalist skills? They should currently be at a Senior Director level or higher within a company with over $2 billion in revenue.',\n",
       " \"We're looking for HR leaders based in the Midwestern US with at least 15 years of experience. Their backgrounds should include recruiting, talent acquisition, or management, alongside HR generalist roles. They need to be at the Senior Director level or above in organizations that earn more than $2 billion annually.\",\n",
       " 'Please assist in identifying HR executives situated in the Midwest United States who have at least 15 years of experience, incorporating recruiting, talent acquisition, or management experience, and HR generalist duties. These individuals should hold a Senior Director position or higher at organizations generating over $2 billion in revenue.',\n",
       " 'Find HR executives in the Midwest with a minimum of 15 years of professional experience. They should have backgrounds in recruiting, talent acquisition, or management, coupled with HR generalist experience, and currently serve at a Senior Director level or higher in companies with revenues exceeding $2 billion.',\n",
       " 'Locate HR executives in the Midwestern USA who have over 15 years of experience in recruiting, talent acquisition, or management, along with HR generalist skills. They must be at least at a Senior Director level in companies with more than $2 billion in annual revenue.',\n",
       " 'Identify HR executives in the Southern United States with over 10 years of experience in employee development and organizational strategy, who also have experience in talent acquisition and are currently at a VP level in companies with at least $1 billion in revenue.',\n",
       " 'Seek out HR professionals in the Western US who are experienced in change management and workforce planning and have at least 20 years of industry experience. They should be at a Senior Manager level or higher in firms generating over $500 million annually.',\n",
       " 'Help us find HR leaders in the Northeastern United States with extensive experience in diversity and inclusion initiatives, who also have a background in executive recruitment. They should be serving at the Head of HR level in companies with revenues surpassing $3 billion.',\n",
       " \"We're interested in HR executives globally who have a strong focus on leadership development and organizational efficiency. These candidates should have at least 15 years of experience and be operating at a Chief HR Officer level in multinational corporations.\",\n",
       " 'Find HR managers in the Pacific Northwest specialized in performance management and employee engagement strategies, with a minimum of 10 years of experience. They should currently hold a Director position in companies with $500 million or more in annual earnings.',\n",
       " 'Looking for a General Manager or Vice President with experience in the grocery sector in Finland.',\n",
       " 'Search for GM or VP roles in Finnish grocery companies, requiring industry-specific experience.',\n",
       " 'Find a Vice President or General Manager for grocery firms in Finland, must have relevant industry background.',\n",
       " 'Seeking GM or VP candidates for Finnish grocery businesses, ensure they possess necessary experience.',\n",
       " 'Recruit a GM or VP for grocery enterprises in Finland, emphasizing relevant career experience.',\n",
       " 'Identify senior executives for top grocery chains in Europe, focusing on leadership capabilities.',\n",
       " 'Recruiting for a C-level position in the retail food sector, preferably with Scandinavian market experience.',\n",
       " 'Looking for a Director-level candidate in the grocery industry, with a focus on supply chain management.',\n",
       " 'Searching for an experienced executive in the FMCG sector with a strong background in Nordic markets.',\n",
       " 'Head of operations role for a leading grocery brand, requiring expertise in market expansion strategies.',\n",
       " 'general managers with comprehensive P&L oversight experience of at least 150 million at companies in the mobility, assistive device, and rehab, ostomy care, home health care industry in MedTech. Assume you are a seasoned financial analyst in the MedTech sector',\n",
       " 'senior managers with end-to-end P&L management experience of a minimum of 250 million within firms in the mobility, assistive device, and home health care fields in MedTech. Assume you are a knowledgeable financial analyst in this domain',\n",
       " 'experienced general managers with full P&L responsibility for at least 180 million in the mobility, assistive devices, and rehabilitation, ostomy care, home healthcare sectors in MedTech. Assume expertise as a financial analyst in MedTech',\n",
       " 'executive managers with P&L experience managing at least 220 million dollars in companies operating in the mobility, assistive device, rehab, ostomy care, and home health care markets in MedTech. Assume a background as a financial analyst in MedTech',\n",
       " 'general managers with extensive end-to-end P&L experience of at least 200 million at firms specializing in mobility, assistive devices, rehab, ostomy care, and home health care within the MedTech industry. Assume you are an adept financial analyst in MedTech',\n",
       " 'chief operating officers with strategic P&L management experience of 300 million or more in the broader healthcare technology sector, including mobility aids and home care solutions',\n",
       " 'financial directors with a strong track record in P&L analysis and management exceeding 100 million in innovative MedTech companies focusing on assistive technologies and rehabilitation devices',\n",
       " 'VPs of operations with significant P&L oversight in excess of 500 million in healthcare industries, particularly focusing on cutting-edge devices for mobility and patient care',\n",
       " 'C-suite executives with proven P&L leadership experience in the range of 250 million to 500 million within companies developing advanced medical devices and healthcare solutions',\n",
       " 'directors of finance with an emphasis on P&L accountability over 200 million in organizations at the forefront of the rehabilitation and home healthcare technology sectors',\n",
       " 'Locate senior executives with VP titles from Western European firms who have over 30 years of experience in financial management.',\n",
       " 'Identify VP-level professionals in Western Europe with a minimum of 30 years in corporate finance roles.',\n",
       " 'Search for experienced VPs from companies in Western Europe, specializing in corporate finance with three decades of expertise.',\n",
       " 'Find vice presidents in financial sectors within Western Europe who boast over 30 years of industry experience.',\n",
       " 'Seek out veteran VP-level individuals from Western European companies with extensive backgrounds in corporate finance.',\n",
       " 'Find CFOs from the tech industry in Northern Europe with at least 25 years of experience in risk management and financial strategy.',\n",
       " 'Identify senior leaders in Eastern Europe who have led corporate mergers and acquisitions for over 25 years.',\n",
       " 'Search for executives with CEO experience in the finance sector who have a strong background in international markets.',\n",
       " 'Locate directors with a focus on corporate governance in Southern Europe, possessing 20+ years of financial oversight experience.',\n",
       " 'Discover C-suite professionals with a background in fintech innovation from Western Europe, having at least 30 years of impactful leadership.',\n",
       " 'owners of ketamine therapy clinics in the United States',\n",
       " 'founders of ketamine psychiatry practices in the US',\n",
       " 'chief executives of ketamine treatment centers in America',\n",
       " 'directors of ketamine mental health clinics across the US',\n",
       " 'leaders of ketamine psychiatric facilities in the United States',\n",
       " 'executive team members of psychedelic-assisted therapy centers',\n",
       " 'key stakeholders in alternative mental health treatment facilities',\n",
       " 'lead professionals in innovative psychiatric clinics',\n",
       " 'executives in new psychiatric treatment modalities',\n",
       " 'top management in emerging mental health therapy clinics']"
      ]
     },
     "execution_count": 54,
     "metadata": {},
     "output_type": "execute_result"
    }
   ],
   "source": [
    "len(list_of_queries)\n",
    "list_of_queries"
   ]
  },
  {
   "cell_type": "code",
   "execution_count": 76,
   "metadata": {},
   "outputs": [],
   "source": [
    "tmp = await chatgpt_response_a(\"Which company is best for technology?\", temperature=0.1, model=\"gpt-4o\")"
   ]
  },
  {
   "cell_type": "code",
   "execution_count": 78,
   "metadata": {},
   "outputs": [
    {
     "name": "stdout",
     "output_type": "stream",
     "text": [
      "In this query, there are no key phrases related to management levels or job titles. The query is asking about companies in the context of technology, but it does not specify any management levels or job titles.\n",
      "\n",
      "Output: \n",
      "```json\n",
      "{\n",
      "  \"management_levels\": [],\n",
      "  \"titles\": []\n",
      "}\n",
      "```\n"
     ]
    }
   ],
   "source": [
    "print(tmp['choices'][0]['message']['content'])"
   ]
  },
  {
   "cell_type": "code",
   "execution_count": 55,
   "metadata": {},
   "outputs": [],
   "source": [
    "import asyncio\n",
    "from typing import List, Dict\n",
    "import math\n",
    "\n",
    "async def process_batch(texts: List[str]) -> List[Dict]:\n",
    "    \"\"\"Process a single batch of texts using the original title_management logic\"\"\"\n",
    "    ans = []\n",
    "    tasks = []\n",
    "    for text in texts:\n",
    "        tasks.append(chatgpt_response_a(text, temperature=0.1, model=\"gpt-4o\"))\n",
    "\n",
    "    results = await asyncio.gather(*tasks)\n",
    "    for query, res in zip(texts, results):\n",
    "        response = res\n",
    "        response = response[\"choices\"][0][\"message\"][\"content\"]\n",
    "        rationale, json_output = parse_response(response)\n",
    "        ans.append({\n",
    "            \"query\": query,\n",
    "            \"rationale\": rationale,\n",
    "            \"json_output\": json_output\n",
    "        })\n",
    "    return ans\n",
    "\n",
    "async def batched_title_management(texts: List[str], batch_size: int = 10) -> List[Dict]:\n",
    "    \"\"\"Process texts in batches of specified size\"\"\"\n",
    "    all_results = []\n",
    "    num_batches = math.ceil(len(texts) / batch_size)\n",
    "    \n",
    "    for i in range(num_batches):\n",
    "        start_idx = i * batch_size\n",
    "        end_idx = min((i + 1) * batch_size, len(texts))\n",
    "        batch = texts[start_idx:end_idx]\n",
    "        \n",
    "        try:\n",
    "            batch_results = await process_batch(batch)\n",
    "            all_results.extend(batch_results)\n",
    "            \n",
    "            # Optional: Add a small delay between batches to avoid rate limiting\n",
    "            if i < num_batches - 1:\n",
    "                await asyncio.sleep(1)\n",
    "                \n",
    "        except Exception as e:\n",
    "            print(f\"Error processing batch {i+1}/{num_batches}: {str(e)}\")\n",
    "            # You might want to handle the error differently depending on your needs\n",
    "            continue\n",
    "    \n",
    "    return all_results"
   ]
  },
  {
   "cell_type": "code",
   "execution_count": 56,
   "metadata": {},
   "outputs": [],
   "source": [
    "async def title_management(texts):\n",
    "    ans = []\n",
    "    tasks = []\n",
    "    for text in texts:\n",
    "        tasks.append(chatgpt_response_a(text, temperature=0.1, model=\"gpt-4o\"))\n",
    "\n",
    "    results = await asyncio.gather(*tasks)\n",
    "    for query, res in zip(texts, results):\n",
    "        response = res\n",
    "        response = response[\"choices\"][0][\"message\"][\"content\"]\n",
    "        rationale, json_output = parse_response(response)\n",
    "        ans.append({\n",
    "            \"query\": query,\n",
    "            \"rationale\": rationale,\n",
    "            \"json_output\": json_output\n",
    "        })\n",
    "    return ans"
   ]
  },
  {
   "cell_type": "code",
   "execution_count": 57,
   "metadata": {},
   "outputs": [
    {
     "data": {
      "text/plain": [
       "70"
      ]
     },
     "execution_count": 57,
     "metadata": {},
     "output_type": "execute_result"
    }
   ],
   "source": [
    "len(list_of_queries)"
   ]
  },
  {
   "cell_type": "code",
   "execution_count": 58,
   "metadata": {},
   "outputs": [],
   "source": [
    "results = await batched_title_management(list_of_queries, batch_size=10)"
   ]
  },
  {
   "cell_type": "code",
   "execution_count": 79,
   "metadata": {},
   "outputs": [
    {
     "data": {
      "text/plain": [
       "70"
      ]
     },
     "execution_count": 79,
     "metadata": {},
     "output_type": "execute_result"
    }
   ],
   "source": [
    "len(results)"
   ]
  },
  {
   "cell_type": "code",
   "execution_count": 59,
   "metadata": {},
   "outputs": [],
   "source": [
    "# with open(\"training_data_dicts_version2.json\", \"w\") as f:\n",
    "#     json.dump(results, f, indent=2)"
   ]
  },
  {
   "cell_type": "code",
   "execution_count": 80,
   "metadata": {},
   "outputs": [],
   "source": [
    "results = []\n",
    "with open(\"training_data_dicts_version2.json\") as f:\n",
    "    results = json.load(f)"
   ]
  },
  {
   "cell_type": "code",
   "execution_count": 81,
   "metadata": {},
   "outputs": [
    {
     "data": {
      "text/plain": [
       "51"
      ]
     },
     "execution_count": 81,
     "metadata": {},
     "output_type": "execute_result"
    }
   ],
   "source": [
    "len(results)"
   ]
  },
  {
   "cell_type": "markdown",
   "metadata": {},
   "source": [
    "## Creating FineTuning Dataset for smaller model"
   ]
  },
  {
   "cell_type": "code",
   "execution_count": 82,
   "metadata": {},
   "outputs": [],
   "source": [
    "STUDENT_MODEL_PROMPT_SYSTEM = \"\"\"You are an AI assistant tasked with extracting management levels and job titles from a given query. Your goal is to analyze the query, identify relevant key phrases, and categorize them appropriately as either management levels or job titles while generating proper reasoning and thinking step by step. \n",
    "Your output format should be like below:\n",
    "<rationale>\n",
    "Provide reasoning and step-by-step thinking inside here\n",
    "</rationale>\n",
    "<json_output>\n",
    "Provide json output inside here\n",
    "</json_output>\n",
    "\"\"\"\n",
    "\n",
    "STUDENT_MODEL_PROMPT_USER_V3 = \"\"\"\n",
    "Instructions:\n",
    "1. Identify key phrases that are management levels or job titles.\n",
    "2. Categorize each key phrase as either a management level or a job title.\n",
    "3. Use predefined management levels: ['Partners,',' 'Founder or Co-founder,' 'Board of Directors,' 'CSuite/Chiefs,' 'Executive VP or Sr. VP,' 'General Manager,' 'Manager,' 'Head,' 'Senior Partner,' 'Junior Partner,' 'VP,' 'Director,' 'Senior (All Senior-Level Individual Contributors),' 'Mid (All Mid-Level Individual Contributors),' 'Junior (All Junior-Level Individual Contributors)'].\n",
    "4. For job titles:\n",
    "   - Normalize and include abbreviations if applicable.\n",
    "   - Exclude company or region names.\n",
    "   \n",
    "Always return a JSON object. \n",
    "\n",
    "\n",
    "Here is the query you need to analyze: `{{QUERY}}`\n",
    "Let's think step by step about each key phrase.\n",
    "\"\"\"\n",
    "\n",
    "\n",
    "\n",
    "\n",
    "ASSISTANT_RESPONSE_TEMPLATE = \"\"\"\n",
    "<rationale>\n",
    "{{rationale}}\n",
    "</rationale>\n",
    "\n",
    "<json_output>\n",
    "{{json_output}}\n",
    "</json_output>\n",
    "\"\"\"\n"
   ]
  },
  {
   "cell_type": "code",
   "execution_count": 212,
   "metadata": {},
   "outputs": [],
   "source": [
    "with open('generated_input_output_pairs_v2.json') as f:\n",
    "    generated_input_output_pairs = json.load(f)"
   ]
  },
  {
   "cell_type": "code",
   "execution_count": 213,
   "metadata": {},
   "outputs": [
    {
     "data": {
      "text/plain": [
       "423"
      ]
     },
     "execution_count": 213,
     "metadata": {},
     "output_type": "execute_result"
    }
   ],
   "source": [
    "len(generated_input_output_pairs)"
   ]
  },
  {
   "cell_type": "code",
   "execution_count": 83,
   "metadata": {},
   "outputs": [],
   "source": [
    "example = results[0]"
   ]
  },
  {
   "cell_type": "code",
   "execution_count": 84,
   "metadata": {},
   "outputs": [],
   "source": [
    "def generate_training_example(example):\n",
    "    user_message = Template(STUDENT_MODEL_PROMPT_USER_V3).render({\"QUERY\": example[\"query\"]})\n",
    "    assistant_response = Template(ASSISTANT_RESPONSE_TEMPLATE).render({\"rationale\": example[\"rationale\"], \"json_output\": example[\"json_output\"]})\n",
    "    \n",
    "    messages = [\n",
    "            {\"role\": \"system\", \"content\": STUDENT_MODEL_PROMPT_SYSTEM},\n",
    "            {\"role\": \"user\", \"content\": f\"\"\"User Query: {user_message}\"\"\"},\n",
    "            {\"role\": \"assistant\", \"content\": assistant_response}       \n",
    "    ]\n",
    "    return { \"messages\" : messages }\n",
    "    "
   ]
  },
  {
   "cell_type": "code",
   "execution_count": 85,
   "metadata": {},
   "outputs": [],
   "source": [
    "training_example1 = generate_training_example(example)"
   ]
  },
  {
   "cell_type": "code",
   "execution_count": 86,
   "metadata": {},
   "outputs": [
    {
     "data": {
      "text/plain": [
       "{'messages': [{'role': 'system',\n",
       "   'content': 'You are an AI assistant tasked with extracting management levels and job titles from a given query. Your goal is to analyze the query, identify relevant key phrases, and categorize them appropriately as either management levels or job titles while generating proper reasoning and thinking step by step. \\nYour output format should be like below:\\n<rationale>\\nProvide reasoning and step-by-step thinking inside here\\n</rationale>\\n<json_output>\\nProvide json output inside here\\n</json_output>\\n'},\n",
       "  {'role': 'user',\n",
       "   'content': \"User Query: \\nInstructions:\\n1. Identify key phrases that are management levels or job titles.\\n2. Categorize each key phrase as either a management level or a job title.\\n3. Use predefined management levels: ['Partners,',' 'Founder or Co-founder,' 'Board of Directors,' 'CSuite/Chiefs,' 'Executive VP or Sr. VP,' 'General Manager,' 'Manager,' 'Head,' 'Senior Partner,' 'Junior Partner,' 'VP,' 'Director,' 'Senior (All Senior-Level Individual Contributors),' 'Mid (All Mid-Level Individual Contributors),' 'Junior (All Junior-Level Individual Contributors)'].\\n4. For job titles:\\n   - Normalize and include abbreviations if applicable.\\n   - Exclude company or region names.\\n   \\nAlways return a JSON object. \\n\\n\\nHere is the query you need to analyze: `Find human resources experts with proficiency in talent acquisition, employee engagement, strategic performance management, and HRIS software capabilities. Candidates should be based in the vibrant setting of New York City, New York, excluding those with a background in the hospitality industry.`\\nLet's think step by step about each key phrase.\"},\n",
       "  {'role': 'assistant',\n",
       "   'content': '\\n<rationale>\\nTo address the user query, we need to identify key phrases related to job titles or management levels. The query mentions \"human resources experts\" with specific skills. Let\\'s break it down:\\n\\n1. **Key Phrase Identification**:\\n   - \"human resources experts\" is the key phrase here. It refers to individuals with expertise in human resources, focusing on specific skills like talent acquisition, employee engagement, strategic performance management, and HRIS software capabilities.\\n\\n2. **Classification**:\\n   - **Job Title Focus**: The term \"experts\" suggests a focus on individuals with specialized knowledge or skills in human resources. This aligns more with job titles rather than management levels. We need to identify relevant job titles associated with expertise in human resources.\\n   - **Management Level Focus**: The term \"experts\" does not correspond to any predefined management levels. Therefore, it should not be classified as a management level.\\n\\n3. **Job Titles Extraction**:\\n   - Based on the context of \"human resources experts,\" we can extract relevant job titles that align with expertise in human resources. These could include:\\n     - \"HR Specialist\"\\n     - \"Talent Acquisition Specialist\"\\n     - \"Employee Engagement Specialist\"\\n     - \"HRIS Specialist\"\\n\\n4. **Output**:\\n   - Since \"human resources experts\" aligns with job titles and not management levels, we will include the relevant job titles in the output.\\n\\nHere\\'s the JSON object for the output: This output reflects the focus on job titles related to expertise in human resources, as specified in the user query.\\n</rationale>\\n\\n<json_output>\\n{\\'management_levels\\': [], \\'titles\\': [\\'HR Specialist\\', \\'Talent Acquisition Specialist\\', \\'Employee Engagement Specialist\\', \\'HRIS Specialist\\']}\\n</json_output>'}]}"
      ]
     },
     "execution_count": 86,
     "metadata": {},
     "output_type": "execute_result"
    }
   ],
   "source": [
    "training_example1"
   ]
  },
  {
   "cell_type": "code",
   "execution_count": 87,
   "metadata": {},
   "outputs": [],
   "source": [
    "openai_finetuning_data_json = []"
   ]
  },
  {
   "cell_type": "code",
   "execution_count": 189,
   "metadata": {},
   "outputs": [],
   "source": [
    "# with open(\"openai_gpt4o_mini_finetuning_data.jsonl\", \"w\") as f:\n",
    "#     for item in generated_input_output_pairs:\n",
    "#         training_example = generate_training_example(item)\n",
    "#         f.write((training_example) + \"\\n\")\n"
   ]
  },
  {
   "cell_type": "code",
   "execution_count": 88,
   "metadata": {},
   "outputs": [],
   "source": [
    "for item in results:\n",
    "    training_example = generate_training_example(item)\n",
    "    openai_finetuning_data_json.append((training_example))"
   ]
  },
  {
   "cell_type": "code",
   "execution_count": 89,
   "metadata": {},
   "outputs": [
    {
     "data": {
      "text/plain": [
       "{'messages': [{'role': 'system',\n",
       "   'content': 'You are an AI assistant tasked with extracting management levels and job titles from a given query. Your goal is to analyze the query, identify relevant key phrases, and categorize them appropriately as either management levels or job titles while generating proper reasoning and thinking step by step. \\nYour output format should be like below:\\n<rationale>\\nProvide reasoning and step-by-step thinking inside here\\n</rationale>\\n<json_output>\\nProvide json output inside here\\n</json_output>\\n'},\n",
       "  {'role': 'user',\n",
       "   'content': \"User Query: \\nInstructions:\\n1. Identify key phrases that are management levels or job titles.\\n2. Categorize each key phrase as either a management level or a job title.\\n3. Use predefined management levels: ['Partners,',' 'Founder or Co-founder,' 'Board of Directors,' 'CSuite/Chiefs,' 'Executive VP or Sr. VP,' 'General Manager,' 'Manager,' 'Head,' 'Senior Partner,' 'Junior Partner,' 'VP,' 'Director,' 'Senior (All Senior-Level Individual Contributors),' 'Mid (All Mid-Level Individual Contributors),' 'Junior (All Junior-Level Individual Contributors)'].\\n4. For job titles:\\n   - Normalize and include abbreviations if applicable.\\n   - Exclude company or region names.\\n   \\nAlways return a JSON object. \\n\\n\\nHere is the query you need to analyze: `Find human resources experts with proficiency in talent acquisition, employee engagement, strategic performance management, and HRIS software capabilities. Candidates should be based in the vibrant setting of New York City, New York, excluding those with a background in the hospitality industry.`\\nLet's think step by step about each key phrase.\"},\n",
       "  {'role': 'assistant',\n",
       "   'content': '\\n<rationale>\\nTo address the user query, we need to identify key phrases related to job titles or management levels. The query mentions \"human resources experts\" with specific skills. Let\\'s break it down:\\n\\n1. **Key Phrase Identification**:\\n   - \"human resources experts\" is the key phrase here. It refers to individuals with expertise in human resources, focusing on specific skills like talent acquisition, employee engagement, strategic performance management, and HRIS software capabilities.\\n\\n2. **Classification**:\\n   - **Job Title Focus**: The term \"experts\" suggests a focus on individuals with specialized knowledge or skills in human resources. This aligns more with job titles rather than management levels. We need to identify relevant job titles associated with expertise in human resources.\\n   - **Management Level Focus**: The term \"experts\" does not correspond to any predefined management levels. Therefore, it should not be classified as a management level.\\n\\n3. **Job Titles Extraction**:\\n   - Based on the context of \"human resources experts,\" we can extract relevant job titles that align with expertise in human resources. These could include:\\n     - \"HR Specialist\"\\n     - \"Talent Acquisition Specialist\"\\n     - \"Employee Engagement Specialist\"\\n     - \"HRIS Specialist\"\\n\\n4. **Output**:\\n   - Since \"human resources experts\" aligns with job titles and not management levels, we will include the relevant job titles in the output.\\n\\nHere\\'s the JSON object for the output: This output reflects the focus on job titles related to expertise in human resources, as specified in the user query.\\n</rationale>\\n\\n<json_output>\\n{\\'management_levels\\': [], \\'titles\\': [\\'HR Specialist\\', \\'Talent Acquisition Specialist\\', \\'Employee Engagement Specialist\\', \\'HRIS Specialist\\']}\\n</json_output>'}]}"
      ]
     },
     "execution_count": 89,
     "metadata": {},
     "output_type": "execute_result"
    }
   ],
   "source": [
    "openai_finetuning_data_json[0]"
   ]
  },
  {
   "cell_type": "code",
   "execution_count": 90,
   "metadata": {},
   "outputs": [
    {
     "name": "stdout",
     "output_type": "stream",
     "text": [
      "Train Set: 35 [{'messages': [{'role': 'system', 'content': 'You are an AI assistant tasked with extracting management levels and job titles from a given query. Your goal is to analyze the query, identify relevant key phrases, and categorize them appropriately as either management levels or job titles while generating proper reasoning and thinking step by step. \\nYour output format should be like below:\\n<rationale>\\nProvide reasoning and step-by-step thinking inside here\\n</rationale>\\n<json_output>\\nProvide json output inside here\\n</json_output>\\n'}, {'role': 'user', 'content': \"User Query: \\nInstructions:\\n1. Identify key phrases that are management levels or job titles.\\n2. Categorize each key phrase as either a management level or a job title.\\n3. Use predefined management levels: ['Partners,',' 'Founder or Co-founder,' 'Board of Directors,' 'CSuite/Chiefs,' 'Executive VP or Sr. VP,' 'General Manager,' 'Manager,' 'Head,' 'Senior Partner,' 'Junior Partner,' 'VP,' 'Director,' 'Senior (All Senior-Level Individual Contributors),' 'Mid (All Mid-Level Individual Contributors),' 'Junior (All Junior-Level Individual Contributors)'].\\n4. For job titles:\\n   - Normalize and include abbreviations if applicable.\\n   - Exclude company or region names.\\n   \\nAlways return a JSON object. \\n\\n\\nHere is the query you need to analyze: `Looking for a General Manager or Vice President with experience in the grocery sector in Finland.`\\nLet's think step by step about each key phrase.\"}, {'role': 'assistant', 'content': '\\n<rationale>\\nTo address the user query, we need to identify the key phrases and determine whether they should be classified as management levels or job titles. \\n\\n1. **Key Phrase: \"General Manager\"**\\n   - **Classification**: Management Level\\n   - **Reason**: \"General Manager\" is explicitly mentioned as a management level in the predefined set. It does not specify a business function, so it remains a management level.\\n\\n2. **Key Phrase: \"Vice President\"**\\n   - **Classification**: Management Level\\n   - **Reason**: \"Vice President\" is also explicitly mentioned as a management level in the predefined set. It does not specify a business function, so it remains a management level.\\n\\nThe query does not specify any business function for either the \"General Manager\" or \"Vice President,\" so they are both classified as management levels. The mention of the grocery sector and Finland is contextual information and does not affect the classification of the key phrases.\\n\\nOutput:\\n</rationale>\\n\\n<json_output>\\n{\\'management_levels\\': [\\'General Manager\\', \\'VP\\'], \\'titles\\': []}\\n</json_output>'}]}, {'messages': [{'role': 'system', 'content': 'You are an AI assistant tasked with extracting management levels and job titles from a given query. Your goal is to analyze the query, identify relevant key phrases, and categorize them appropriately as either management levels or job titles while generating proper reasoning and thinking step by step. \\nYour output format should be like below:\\n<rationale>\\nProvide reasoning and step-by-step thinking inside here\\n</rationale>\\n<json_output>\\nProvide json output inside here\\n</json_output>\\n'}, {'role': 'user', 'content': \"User Query: \\nInstructions:\\n1. Identify key phrases that are management levels or job titles.\\n2. Categorize each key phrase as either a management level or a job title.\\n3. Use predefined management levels: ['Partners,',' 'Founder or Co-founder,' 'Board of Directors,' 'CSuite/Chiefs,' 'Executive VP or Sr. VP,' 'General Manager,' 'Manager,' 'Head,' 'Senior Partner,' 'Junior Partner,' 'VP,' 'Director,' 'Senior (All Senior-Level Individual Contributors),' 'Mid (All Mid-Level Individual Contributors),' 'Junior (All Junior-Level Individual Contributors)'].\\n4. For job titles:\\n   - Normalize and include abbreviations if applicable.\\n   - Exclude company or region names.\\n   \\nAlways return a JSON object. \\n\\n\\nHere is the query you need to analyze: `We're interested in HR executives globally who have a strong focus on leadership development and organizational efficiency. These candidates should have at least 15 years of experience and be operating at a Chief HR Officer level in multinational corporations.`\\nLet's think step by step about each key phrase.\"}, {'role': 'assistant', 'content': '\\n<rationale>\\nTo address the user query, we need to identify the key phrases and determine whether they should be classified as management levels or job titles.\\n\\n1. **Key Phrase Identification:**\\n   - \"HR executives\": The term \"executives\" is mentioned in relation to a business function, which is HR (Human Resources). Therefore, we need to consider titles specific to HR.\\n   - \"Chief HR Officer\": This is a specific job title related to the HR function.\\n\\n2. **Classification:**\\n   - **\"HR executives\"**: Since \"executives\" is mentioned with a business function (HR), we should include job titles specific to HR at the executive level. This includes titles like \"Chief HR Officer\" and \"CHRO\" (Chief Human Resources Officer), \"Senior VP of HR\" and \"Senior Vice President of HR\", \"VP of HR\" and \"Vice President of HR\".\\n   - **\"Chief HR Officer\"**: This is a specific job title and should be included in the titles list.\\n\\n3. **Management Levels and Titles:**\\n   - Since \"HR executives\" is related to a specific business function, it falls under job titles, not management levels.\\n   - \"Chief HR Officer\" is a job title, not a management level.\\n\\nBased on this analysis, the output should be: **Explanation:**\\n- \"HR executives\" is interpreted as job titles related to HR at the executive level, hence the inclusion of specific HR executive titles.\\n- \"Chief HR Officer\" is a specific job title and is included in the titles list.\\n- No management levels are included because the focus is on specific HR executive titles.\\n</rationale>\\n\\n<json_output>\\n{\\'management_levels\\': [], \\'titles\\': [\\'Chief HR Officer\\', \\'CHRO\\', \\'Senior VP of HR\\', \\'Senior Vice President of HR\\', \\'VP of HR\\', \\'Vice President of HR\\']}\\n</json_output>'}]}, {'messages': [{'role': 'system', 'content': 'You are an AI assistant tasked with extracting management levels and job titles from a given query. Your goal is to analyze the query, identify relevant key phrases, and categorize them appropriately as either management levels or job titles while generating proper reasoning and thinking step by step. \\nYour output format should be like below:\\n<rationale>\\nProvide reasoning and step-by-step thinking inside here\\n</rationale>\\n<json_output>\\nProvide json output inside here\\n</json_output>\\n'}, {'role': 'user', 'content': \"User Query: \\nInstructions:\\n1. Identify key phrases that are management levels or job titles.\\n2. Categorize each key phrase as either a management level or a job title.\\n3. Use predefined management levels: ['Partners,',' 'Founder or Co-founder,' 'Board of Directors,' 'CSuite/Chiefs,' 'Executive VP or Sr. VP,' 'General Manager,' 'Manager,' 'Head,' 'Senior Partner,' 'Junior Partner,' 'VP,' 'Director,' 'Senior (All Senior-Level Individual Contributors),' 'Mid (All Mid-Level Individual Contributors),' 'Junior (All Junior-Level Individual Contributors)'].\\n4. For job titles:\\n   - Normalize and include abbreviations if applicable.\\n   - Exclude company or region names.\\n   \\nAlways return a JSON object. \\n\\n\\nHere is the query you need to analyze: `Find HR executives in the Midwest with a minimum of 15 years of professional experience. They should have backgrounds in recruiting, talent acquisition, or management, coupled with HR generalist experience, and currently serve at a Senior Director level or higher in companies with revenues exceeding $2 billion.`\\nLet's think step by step about each key phrase.\"}, {'role': 'assistant', 'content': '\\n<rationale>\\nTo address the user query, we need to identify and classify the key phrases mentioned. The query is asking for specific roles within the HR function, focusing on individuals with significant experience and specific backgrounds. Let\\'s break it down:\\n\\n1. **Key Phrase: \"HR executives\"**\\n   - **Classification**: Job Title\\n   - **Reasoning**: The term \"HR executives\" refers to individuals in executive roles within the HR function. Since \"executive\" is mentioned in relation to a business function (HR), we should consider specific titles within this function. This includes titles like \"Chief Human Resources Officer\" (CHRO) and \"Senior VP of Human Resources\" (Senior Vice President of Human Resources), as these are logical executive roles within HR.\\n\\n2. **Key Phrase: \"Senior Director level or higher\"**\\n   - **Classification**: Management Level\\n   - **Reasoning**: The phrase \"Senior Director level or higher\" indicates a management level. \"Senior Director\" is a specific management level, and the query specifies this level or higher, which includes levels like \"CSuite/Chiefs,\" \"Executive VP or Sr. VP,\" and \"VP.\" However, since \"Senior Director\" is explicitly mentioned, it should be included as a management level.\\n\\nBased on this analysis, the output should be: This output reflects the classification of the key phrases based on the user\\'s query, ensuring that each key phrase is either a management level or a job title, but not both.\\n</rationale>\\n\\n<json_output>\\n{\\'management_levels\\': [\\'Senior Director\\'], \\'titles\\': [\\'CHRO\\', \\'Chief Human Resources Officer\\', \\'Senior VP of Human Resources\\', \\'Senior Vice President of Human Resources\\']}\\n</json_output>'}]}, {'messages': [{'role': 'system', 'content': 'You are an AI assistant tasked with extracting management levels and job titles from a given query. Your goal is to analyze the query, identify relevant key phrases, and categorize them appropriately as either management levels or job titles while generating proper reasoning and thinking step by step. \\nYour output format should be like below:\\n<rationale>\\nProvide reasoning and step-by-step thinking inside here\\n</rationale>\\n<json_output>\\nProvide json output inside here\\n</json_output>\\n'}, {'role': 'user', 'content': \"User Query: \\nInstructions:\\n1. Identify key phrases that are management levels or job titles.\\n2. Categorize each key phrase as either a management level or a job title.\\n3. Use predefined management levels: ['Partners,',' 'Founder or Co-founder,' 'Board of Directors,' 'CSuite/Chiefs,' 'Executive VP or Sr. VP,' 'General Manager,' 'Manager,' 'Head,' 'Senior Partner,' 'Junior Partner,' 'VP,' 'Director,' 'Senior (All Senior-Level Individual Contributors),' 'Mid (All Mid-Level Individual Contributors),' 'Junior (All Junior-Level Individual Contributors)'].\\n4. For job titles:\\n   - Normalize and include abbreviations if applicable.\\n   - Exclude company or region names.\\n   \\nAlways return a JSON object. \\n\\n\\nHere is the query you need to analyze: `Nordic countries' marketplaces with a revenue of at least USD 50m, hiring for an executive role`\\nLet's think step by step about each key phrase.\"}, {'role': 'assistant', 'content': '\\n<rationale>\\nTo address the user query, we need to identify any key phrases related to management levels or job titles. The query mentions \"an executive role,\" which is a key phrase. Let\\'s evaluate it:\\n\\n1. **Key Phrase: \"an executive role\"**\\n\\n   - **Management Level Focus:** The term \"executive\" is mentioned, but it does not specify a particular business function. When \"executive\" is mentioned without a specific function, it typically refers to high-level positions. However, since no specific function is mentioned, we should consider the management levels that encompass executive roles. According to the instructions, when \"executive\" is mentioned without a specific function, it covers the management levels of \"CSuite/Chiefs,\" \"Executive VP or Sr. VP,\" and \"VP.\"\\n\\n   - **Job Title Focus:** Since no specific business function is mentioned, we do not classify this as a job title.\\n\\nBased on the analysis, the key phrase \"an executive role\" should be classified under management levels, covering the relevant executive positions.\\n\\n**Output:**\\n</rationale>\\n\\n<json_output>\\n{\\'management_levels\\': [\\'CSuite/Chiefs\\', \\'Executive VP or Sr. VP\\', \\'VP\\'], \\'titles\\': []}\\n</json_output>'}]}, {'messages': [{'role': 'system', 'content': 'You are an AI assistant tasked with extracting management levels and job titles from a given query. Your goal is to analyze the query, identify relevant key phrases, and categorize them appropriately as either management levels or job titles while generating proper reasoning and thinking step by step. \\nYour output format should be like below:\\n<rationale>\\nProvide reasoning and step-by-step thinking inside here\\n</rationale>\\n<json_output>\\nProvide json output inside here\\n</json_output>\\n'}, {'role': 'user', 'content': \"User Query: \\nInstructions:\\n1. Identify key phrases that are management levels or job titles.\\n2. Categorize each key phrase as either a management level or a job title.\\n3. Use predefined management levels: ['Partners,',' 'Founder or Co-founder,' 'Board of Directors,' 'CSuite/Chiefs,' 'Executive VP or Sr. VP,' 'General Manager,' 'Manager,' 'Head,' 'Senior Partner,' 'Junior Partner,' 'VP,' 'Director,' 'Senior (All Senior-Level Individual Contributors),' 'Mid (All Mid-Level Individual Contributors),' 'Junior (All Junior-Level Individual Contributors)'].\\n4. For job titles:\\n   - Normalize and include abbreviations if applicable.\\n   - Exclude company or region names.\\n   \\nAlways return a JSON object. \\n\\n\\nHere is the query you need to analyze: `Find senior HR executives with a track record in leadership development, organizational culture transformation, and advanced HR technology implementation. Candidates should preferably be from major metropolitan areas, excluding any with significant hospitality backgrounds.`\\nLet's think step by step about each key phrase.\"}, {'role': 'assistant', 'content': '\\n<rationale>\\nTo address the user query, we need to identify the key phrases and determine whether they should be classified as management levels or job titles. Let\\'s break it down:\\n\\n1. **Key Phrase Identification:**\\n   - \"senior HR executives\" is the key phrase in this query.\\n\\n2. **Classification:**\\n   - The term \"senior HR executives\" includes a business function (HR), which indicates that it should be classified as a job title rather than a management level. The word \"executive\" is mentioned in relation to a business function (HR), so we need to include specific titles related to HR at the senior level.\\n\\n3. **Job Titles:**\\n   - Since \"senior HR executives\" refers to specific roles within the HR function, we should consider titles such as:\\n     - \"Chief Human Resources Officer\" (CHRO)\\n     - \"Senior Vice President of Human Resources\"\\n     - \"Vice President of Human Resources\"\\n\\n4. **Management Levels:**\\n   - No management levels are explicitly mentioned in the query that cover the complete domain of any predefined management level set.\\n\\nBased on this analysis, the output should be: - **Explanation:**\\n  - \"senior HR executives\" is classified as job titles because it specifies a business function (HR) and the word \"executive\" is mentioned in relation to this function.\\n  - The titles chosen are logical and relevant to senior HR roles, focusing on leadership and expertise in HR.\\n</rationale>\\n\\n<json_output>\\n{\\'management_levels\\': [], \\'titles\\': [\\'Chief Human Resources Officer\\', \\'CHRO\\', \\'Senior Vice President of Human Resources\\', \\'Vice President of Human Resources\\']}\\n</json_output>'}]}]\n",
      "Eval Set: 8 [{'messages': [{'role': 'system', 'content': 'You are an AI assistant tasked with extracting management levels and job titles from a given query. Your goal is to analyze the query, identify relevant key phrases, and categorize them appropriately as either management levels or job titles while generating proper reasoning and thinking step by step. \\nYour output format should be like below:\\n<rationale>\\nProvide reasoning and step-by-step thinking inside here\\n</rationale>\\n<json_output>\\nProvide json output inside here\\n</json_output>\\n'}, {'role': 'user', 'content': \"User Query: \\nInstructions:\\n1. Identify key phrases that are management levels or job titles.\\n2. Categorize each key phrase as either a management level or a job title.\\n3. Use predefined management levels: ['Partners,',' 'Founder or Co-founder,' 'Board of Directors,' 'CSuite/Chiefs,' 'Executive VP or Sr. VP,' 'General Manager,' 'Manager,' 'Head,' 'Senior Partner,' 'Junior Partner,' 'VP,' 'Director,' 'Senior (All Senior-Level Individual Contributors),' 'Mid (All Mid-Level Individual Contributors),' 'Junior (All Junior-Level Individual Contributors)'].\\n4. For job titles:\\n   - Normalize and include abbreviations if applicable.\\n   - Exclude company or region names.\\n   \\nAlways return a JSON object. \\n\\n\\nHere is the query you need to analyze: `executives in new psychiatric treatment modalities`\\nLet's think step by step about each key phrase.\"}, {'role': 'assistant', 'content': '\\n<rationale>\\nTo address the query \"executives in new psychiatric treatment modalities,\" let\\'s break it down step by step:\\n\\n1. **Identify Key Phrases**: The key phrase here is \"executives in new psychiatric treatment modalities.\"\\n\\n2. **Determine Classification**:\\n   - The term \"executives\" is mentioned in relation to a specific business function, which in this case is \"new psychiatric treatment modalities.\" This implies a focus on leadership roles within this specific area.\\n\\n3. **Job Title Focus**:\\n   - Since \"executives\" is tied to a specific business function, we should consider relevant job titles associated with leadership in psychiatric treatment modalities. These could include titles like \"Chief Medical Officer,\" \"CMO,\" \"Senior VP of Psychiatry,\" \"Senior Vice President of Psychiatry,\" \"VP of Psychiatry,\" and \"Vice President of Psychiatry.\"\\n\\n4. **Management Level Focus**:\\n   - The term \"executives\" does not cover the complete domain of management levels like \"CSuite,\" \"Executive VP or Sr. VP,\" or \"VP\" without a specific function. Therefore, it should not be classified under management levels.\\n\\n5. **Output**:\\n   - Based on the analysis, the key phrase should be classified under job titles due to the specific business function mentioned.\\n\\nHere\\'s the JSON output: This output reflects the focus on leadership roles within the specific area of psychiatric treatment modalities.\\n</rationale>\\n\\n<json_output>\\n{\\'management_levels\\': [], \\'titles\\': [\\'Chief Medical Officer\\', \\'CMO\\', \\'Senior VP of Psychiatry\\', \\'Senior Vice President of Psychiatry\\', \\'VP of Psychiatry\\', \\'Vice President of Psychiatry\\']}\\n</json_output>'}]}, {'messages': [{'role': 'system', 'content': 'You are an AI assistant tasked with extracting management levels and job titles from a given query. Your goal is to analyze the query, identify relevant key phrases, and categorize them appropriately as either management levels or job titles while generating proper reasoning and thinking step by step. \\nYour output format should be like below:\\n<rationale>\\nProvide reasoning and step-by-step thinking inside here\\n</rationale>\\n<json_output>\\nProvide json output inside here\\n</json_output>\\n'}, {'role': 'user', 'content': \"User Query: \\nInstructions:\\n1. Identify key phrases that are management levels or job titles.\\n2. Categorize each key phrase as either a management level or a job title.\\n3. Use predefined management levels: ['Partners,',' 'Founder or Co-founder,' 'Board of Directors,' 'CSuite/Chiefs,' 'Executive VP or Sr. VP,' 'General Manager,' 'Manager,' 'Head,' 'Senior Partner,' 'Junior Partner,' 'VP,' 'Director,' 'Senior (All Senior-Level Individual Contributors),' 'Mid (All Mid-Level Individual Contributors),' 'Junior (All Junior-Level Individual Contributors)'].\\n4. For job titles:\\n   - Normalize and include abbreviations if applicable.\\n   - Exclude company or region names.\\n   \\nAlways return a JSON object. \\n\\n\\nHere is the query you need to analyze: `executive team members of psychedelic-assisted therapy centers`\\nLet's think step by step about each key phrase.\"}, {'role': 'assistant', 'content': '\\n<rationale>\\nTo address the query, we need to identify the key phrase and determine whether it should be classified as a management level or a job title.\\n\\n1. **Key Phrase Identification**: The key phrase in the query is \"executive team members.\"\\n\\n2. **Classification**:\\n   - **Management Level Focus**: The term \"executive team members\" suggests individuals who are part of the executive management level. However, the word \"executive\" is mentioned, which requires specific considerations. When \"executive\" is used without a specific business function, it typically refers to a broad range of high-level management positions.\\n   - **Job Title Focus**: Since no specific business function is mentioned in the query, we do not classify this as a job title.\\n\\n3. **Decision**:\\n   - Since \"executive team members\" does not specify a business function, it should be classified under management levels. The term \"executive\" in this context implies a broad range of high-level management positions, which includes \"CSuite/Chiefs,\" \"Executive VP or Sr. VP,\" and \"VP.\"\\n\\nTherefore, the output should reflect the management levels associated with the term \"executive team members.\"\\n</rationale>\\n\\n<json_output>\\n{\\'management_levels\\': [\\'CSuite/Chiefs\\', \\'Executive VP or Sr. VP\\', \\'VP\\'], \\'titles\\': []}\\n</json_output>'}]}, {'messages': [{'role': 'system', 'content': 'You are an AI assistant tasked with extracting management levels and job titles from a given query. Your goal is to analyze the query, identify relevant key phrases, and categorize them appropriately as either management levels or job titles while generating proper reasoning and thinking step by step. \\nYour output format should be like below:\\n<rationale>\\nProvide reasoning and step-by-step thinking inside here\\n</rationale>\\n<json_output>\\nProvide json output inside here\\n</json_output>\\n'}, {'role': 'user', 'content': \"User Query: \\nInstructions:\\n1. Identify key phrases that are management levels or job titles.\\n2. Categorize each key phrase as either a management level or a job title.\\n3. Use predefined management levels: ['Partners,',' 'Founder or Co-founder,' 'Board of Directors,' 'CSuite/Chiefs,' 'Executive VP or Sr. VP,' 'General Manager,' 'Manager,' 'Head,' 'Senior Partner,' 'Junior Partner,' 'VP,' 'Director,' 'Senior (All Senior-Level Individual Contributors),' 'Mid (All Mid-Level Individual Contributors),' 'Junior (All Junior-Level Individual Contributors)'].\\n4. For job titles:\\n   - Normalize and include abbreviations if applicable.\\n   - Exclude company or region names.\\n   \\nAlways return a JSON object. \\n\\n\\nHere is the query you need to analyze: `Locate human resource professionals experienced in talent acquisition, performance management, and HRIS functionalities, who can effectively drive employee engagement. Candidates should be found within New York City, NY, while steering clear of those linked to the hospitality industry.`\\nLet's think step by step about each key phrase.\"}, {'role': 'assistant', 'content': '\\n<rationale>\\nTo address the user query, we need to identify key phrases that can be classified as either management levels or job titles. The query is looking for \"human resource professionals\" with specific expertise in \"talent acquisition, performance management, and HRIS functionalities\" who can drive \"employee engagement.\" The location and industry constraints are not relevant to our task of identifying management levels or job titles.\\n\\n1. **Key Phrase Identification**:\\n   - \"Human resource professionals\" is the key phrase here. It refers to individuals working in the human resources field with specific expertise.\\n\\n2. **Classification**:\\n   - **Job Title Focus**: The key phrase \"human resource professionals\" is more aligned with job titles because it specifies a business function (human resources) and areas of expertise (talent acquisition, performance management, HRIS). It does not fit into any predefined management level category.\\n\\n3. **Job Titles Extraction**:\\n   - Based on the context, we can extract relevant job titles associated with human resources and the specified expertise. These could include:\\n     - \"HR Specialist\"\\n     - \"Talent Acquisition Specialist\"\\n     - \"Performance Management Specialist\"\\n     - \"HRIS Specialist\"\\n     - \"Employee Engagement Specialist\"\\n\\n4. **Management Levels**:\\n   - There are no explicit management levels mentioned in the query that match the predefined set.\\n\\nGiven these considerations, the output should focus on the job titles related to the expertise areas mentioned.\\n</rationale>\\n\\n<json_output>\\n{\\'management_levels\\': [], \\'titles\\': [\\'HR Specialist\\', \\'Talent Acquisition Specialist\\', \\'Performance Management Specialist\\', \\'HRIS Specialist\\', \\'Employee Engagement Specialist\\']}\\n</json_output>'}]}, {'messages': [{'role': 'system', 'content': 'You are an AI assistant tasked with extracting management levels and job titles from a given query. Your goal is to analyze the query, identify relevant key phrases, and categorize them appropriately as either management levels or job titles while generating proper reasoning and thinking step by step. \\nYour output format should be like below:\\n<rationale>\\nProvide reasoning and step-by-step thinking inside here\\n</rationale>\\n<json_output>\\nProvide json output inside here\\n</json_output>\\n'}, {'role': 'user', 'content': \"User Query: \\nInstructions:\\n1. Identify key phrases that are management levels or job titles.\\n2. Categorize each key phrase as either a management level or a job title.\\n3. Use predefined management levels: ['Partners,',' 'Founder or Co-founder,' 'Board of Directors,' 'CSuite/Chiefs,' 'Executive VP or Sr. VP,' 'General Manager,' 'Manager,' 'Head,' 'Senior Partner,' 'Junior Partner,' 'VP,' 'Director,' 'Senior (All Senior-Level Individual Contributors),' 'Mid (All Mid-Level Individual Contributors),' 'Junior (All Junior-Level Individual Contributors)'].\\n4. For job titles:\\n   - Normalize and include abbreviations if applicable.\\n   - Exclude company or region names.\\n   \\nAlways return a JSON object. \\n\\n\\nHere is the query you need to analyze: `Find a Vice President or General Manager for grocery firms in Finland, must have relevant industry background.`\\nLet's think step by step about each key phrase.\"}, {'role': 'assistant', 'content': '\\n<rationale>\\nTo address the user query, we need to identify and evaluate the key phrases mentioned. The key phrases in this query are \"Vice President\" and \"General Manager.\" We will determine whether each key phrase should be classified as a management level or a job title.\\n\\n1. **Vice President**:\\n   - **Management Level Focus**: \"Vice President\" is a management level in the predefined set. It covers the complete domain of \"VP\" in management levels. Therefore, it should be classified as a management level.\\n   - **Job Title Focus**: If a business function were specified, it could be considered a job title. However, in this query, no specific business function is mentioned for \"Vice President.\"\\n\\n2. **General Manager**:\\n   - **Management Level Focus**: \"General Manager\" is also a management level in the predefined set. It covers the complete domain of \"General Manager\" in management levels. Therefore, it should be classified as a management level.\\n   - **Job Title Focus**: Similar to \"Vice President,\" if a specific business function were mentioned, it could be considered a job title. However, no specific business function is mentioned for \"General Manager\" in this query.\\n\\nSince both \"Vice President\" and \"General Manager\" are management levels and no specific business functions are mentioned, they will be classified under management levels.\\n\\nOutput:\\n</rationale>\\n\\n<json_output>\\n{\\'management_levels\\': [\\'VP\\', \\'General Manager\\'], \\'titles\\': []}\\n</json_output>'}]}, {'messages': [{'role': 'system', 'content': 'You are an AI assistant tasked with extracting management levels and job titles from a given query. Your goal is to analyze the query, identify relevant key phrases, and categorize them appropriately as either management levels or job titles while generating proper reasoning and thinking step by step. \\nYour output format should be like below:\\n<rationale>\\nProvide reasoning and step-by-step thinking inside here\\n</rationale>\\n<json_output>\\nProvide json output inside here\\n</json_output>\\n'}, {'role': 'user', 'content': \"User Query: \\nInstructions:\\n1. Identify key phrases that are management levels or job titles.\\n2. Categorize each key phrase as either a management level or a job title.\\n3. Use predefined management levels: ['Partners,',' 'Founder or Co-founder,' 'Board of Directors,' 'CSuite/Chiefs,' 'Executive VP or Sr. VP,' 'General Manager,' 'Manager,' 'Head,' 'Senior Partner,' 'Junior Partner,' 'VP,' 'Director,' 'Senior (All Senior-Level Individual Contributors),' 'Mid (All Mid-Level Individual Contributors),' 'Junior (All Junior-Level Individual Contributors)'].\\n4. For job titles:\\n   - Normalize and include abbreviations if applicable.\\n   - Exclude company or region names.\\n   \\nAlways return a JSON object. \\n\\n\\nHere is the query you need to analyze: `Locate senior executives with VP titles from Western European firms who have over 30 years of experience in financial management.`\\nLet's think step by step about each key phrase.\"}, {'role': 'assistant', 'content': '\\n<rationale>\\nTo address the user query, we need to identify the key phrases and determine whether they should be classified as management levels or job titles. Let\\'s break down the query:\\n\\n1. **Key Phrase Identification**:\\n   - \"senior executives with VP titles\"\\n   - \"financial management\"\\n\\n2. **Classification**:\\n   - **\"senior executives with VP titles\"**: The term \"senior executives\" suggests a focus on high-level positions. However, the word \"executives\" is mentioned, which requires specific considerations. In this context, \"VP titles\" indicates a focus on individuals with the title of Vice President. Since \"VP\" is a specific management level in the predefined set, it should be classified under management levels. The word \"executive\" is not included as a management level or job title.\\n   - **\"financial management\"**: This phrase indicates a business function. However, it is not directly tied to a specific job title in the query. Therefore, it does not contribute to the classification of a job title or management level in this context.\\n\\n3. **Output Construction**:\\n   - Since \"VP\" is identified as a management level, it will be included in the management levels list.\\n   - There are no specific job titles mentioned that include a business function, so the titles list will remain empty.\\n\\nBased on this analysis, the output will be: Explanation:\\n- \"VP\" is included in the management levels because it is a specific rank within the organizational hierarchy and is part of the predefined set.\\n- No specific job titles with a business function are mentioned, so the titles list is empty.\\n</rationale>\\n\\n<json_output>\\n{\\'management_levels\\': [\\'VP\\'], \\'titles\\': []}\\n</json_output>'}]}]\n",
      "Test Set: 8 [{'messages': [{'role': 'system', 'content': 'You are an AI assistant tasked with extracting management levels and job titles from a given query. Your goal is to analyze the query, identify relevant key phrases, and categorize them appropriately as either management levels or job titles while generating proper reasoning and thinking step by step. \\nYour output format should be like below:\\n<rationale>\\nProvide reasoning and step-by-step thinking inside here\\n</rationale>\\n<json_output>\\nProvide json output inside here\\n</json_output>\\n'}, {'role': 'user', 'content': \"User Query: \\nInstructions:\\n1. Identify key phrases that are management levels or job titles.\\n2. Categorize each key phrase as either a management level or a job title.\\n3. Use predefined management levels: ['Partners,',' 'Founder or Co-founder,' 'Board of Directors,' 'CSuite/Chiefs,' 'Executive VP or Sr. VP,' 'General Manager,' 'Manager,' 'Head,' 'Senior Partner,' 'Junior Partner,' 'VP,' 'Director,' 'Senior (All Senior-Level Individual Contributors),' 'Mid (All Mid-Level Individual Contributors),' 'Junior (All Junior-Level Individual Contributors)'].\\n4. For job titles:\\n   - Normalize and include abbreviations if applicable.\\n   - Exclude company or region names.\\n   \\nAlways return a JSON object. \\n\\n\\nHere is the query you need to analyze: `Seek out human capital consultants with experience in change management, strategic workforce analytics, and HR digital transformation. Focus on candidates from consultancy backgrounds, specifically those without hospitality sector ties.`\\nLet's think step by step about each key phrase.\"}, {'role': 'assistant', 'content': '\\n<rationale>\\nTo address the user query, we need to identify key phrases and determine whether they should be classified as management levels or job titles. Let\\'s break down the query:\\n\\n1. **Key Phrase Identification**: \\n   - \"human capital consultants\" is the key phrase here. It refers to individuals with expertise in human capital, change management, strategic workforce analytics, and HR digital transformation.\\n\\n2. **Classification**:\\n   - **Job Title Focus**: The phrase \"human capital consultants\" is a job title because it specifies a role with a particular business function related to human capital and consultancy. It does not fit into any predefined management level category.\\n\\n3. **Output**:\\n   - Since \"human capital consultants\" is identified as a job title, it will be included in the \"titles\" list.\\n\\nHere\\'s the JSON output: Explanation:\\n- **Management Levels**: None of the predefined management levels apply to the key phrase \"human capital consultants.\"\\n- **Titles**: \"Human Capital Consultant\" is included as it specifies a job role with a clear business function.\\n</rationale>\\n\\n<json_output>\\n{\\'management_levels\\': [], \\'titles\\': [\\'Human Capital Consultant\\']}\\n</json_output>'}]}, {'messages': [{'role': 'system', 'content': 'You are an AI assistant tasked with extracting management levels and job titles from a given query. Your goal is to analyze the query, identify relevant key phrases, and categorize them appropriately as either management levels or job titles while generating proper reasoning and thinking step by step. \\nYour output format should be like below:\\n<rationale>\\nProvide reasoning and step-by-step thinking inside here\\n</rationale>\\n<json_output>\\nProvide json output inside here\\n</json_output>\\n'}, {'role': 'user', 'content': \"User Query: \\nInstructions:\\n1. Identify key phrases that are management levels or job titles.\\n2. Categorize each key phrase as either a management level or a job title.\\n3. Use predefined management levels: ['Partners,',' 'Founder or Co-founder,' 'Board of Directors,' 'CSuite/Chiefs,' 'Executive VP or Sr. VP,' 'General Manager,' 'Manager,' 'Head,' 'Senior Partner,' 'Junior Partner,' 'VP,' 'Director,' 'Senior (All Senior-Level Individual Contributors),' 'Mid (All Mid-Level Individual Contributors),' 'Junior (All Junior-Level Individual Contributors)'].\\n4. For job titles:\\n   - Normalize and include abbreviations if applicable.\\n   - Exclude company or region names.\\n   \\nAlways return a JSON object. \\n\\n\\nHere is the query you need to analyze: `executive roles in e-commerce sectors with robust revenue streams, preferably within Northern Europe`\\nLet's think step by step about each key phrase.\"}, {'role': 'assistant', 'content': '\\n<rationale>\\nTo address the user query, we need to identify the key phrases and determine whether they should be classified as management levels or job titles. The query mentions \"executive roles in e-commerce sectors with robust revenue streams, preferably within Northern Europe.\"\\n\\n1. **Key Phrase Identification**:\\n   - The key phrase here is \"executive roles.\"\\n\\n2. **Classification**:\\n   - The term \"executive roles\" is broad and does not specify a particular business function. Therefore, it should be classified under management levels rather than job titles.\\n   - When the term \"executive\" is mentioned without a specific business function, it typically refers to high-level management positions. In this context, it would encompass the management levels of \"CSuite/Chiefs,\" \"Executive VP or Sr. VP,\" and \"VP.\"\\n\\n3. **Output**:\\n   - Since \"executive roles\" covers multiple management levels, we will include those levels in the output.\\n\\nHere\\'s the JSON object for the output: This output reflects the broad nature of \"executive roles\" without specifying a particular business function, thus categorizing it under management levels.\\n</rationale>\\n\\n<json_output>\\n{\\'management_levels\\': [\\'CSuite/Chiefs\\', \\'Executive VP or Sr. VP\\', \\'VP\\'], \\'titles\\': []}\\n</json_output>'}]}, {'messages': [{'role': 'system', 'content': 'You are an AI assistant tasked with extracting management levels and job titles from a given query. Your goal is to analyze the query, identify relevant key phrases, and categorize them appropriately as either management levels or job titles while generating proper reasoning and thinking step by step. \\nYour output format should be like below:\\n<rationale>\\nProvide reasoning and step-by-step thinking inside here\\n</rationale>\\n<json_output>\\nProvide json output inside here\\n</json_output>\\n'}, {'role': 'user', 'content': \"User Query: \\nInstructions:\\n1. Identify key phrases that are management levels or job titles.\\n2. Categorize each key phrase as either a management level or a job title.\\n3. Use predefined management levels: ['Partners,',' 'Founder or Co-founder,' 'Board of Directors,' 'CSuite/Chiefs,' 'Executive VP or Sr. VP,' 'General Manager,' 'Manager,' 'Head,' 'Senior Partner,' 'Junior Partner,' 'VP,' 'Director,' 'Senior (All Senior-Level Individual Contributors),' 'Mid (All Mid-Level Individual Contributors),' 'Junior (All Junior-Level Individual Contributors)'].\\n4. For job titles:\\n   - Normalize and include abbreviations if applicable.\\n   - Exclude company or region names.\\n   \\nAlways return a JSON object. \\n\\n\\nHere is the query you need to analyze: `head of operations positions in online marketplaces with substantial annual sales, targeting Nordic locales`\\nLet's think step by step about each key phrase.\"}, {'role': 'assistant', 'content': '\\n<rationale>\\nTo address the user query, we need to identify the key phrases and determine whether they should be classified as management levels or job titles. Let\\'s break it down:\\n\\n1. **Key Phrase Identification**:\\n   - The key phrase in the query is \"head of operations.\"\\n\\n2. **Classification**:\\n   - **\"Head of Operations\"**: This phrase includes a specific business function, \"operations,\" which indicates it should be classified as a job title rather than a management level. The term \"head\" is part of the job title and specifies the role within the operations function.\\n\\n3. **Management Levels and Job Titles**:\\n   - Since \"head of operations\" specifies a business function, it will be classified as a job title.\\n\\n4. **Output**:\\n   - The management level \"Head\" is not included separately because it is part of the job title \"Head of Operations.\"\\n\\nBased on the analysis, the output will be:\\n</rationale>\\n\\n<json_output>\\n{\\'management_levels\\': [], \\'titles\\': [\\'Head of Operations\\']}\\n</json_output>'}]}, {'messages': [{'role': 'system', 'content': 'You are an AI assistant tasked with extracting management levels and job titles from a given query. Your goal is to analyze the query, identify relevant key phrases, and categorize them appropriately as either management levels or job titles while generating proper reasoning and thinking step by step. \\nYour output format should be like below:\\n<rationale>\\nProvide reasoning and step-by-step thinking inside here\\n</rationale>\\n<json_output>\\nProvide json output inside here\\n</json_output>\\n'}, {'role': 'user', 'content': \"User Query: \\nInstructions:\\n1. Identify key phrases that are management levels or job titles.\\n2. Categorize each key phrase as either a management level or a job title.\\n3. Use predefined management levels: ['Partners,',' 'Founder or Co-founder,' 'Board of Directors,' 'CSuite/Chiefs,' 'Executive VP or Sr. VP,' 'General Manager,' 'Manager,' 'Head,' 'Senior Partner,' 'Junior Partner,' 'VP,' 'Director,' 'Senior (All Senior-Level Individual Contributors),' 'Mid (All Mid-Level Individual Contributors),' 'Junior (All Junior-Level Individual Contributors)'].\\n4. For job titles:\\n   - Normalize and include abbreviations if applicable.\\n   - Exclude company or region names.\\n   \\nAlways return a JSON object. \\n\\n\\nHere is the query you need to analyze: `We're looking for HR leaders based in the Midwestern US with at least 15 years of experience. Their backgrounds should include recruiting, talent acquisition, or management, alongside HR generalist roles. They need to be at the Senior Director level or above in organizations that earn more than $2 billion annually.`\\nLet's think step by step about each key phrase.\"}, {'role': 'assistant', 'content': '\\n<rationale>\\nTo address the user query, we need to identify the key phrases and determine whether they should be classified as management levels or job titles. Here\\'s the breakdown:\\n\\n1. **Key Phrase Identification:**\\n   - \"HR leaders\": The term \"leaders\" suggests a focus on leadership roles within the HR function. However, \"leaders\" is not a specific management level or job title. We need to extract relevant job titles associated with HR leadership.\\n   - \"Senior Director level or above\": This specifies a management level, indicating individuals at the Senior Director level or higher.\\n\\n2. **Classification:**\\n   - \"HR leaders\": Since \"leaders\" is not a specific management level, we should focus on extracting relevant job titles within the HR function. Possible titles could include \"Chief Human Resources Officer\" (CHRO), \"Senior Vice President of Human Resources,\" and \"Vice President of Human Resources.\"\\n   - \"Senior Director level or above\": This refers to a management level. \"Senior Director\" is a specific management level, and \"above\" suggests higher levels such as \"Executive VP or Sr. VP\" and \"CSuite/Chiefs.\"\\n\\n3. **Output Construction:**\\n   - For \"HR leaders,\" we extract relevant job titles within the HR function.\\n   - For \"Senior Director level or above,\" we identify the management levels that fit this description.\\n\\nBased on this analysis, the output will be: **Explanation:**\\n- \"HR leaders\" is interpreted as job titles within the HR function, leading to the extraction of relevant titles.\\n- \"Senior Director level or above\" is interpreted as management levels, covering \"Executive VP or Sr. VP\" and \"CSuite/Chiefs\" as they are above the Senior Director level.\\n</rationale>\\n\\n<json_output>\\n{\\'management_levels\\': [\\'Executive VP or Sr. VP\\', \\'CSuite/Chiefs\\'], \\'titles\\': [\\'Chief Human Resources Officer\\', \\'Senior Vice President of Human Resources\\', \\'Vice President of Human Resources\\']}\\n</json_output>'}]}, {'messages': [{'role': 'system', 'content': 'You are an AI assistant tasked with extracting management levels and job titles from a given query. Your goal is to analyze the query, identify relevant key phrases, and categorize them appropriately as either management levels or job titles while generating proper reasoning and thinking step by step. \\nYour output format should be like below:\\n<rationale>\\nProvide reasoning and step-by-step thinking inside here\\n</rationale>\\n<json_output>\\nProvide json output inside here\\n</json_output>\\n'}, {'role': 'user', 'content': \"User Query: \\nInstructions:\\n1. Identify key phrases that are management levels or job titles.\\n2. Categorize each key phrase as either a management level or a job title.\\n3. Use predefined management levels: ['Partners,',' 'Founder or Co-founder,' 'Board of Directors,' 'CSuite/Chiefs,' 'Executive VP or Sr. VP,' 'General Manager,' 'Manager,' 'Head,' 'Senior Partner,' 'Junior Partner,' 'VP,' 'Director,' 'Senior (All Senior-Level Individual Contributors),' 'Mid (All Mid-Level Individual Contributors),' 'Junior (All Junior-Level Individual Contributors)'].\\n4. For job titles:\\n   - Normalize and include abbreviations if applicable.\\n   - Exclude company or region names.\\n   \\nAlways return a JSON object. \\n\\n\\nHere is the query you need to analyze: `leaders of ketamine psychiatric facilities in the United States`\\nLet's think step by step about each key phrase.\"}, {'role': 'assistant', 'content': '\\n<rationale>\\nTo address the user query, we need to identify the key phrases and determine whether they should be classified as management levels or job titles.\\n\\n1. **Key Phrase Identification**: \\n   - The key phrase in the query is \"leaders of ketamine psychiatric facilities.\"\\n\\n2. **Classification**:\\n   - The term \"leaders\" is a broad term and does not directly correspond to any specific management level in the predefined set. It suggests individuals who hold significant roles within the organization but does not specify a particular level like \"Manager\" or \"Director.\"\\n   - Since \"leaders\" is associated with a specific function, i.e., \"ketamine psychiatric facilities,\" we should focus on job titles that are relevant to leadership roles within such facilities.\\n\\n3. **Job Titles**:\\n   - Given the context, relevant job titles could include roles like \"Medical Director,\" \"Clinical Director,\" or \"Facility Director,\" which are leadership positions typically found in psychiatric or medical facilities.\\n\\n4. **Management Levels**:\\n   - Since \"leaders\" does not map directly to a specific management level in the predefined set, and the focus is on leadership roles within a specific function, it does not fall under management levels.\\n\\nBased on this analysis, the output should focus on job titles relevant to leadership in ketamine psychiatric facilities.\\n</rationale>\\n\\n<json_output>\\n{\\'management_levels\\': [], \\'titles\\': [\\'Medical Director\\', \\'Clinical Director\\', \\'Facility Director\\']}\\n</json_output>'}]}]\n"
     ]
    }
   ],
   "source": [
    "import random\n",
    "\n",
    "# Seed for reproducibility\n",
    "seed = 42\n",
    "random.seed(seed)\n",
    "\n",
    "# Shuffle the data\n",
    "random.shuffle(openai_finetuning_data_json)\n",
    "\n",
    "# Define split ratios\n",
    "train_ratio = 0.7\n",
    "eval_ratio = 0.16  # Remaining 20% will automatically be test_ratio\n",
    "\n",
    "# Calculate split indices\n",
    "total_size = len(openai_finetuning_data_json)\n",
    "train_size = int(total_size * train_ratio)\n",
    "eval_size = int(total_size * eval_ratio)\n",
    "\n",
    "# Split the data\n",
    "train_data = openai_finetuning_data_json[:train_size]\n",
    "eval_data = openai_finetuning_data_json[train_size:train_size + eval_size]\n",
    "test_data = openai_finetuning_data_json[train_size + eval_size:]\n",
    "\n",
    "# Output\n",
    "print(\"Train Set:\", len(train_data), train_data[:5])  # Showing first 5 for brevity\n",
    "print(\"Eval Set:\", len(eval_data), eval_data[:5])\n",
    "print(\"Test Set:\", len(test_data), test_data[:5])\n"
   ]
  },
  {
   "cell_type": "code",
   "execution_count": 197,
   "metadata": {},
   "outputs": [],
   "source": [
    "# with open(\"train.json\", \"w\") as f:\n",
    "#     json.dump(train_data, f, indent=2)\n",
    "    \n",
    "# with open(\"test.json\", \"w\") as f:\n",
    "#     json.dump(test_data, f, indent=2)\n",
    "\n",
    "# with open(\"eval.json\", \"w\") as f:\n",
    "#     json.dump(eval_data, f, indent=2)\n"
   ]
  },
  {
   "cell_type": "code",
   "execution_count": 91,
   "metadata": {},
   "outputs": [],
   "source": [
    "def write_jsonl(data_list: list, filename: str) -> None:\n",
    "    with open(filename, \"w\") as out:\n",
    "        for ddict in data_list:\n",
    "            jout = json.dumps(ddict) + \"\\n\"\n",
    "            out.write(jout)"
   ]
  },
  {
   "cell_type": "code",
   "execution_count": 92,
   "metadata": {},
   "outputs": [],
   "source": [
    "write_jsonl(train_data, \"train_data_v2.jsonl\")\n",
    "write_jsonl(eval_data, \"eval_data_v2.jsonl\")\n",
    "write_jsonl(test_data, \"test_data_v2.jsonl\")"
   ]
  },
  {
   "cell_type": "code",
   "execution_count": 216,
   "metadata": {},
   "outputs": [
    {
     "data": {
      "text/plain": [
       "\"['Partners,',' 'Founder or Co-founder,' 'Board of Directors,' 'CSuite/Chiefs,' 'Executive VP or Sr. VP,' 'General Manager,' 'Manager,' 'Head,' 'Senior Partner,' 'Junior Partner,' 'VP,' 'Director,' 'Senior (All Senior-Level Individual Contributors),' 'Mid (All Mid-Level Individual Contributors),' 'Junior (All Junior-Level Individual Contributors)'].\""
      ]
     },
     "execution_count": 216,
     "metadata": {},
     "output_type": "execute_result"
    }
   ],
   "source": [
    "\"\"\"[\"Partners,\",\" \"Founder or Co-founder,\" \"Board of Directors,\" \"CSuite/Chiefs,\" \"Executive VP or Sr. VP,\" \"General Manager,\" \"Manager,\" \"Head,\" \"Senior Partner,\" \"Junior Partner,\" \"VP,\" \"Director,\" \"Senior (All Senior-Level Individual Contributors),\" \"Mid (All Mid-Level Individual Contributors),\" \"Junior (All Junior-Level Individual Contributors)\"].\"\"\".replace('\"', \"'\")"
   ]
  },
  {
   "cell_type": "code",
   "execution_count": null,
   "metadata": {},
   "outputs": [],
   "source": []
  }
 ],
 "metadata": {
  "kernelspec": {
   "display_name": "datumspeak",
   "language": "python",
   "name": "python3"
  },
  "language_info": {
   "codemirror_mode": {
    "name": "ipython",
    "version": 3
   },
   "file_extension": ".py",
   "mimetype": "text/x-python",
   "name": "python",
   "nbconvert_exporter": "python",
   "pygments_lexer": "ipython3",
   "version": "3.12.3"
  }
 },
 "nbformat": 4,
 "nbformat_minor": 2
}
