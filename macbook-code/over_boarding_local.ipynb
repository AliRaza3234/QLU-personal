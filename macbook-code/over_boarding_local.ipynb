{
 "cells": [
  {
   "cell_type": "code",
   "execution_count": 14,
   "metadata": {},
   "outputs": [],
   "source": [
    "import json\n",
    "\n",
    "from jinja2 import Template"
   ]
  },
  {
   "cell_type": "code",
   "execution_count": 5,
   "metadata": {},
   "outputs": [],
   "source": [
    "MANAGEMENT_LEVEL_TITLE_PROMPT = \"\"\"\n",
    "You are an intelligent assistant dedicated to extracting management levels and job titles from user queries. Before doing so, you must understand what a functional area is.\n",
    "\n",
    "Definition of a Functional Area:\n",
    "- A functional area is a department or group of personnel tasked with a specific organizational function. These include departments like finance, marketing, engineering, etc.\n",
    "\n",
    "Definition of Management Level:\n",
    "- A management level refers to a hierarchical position within an organization without a specific functional area. It encompasses broader titles that may include roles across different functional areas.\n",
    "- Management levels include: \"Board of Directors,\" \"CSuite and President,\" \"Executive and Sr. VP,\" \"General Manager,\" \"VP,\" \"Director,\" \"Manager,\" \"Senior (Individual Contributor),\" \"Mid (Individual Contributor),\" and \"Junior.\"\n",
    "\n",
    "Definition of a Job Title:\n",
    "- A job title refers to a specific employment position combined with a functional area.\n",
    "- Examples include 'VP of Engineering' (functional area: Engineering) and 'Director of Finance' (functional area: Finance).\n",
    "\n",
    "Instructions:\n",
    "1. Management Levels: Only return management levels that match the predefined set: [\"Board of Directors,\" \"CSuite and President,\" \"Executive and Sr. VP,\" \"General Manager,\" \"VP,\" \"Director,\" \"Manager,\" \"Senior (Individual Contributor),\" \"Mid (Individual Contributor),\" \"Junior\"].\n",
    "2. Job Titles: Normalize the job title after extracting it from the text. For example, convert \"ceo\" to \"Chief Executive Officer\" and include both the full title and its abbreviation if mentioned in the query, e.g., \"VP of Engineering\" and \"Vice President of Engineering.\"\n",
    "3. Response Format: Your response must be a dictionary with two keys: \"management_levels\" and \"titles\". Each key should have a list of management levels and titles respectively.\n",
    "4. If a keyword is classified as title, don't include it in the management levels and vice versa. e.g if \"VP of Engineering\" is classified as title then don't include \"VP\" in management levels.\n",
    "\n",
    "Examples:\n",
    "\n",
    "Query: The CEO of the company made a statement\n",
    "Expected Output: {\"management_levels\": [], \"titles\": [\"Chief Executive Officer\", \"CEO\"]}\n",
    "\n",
    "Query: Provide a list of CFOs and VPs working in the technology sector\n",
    "Explanation: Finance in CFO is a functional area.\n",
    "Expected Output: {\"management_levels\": [\"VP\"], \"titles\": [\"Chief Financial Officer\", \"CFO\"]}\n",
    "\n",
    "Query: Leaders of the top 10 revenue-based companies in the United States\n",
    "Explanation: Leaders is not a title rather a hierarchical position of the highest order. These are always Csuits and Presidents. \n",
    "Expected Output: {\"management_levels\": [\"Csuite and President\"], \"titles\": []}\n",
    "\n",
    "Query: Founders of the fastest-growing Middle Eastern tech startups\n",
    "Explanation: Founder is a title without any functional area.\n",
    "Expected Output: {\"management_levels\": [], \"titles\": [\"Founder\"]}\n",
    "\n",
    "Query: Managing Directors of top automotive companies in Germany\n",
    "Expected Output: {\"management_levels\": [], \"titles\": [\"Managing Director\"]}\n",
    "\n",
    "Query: Hassan Waqar at QLU\n",
    "Expected Output: {\"management_levels\": [], \"titles\": []}\n",
    "\n",
    "Query: Current VPS of the largest industrial manufacturers who were once Directors at top tech companies\n",
    "Expected Output: {\"management_levels\": [\"VP\", \"Director\"], \"titles\": []}\n",
    "\n",
    "Query: Heads of sales at fortune 500 companies or who were vp of sales at apple\n",
    "Expected Output: {\"management_levels\": [], \"titles\": [\"Head of Sales\", \"VP of Sales\", \"Vice President of Sales\"]}\n",
    "\n",
    "Query: executives with \"commercial\" in title, marketplaces, based in European countries\n",
    "Expected Output: {\"management_levels\": [\"Executive and Sr. VP\"], \"titles\": [\"Commercial\"]}\n",
    "\n",
    "Note:\n",
    "- Always use your large knowledge base to make educated guesses about the management levels and titles.\n",
    "\n",
    "Now write the output for the following query:\n",
    "Query: \"{{query}}\"\n",
    "Output: \n",
    "\"\"\""
   ]
  },
  {
   "cell_type": "code",
   "execution_count": 6,
   "metadata": {},
   "outputs": [],
   "source": [
    "OPTIMIZED_PROMPT = \"\"\"You are an intelligent assistant dedicated to extracting management levels and job titles from user queries. Before doing so, you must understand what a functional area is.\n",
    "\n",
    "Definition of a Functional Area:\n",
    "- A functional area is a department or group of personnel tasked with a specific organizational function. These include departments like finance, marketing, engineering, etc.\n",
    "\n",
    "Definition of Management Level:\n",
    "- A management level refers to a hierarchical position within an organization without a specific functional area. It encompasses broader titles that may include roles across different functional areas.\n",
    "- Management levels include: \"Board of Directors,\" \"CSuite and President,\" \"Executive and Sr. VP,\" \"General Manager,\" \"VP,\" \"Director,\" \"Manager,\" \"Senior (Individual Contributor),\" \"Mid (Individual Contributor),\" and \"Junior.\"\n",
    "\n",
    "Definition of a Job Title:\n",
    "- A job title refers to a specific employment position combined with a functional area.\n",
    "- Examples include 'VP of Engineering' (functional area: Engineering) and 'Director of Finance' (functional area: Finance).\n",
    "\n",
    "Instructions:\n",
    "1. Management Levels: Only return management levels that match the predefined set: [\"Board of Directors,\" \"CSuite and President,\" \"Executive and Sr. VP,\" \"General Manager,\" \"VP,\" \"Director,\" \"Manager,\" \"Senior (Individual Contributor),\" \"Mid (Individual Contributor),\" \"Junior\"].\n",
    "2. Job Titles: Normalize the job title after extracting it from the text. For example, convert \"ceo\" to \"Chief Executive Officer\" and include both the full title and its abbreviation if mentioned in the query, e.g., \"VP of Engineering\" and \"Vice President of Engineering.\"\n",
    "3. Response Format: Your response must be a dictionary with two keys: \"management_levels\" and \"titles\". Each key should have a list of management levels and titles respectively.\n",
    "4. If a keyword is classified as title, don't include it in the management levels and vice versa. e.g if \"VP of Engineering\" is classified as title then don't include \"VP\" in management levels.\n",
    "\n",
    "Example:\n",
    "Query: \"Provide a list of CFOs and VPs working in the technology sector\"\n",
    "Output: {\"management_levels\": [\"VP\"], \"titles\": [\"Chief Financial Officer\", \"CFO\"]}\n",
    "\n",
    "Guidelines:\n",
    "- \"Leaders\" implies CSuite/President level\n",
    "- Titles without functional areas (e.g., \"Founder\", \"Managing Director\") go in titles list\n",
    "- Use knowledge base for educated guesses about classifications\n",
    "\n",
    "Query: \"{{query}}\"\n",
    "Output:\"\"\""
   ]
  },
  {
   "cell_type": "code",
   "execution_count": null,
   "metadata": {},
   "outputs": [],
   "source": []
  },
  {
   "cell_type": "code",
   "execution_count": 7,
   "metadata": {},
   "outputs": [
    {
     "ename": "FileNotFoundError",
     "evalue": "[Errno 2] No such file or directory: 'over_boarding_dataset.json'",
     "output_type": "error",
     "traceback": [
      "\u001b[0;31m---------------------------------------------------------------------------\u001b[0m",
      "\u001b[0;31mFileNotFoundError\u001b[0m                         Traceback (most recent call last)",
      "Cell \u001b[0;32mIn[7], line 1\u001b[0m\n\u001b[0;32m----> 1\u001b[0m \u001b[38;5;28;01mwith\u001b[39;00m \u001b[38;5;28;43mopen\u001b[39;49m\u001b[43m(\u001b[49m\u001b[38;5;124;43m\"\u001b[39;49m\u001b[38;5;124;43mover_boarding_dataset.json\u001b[39;49m\u001b[38;5;124;43m\"\u001b[39;49m\u001b[43m)\u001b[49m \u001b[38;5;28;01mas\u001b[39;00m f:\n\u001b[1;32m      2\u001b[0m     dataset \u001b[38;5;241m=\u001b[39m json\u001b[38;5;241m.\u001b[39mload(f)\n",
      "File \u001b[0;32m~/miniconda3/envs/datumspeak/lib/python3.12/site-packages/IPython/core/interactiveshell.py:324\u001b[0m, in \u001b[0;36m_modified_open\u001b[0;34m(file, *args, **kwargs)\u001b[0m\n\u001b[1;32m    317\u001b[0m \u001b[38;5;28;01mif\u001b[39;00m file \u001b[38;5;129;01min\u001b[39;00m {\u001b[38;5;241m0\u001b[39m, \u001b[38;5;241m1\u001b[39m, \u001b[38;5;241m2\u001b[39m}:\n\u001b[1;32m    318\u001b[0m     \u001b[38;5;28;01mraise\u001b[39;00m \u001b[38;5;167;01mValueError\u001b[39;00m(\n\u001b[1;32m    319\u001b[0m         \u001b[38;5;124mf\u001b[39m\u001b[38;5;124m\"\u001b[39m\u001b[38;5;124mIPython won\u001b[39m\u001b[38;5;124m'\u001b[39m\u001b[38;5;124mt let you open fd=\u001b[39m\u001b[38;5;132;01m{\u001b[39;00mfile\u001b[38;5;132;01m}\u001b[39;00m\u001b[38;5;124m by default \u001b[39m\u001b[38;5;124m\"\u001b[39m\n\u001b[1;32m    320\u001b[0m         \u001b[38;5;124m\"\u001b[39m\u001b[38;5;124mas it is likely to crash IPython. If you know what you are doing, \u001b[39m\u001b[38;5;124m\"\u001b[39m\n\u001b[1;32m    321\u001b[0m         \u001b[38;5;124m\"\u001b[39m\u001b[38;5;124myou can use builtins\u001b[39m\u001b[38;5;124m'\u001b[39m\u001b[38;5;124m open.\u001b[39m\u001b[38;5;124m\"\u001b[39m\n\u001b[1;32m    322\u001b[0m     )\n\u001b[0;32m--> 324\u001b[0m \u001b[38;5;28;01mreturn\u001b[39;00m \u001b[43mio_open\u001b[49m\u001b[43m(\u001b[49m\u001b[43mfile\u001b[49m\u001b[43m,\u001b[49m\u001b[43m \u001b[49m\u001b[38;5;241;43m*\u001b[39;49m\u001b[43margs\u001b[49m\u001b[43m,\u001b[49m\u001b[43m \u001b[49m\u001b[38;5;241;43m*\u001b[39;49m\u001b[38;5;241;43m*\u001b[39;49m\u001b[43mkwargs\u001b[49m\u001b[43m)\u001b[49m\n",
      "\u001b[0;31mFileNotFoundError\u001b[0m: [Errno 2] No such file or directory: 'over_boarding_dataset.json'"
     ]
    }
   ],
   "source": [
    "with open(\"over_boarding_dataset.jsonl\") as f:\n",
    "    dataset = json.load(f)"
   ]
  },
  {
   "cell_type": "code",
   "execution_count": 29,
   "metadata": {},
   "outputs": [],
   "source": [
    "with open(\"tmp.json\") as f:\n",
    "    tmp = json.load(f)"
   ]
  },
  {
   "cell_type": "code",
   "execution_count": 51,
   "metadata": {},
   "outputs": [],
   "source": [
    "with open(\"empty_queries.json\") as f:\n",
    "    empty_queries = json.load(f)"
   ]
  },
  {
   "cell_type": "code",
   "execution_count": 30,
   "metadata": {},
   "outputs": [
    {
     "data": {
      "text/plain": [
       "217"
      ]
     },
     "execution_count": 30,
     "metadata": {},
     "output_type": "execute_result"
    }
   ],
   "source": [
    "len(tmp)"
   ]
  },
  {
   "cell_type": "code",
   "execution_count": 23,
   "metadata": {},
   "outputs": [
    {
     "data": {
      "text/plain": [
       "426"
      ]
     },
     "execution_count": 23,
     "metadata": {},
     "output_type": "execute_result"
    }
   ],
   "source": [
    "len(dataset)"
   ]
  },
  {
   "cell_type": "code",
   "execution_count": 52,
   "metadata": {},
   "outputs": [
    {
     "data": {
      "text/plain": [
       "60"
      ]
     },
     "execution_count": 52,
     "metadata": {},
     "output_type": "execute_result"
    }
   ],
   "source": [
    "len(empty_queries)"
   ]
  },
  {
   "cell_type": "code",
   "execution_count": 35,
   "metadata": {},
   "outputs": [],
   "source": [
    "formatted_data = []"
   ]
  },
  {
   "cell_type": "code",
   "execution_count": null,
   "metadata": {},
   "outputs": [],
   "source": [
    "{'query': 'List all Managers in the retail industry.', 'output': {'management_level': ['Manager'], 'title': []}}\n",
    "{'query': 'Find all VPs in tech companies', 'output': {'management_level': ['VP'], 'title': []}}"
   ]
  },
  {
   "cell_type": "code",
   "execution_count": 54,
   "metadata": {},
   "outputs": [
    {
     "data": {
      "text/plain": [
       "643"
      ]
     },
     "execution_count": 54,
     "metadata": {},
     "output_type": "execute_result"
    }
   ],
   "source": [
    "len(formatted_data)"
   ]
  },
  {
   "cell_type": "code",
   "execution_count": 36,
   "metadata": {},
   "outputs": [],
   "source": [
    "for item in dataset:\n",
    "    formatted_dict = {\n",
    "        \"query\" : item[\"query\"],\n",
    "        \"output\" : {\n",
    "            \"management_level\" : item[\"output\"][0][1],\n",
    "            \"title\" : item[\"output\"][1][1]    \n",
    "        }\n",
    "    }\n",
    "    formatted_data.append(formatted_dict)"
   ]
  },
  {
   "cell_type": "code",
   "execution_count": 37,
   "metadata": {},
   "outputs": [],
   "source": [
    "for item in tmp:\n",
    "    formatted_data.append(item)"
   ]
  },
  {
   "cell_type": "code",
   "execution_count": 56,
   "metadata": {},
   "outputs": [],
   "source": [
    "for item in empty_queries:\n",
    "    formatted_dict = {\n",
    "        \"query\" : item,\n",
    "        \"output\" : {\n",
    "            \"management_level\" : [],\n",
    "            \"title\" : [] \n",
    "        }\n",
    "    }\n",
    "    formatted_data.append(formatted_dict)"
   ]
  },
  {
   "cell_type": "code",
   "execution_count": 57,
   "metadata": {},
   "outputs": [
    {
     "data": {
      "text/plain": [
       "703"
      ]
     },
     "execution_count": 57,
     "metadata": {},
     "output_type": "execute_result"
    }
   ],
   "source": [
    "len(formatted_data)"
   ]
  },
  {
   "cell_type": "code",
   "execution_count": 47,
   "metadata": {},
   "outputs": [],
   "source": [
    "key_dict_list = []"
   ]
  },
  {
   "cell_type": "code",
   "execution_count": 48,
   "metadata": {},
   "outputs": [],
   "source": [
    "for index, item in enumerate(dataset):\n",
    "    if item[\"query\"] in key_dict_list:\n",
    "        print(index)\n",
    "    else:\n",
    "        key_dict_list.append(item[\"query\"])\n"
   ]
  },
  {
   "cell_type": "code",
   "execution_count": 8,
   "metadata": {},
   "outputs": [
    {
     "data": {
      "text/plain": [
       "217"
      ]
     },
     "execution_count": 8,
     "metadata": {},
     "output_type": "execute_result"
    }
   ],
   "source": [
    "len(key_dict_list)"
   ]
  },
  {
   "cell_type": "code",
   "execution_count": 39,
   "metadata": {},
   "outputs": [],
   "source": [
    "def validate_dictionary(input_dict):\n",
    "    \"\"\"\n",
    "    Validates the format of the input dictionary.\n",
    "\n",
    "    Args:\n",
    "        input_dict: The dictionary to validate.\n",
    "\n",
    "    Returns:\n",
    "        True if the dictionary is valid, False otherwise.\n",
    "    \"\"\"\n",
    "\n",
    "    # Check if the input is a dictionary\n",
    "    if not isinstance(input_dict, dict):\n",
    "        return False\n",
    "\n",
    "    # Check for required keys\n",
    "    if \"query\" not in input_dict or \"output\" not in input_dict:\n",
    "        return False\n",
    "\n",
    "    # Check the type of the 'query' key\n",
    "    if not isinstance(input_dict[\"query\"], str):\n",
    "        return False\n",
    "\n",
    "    # Check the structure and types within the 'output' key\n",
    "    output = input_dict[\"output\"]\n",
    "    if not isinstance(output, dict):\n",
    "        return False\n",
    "    \n",
    "    if \"management_level\" not in output or \"title\" not in output:\n",
    "        return False\n",
    "\n",
    "    if not isinstance(output[\"management_level\"], list) or not all(isinstance(item, str) for item in output[\"management_level\"]):\n",
    "        return False\n",
    "    \n",
    "    if not isinstance(output[\"title\"], list) or not all(isinstance(item, str) for item in output[\"title\"]):\n",
    "        return False\n",
    "\n",
    "    return True\n"
   ]
  },
  {
   "cell_type": "code",
   "execution_count": 40,
   "metadata": {},
   "outputs": [],
   "source": [
    "for item in formatted_data:\n",
    "    if validate_dictionary(item) is False:\n",
    "        print(item)"
   ]
  },
  {
   "cell_type": "code",
   "execution_count": 18,
   "metadata": {},
   "outputs": [],
   "source": [
    "PHI_TEMPLATE = \"\"\"<|system|>\n",
    "{{system}}<|end|>\n",
    "<|user|>\n",
    "{{user}}<|end|>\n",
    "<|assistant|>{{assistant}}<|end|>\"\"\"\n"
   ]
  },
  {
   "cell_type": "code",
   "execution_count": 3,
   "metadata": {},
   "outputs": [],
   "source": [
    "SYSTEM = \"\"\"You are an intelligent assistant dedicated to extracting management levels and job titles from user queries. Before doing so, you must understand what a functional area is.\"\"\"\n",
    "USER = \"\"\"\n",
    "Definition of a Functional Area:\n",
    "- A functional area is a department or group of personnel tasked with a specific organizational function. These include departments like finance, marketing, engineering, etc.\n",
    "\n",
    "Definition of Management Level:\n",
    "- A management level refers to a hierarchical position within an organization without a specific functional area. It encompasses broader titles that may include roles across different functional areas.\n",
    "- Management levels include: \"Board of Directors,\" \"CSuite and President,\" \"Executive and Sr. VP,\" \"General Manager,\" \"VP,\" \"Director,\" \"Manager,\" \"Senior (Individual Contributor),\" \"Mid (Individual Contributor),\" and \"Junior.\"\n",
    "\n",
    "Definition of a Job Title:\n",
    "- A job title refers to a specific employment position combined with a functional area.\n",
    "- Examples include 'VP of Engineering' (functional area: Engineering) and 'Director of Finance' (functional area: Finance).\n",
    "\n",
    "Instructions:\n",
    "1. Management Levels: Only return management levels that match the predefined set: [\"Board of Directors,\" \"CSuite and President,\" \"Executive and Sr. VP,\" \"General Manager,\" \"VP,\" \"Director,\" \"Manager,\" \"Senior (Individual Contributor),\" \"Mid (Individual Contributor),\" \"Junior\"].\n",
    "2. Job Titles: Normalize the job title after extracting it from the text. For example, convert \"ceo\" to \"Chief Executive Officer\" and include both the full title and its abbreviation if mentioned in the query, e.g., \"VP of Engineering\" and \"Vice President of Engineering.\"\n",
    "3. Response Format: Your response must be a dictionary with two keys: \"management_levels\" and \"titles\". Each key should have a list of management levels and titles respectively.\n",
    "4. If a keyword is classified as title, don't include it in the management levels and vice versa. e.g if \"VP of Engineering\" is classified as title then don't include \"VP\" in management levels.\n",
    "\n",
    "Example:\n",
    "Query: \"Provide a list of CFOs and VPs working in the technology sector\"\n",
    "Output: {\"management_levels\": [\"VP\"], \"titles\": [\"Chief Financial Officer\", \"CFO\"]}\n",
    "\n",
    "Guidelines:\n",
    "- \"Leaders\" implies CSuite/President level\n",
    "- Titles without functional areas (e.g., \"Founder\", \"Managing Director\") go in titles list\n",
    "- Use knowledge base for educated guesses about classifications\n",
    "\n",
    "Query: \"{{query}}\"\n",
    "Output:\"\"\"\n"
   ]
  },
  {
   "cell_type": "code",
   "execution_count": 8,
   "metadata": {},
   "outputs": [],
   "source": [
    "import json\n",
    "\n",
    "def load_jsonl(file_path):\n",
    "    data = []\n",
    "    with open(file_path, 'r', encoding='utf-8') as file:\n",
    "        for line in file:\n",
    "            data.append(json.loads(line.strip()))\n",
    "    return data"
   ]
  },
  {
   "cell_type": "code",
   "execution_count": 9,
   "metadata": {},
   "outputs": [],
   "source": [
    "loaded_data = load_jsonl(\"onboarding_task_dataset.jsonl\")"
   ]
  },
  {
   "cell_type": "code",
   "execution_count": 25,
   "metadata": {},
   "outputs": [],
   "source": [
    "new_formatted_data = []"
   ]
  },
  {
   "cell_type": "code",
   "execution_count": 26,
   "metadata": {},
   "outputs": [],
   "source": [
    "for item in loaded_data:\n",
    "    user_message = Template(USER).render({\"query\": item[\"query\"]})\n",
    "    render_data = {\n",
    "        \"system\": SYSTEM,\n",
    "        \"user\": user_message,\n",
    "        \"assistant\": item[\"output\"]\n",
    "    }\n",
    "    new_formatted_data.append({\"text\":Template(PHI_TEMPLATE).render(render_data)})"
   ]
  },
  {
   "cell_type": "code",
   "execution_count": 27,
   "metadata": {},
   "outputs": [
    {
     "name": "stdout",
     "output_type": "stream",
     "text": [
      "{'text': '<|system|>\\nYou are an intelligent assistant dedicated to extracting management levels and job titles from user queries. Before doing so, you must understand what a functional area is.<|end|>\\n<|user|>\\n\\nDefinition of a Functional Area:\\n- A functional area is a department or group of personnel tasked with a specific organizational function. These include departments like finance, marketing, engineering, etc.\\n\\nDefinition of Management Level:\\n- A management level refers to a hierarchical position within an organization without a specific functional area. It encompasses broader titles that may include roles across different functional areas.\\n- Management levels include: \"Board of Directors,\" \"CSuite and President,\" \"Executive and Sr. VP,\" \"General Manager,\" \"VP,\" \"Director,\" \"Manager,\" \"Senior (Individual Contributor),\" \"Mid (Individual Contributor),\" and \"Junior.\"\\n\\nDefinition of a Job Title:\\n- A job title refers to a specific employment position combined with a functional area.\\n- Examples include \\'VP of Engineering\\' (functional area: Engineering) and \\'Director of Finance\\' (functional area: Finance).\\n\\nInstructions:\\n1. Management Levels: Only return management levels that match the predefined set: [\"Board of Directors,\" \"CSuite and President,\" \"Executive and Sr. VP,\" \"General Manager,\" \"VP,\" \"Director,\" \"Manager,\" \"Senior (Individual Contributor),\" \"Mid (Individual Contributor),\" \"Junior\"].\\n2. Job Titles: Normalize the job title after extracting it from the text. For example, convert \"ceo\" to \"Chief Executive Officer\" and include both the full title and its abbreviation if mentioned in the query, e.g., \"VP of Engineering\" and \"Vice President of Engineering.\"\\n3. Response Format: Your response must be a dictionary with two keys: \"management_levels\" and \"titles\". Each key should have a list of management levels and titles respectively.\\n4. If a keyword is classified as title, don\\'t include it in the management levels and vice versa. e.g if \"VP of Engineering\" is classified as title then don\\'t include \"VP\" in management levels.\\n\\nExample:\\nQuery: \"Provide a list of CFOs and VPs working in the technology sector\"\\nOutput: {\"management_levels\": [\"VP\"], \"titles\": [\"Chief Financial Officer\", \"CFO\"]}\\n\\nGuidelines:\\n- \"Leaders\" implies CSuite/President level\\n- Titles without functional areas (e.g., \"Founder\", \"Managing Director\") go in titles list\\n- Use knowledge base for educated guesses about classifications\\n\\nQuery: \"Find all VPs in tech companies\"\\nOutput:<|end|>\\n<|assistant|>{\\'management_level\\': [\\'VP\\'], \\'title\\': []}<|end|>'}\n"
     ]
    }
   ],
   "source": [
    "print(new_formatted_data[0])"
   ]
  },
  {
   "cell_type": "code",
   "execution_count": 28,
   "metadata": {},
   "outputs": [],
   "source": [
    "with open(\"onboarding_task_dataset_v3.jsonl\", 'w', encoding='utf-8') as f:\n",
    "        for item in new_formatted_data:\n",
    "            json_line = json.dumps(item)\n",
    "            f.write(json_line + '\\n')"
   ]
  },
  {
   "cell_type": "code",
   "execution_count": 31,
   "metadata": {},
   "outputs": [
    {
     "name": "stdout",
     "output_type": "stream",
     "text": [
      "Total Training Tokens: 1819682\n"
     ]
    }
   ],
   "source": [
    "count = 0\n",
    "for item in new_formatted_data:\n",
    "    count += len(item[\"text\"])\n",
    "print(\"Total Training Tokens:\", count)"
   ]
  },
  {
   "cell_type": "markdown",
   "metadata": {},
   "source": []
  }
 ],
 "metadata": {
  "kernelspec": {
   "display_name": "datumspeak",
   "language": "python",
   "name": "python3"
  },
  "language_info": {
   "codemirror_mode": {
    "name": "ipython",
    "version": 3
   },
   "file_extension": ".py",
   "mimetype": "text/x-python",
   "name": "python",
   "nbconvert_exporter": "python",
   "pygments_lexer": "ipython3",
   "version": "3.12.3"
  }
 },
 "nbformat": 4,
 "nbformat_minor": 2
}
